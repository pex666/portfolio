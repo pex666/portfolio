{
 "cells": [
  {
   "cell_type": "markdown",
   "metadata": {
    "id": "4mJbK1knrJgz"
   },
   "source": [
    "# Проект: Исследование стартапов"
   ]
  },
  {
   "cell_type": "markdown",
   "metadata": {
    "id": "P6j0r3worJg0"
   },
   "source": [
    "## Введение"
   ]
  },
  {
   "cell_type": "markdown",
   "metadata": {},
   "source": [
    "Я решил провести исследование на основании нескольких таблиц с данными о стартапах:\n",
    "— информация о самих стартапах и их финансировании различными фондами;\n",
    "— сведения о сотрудниках этих стартапов и их образовательном фоне.\n",
    "\n",
    "В ходе работы я поставил перед собой следующие задачи:\n",
    "\n",
    "оценить полноту и качество исходных данных;\n",
    "\n",
    "выполнить предобработку для дальнейшего анализа;\n",
    "\n",
    "проанализировать ключевые метрики, представляющие интерес;\n",
    "\n",
    "при возможности выделить признаки, наиболее сильно коррелирующие с успешной сделкой по покупке стартапа.\n",
    "\n",
    "Главная цель исследования — выявить стартапы с наибольшим потенциалом для последующего приобретения, развития и перепродажи."
   ]
  },
  {
   "cell_type": "markdown",
   "metadata": {
    "id": "xqr6uttCrJg0"
   },
   "source": [
    "\n",
    "## Шаг 1. Знакомство с данными: загрузка и первичная предобработка\n",
    "\n",
    "Названия файлов:\n",
    "* acquisition.csv\n",
    "* company_and_rounds.csv\n",
    "* degrees.csv\n",
    "* education.csv\n",
    "* fund.csv\n",
    "* investment.csv\n",
    "* people.csv\n",
    "\n",
    "### 1.1. Вывод общей информации, исправление названия столбцов"
   ]
  },
  {
   "cell_type": "code",
   "execution_count": 2,
   "metadata": {},
   "outputs": [
    {
     "name": "stderr",
     "output_type": "stream",
     "text": [
      "\n",
      "[notice] A new release of pip is available: 25.0.1 -> 25.1.1\n",
      "[notice] To update, run: python.exe -m pip install --upgrade pip\n"
     ]
    }
   ],
   "source": [
    "!pip install -q missingno "
   ]
  },
  {
   "cell_type": "code",
   "execution_count": 3,
   "metadata": {
    "id": "4u9np9gSnyqT"
   },
   "outputs": [],
   "source": [
    "import pandas as pd\n",
    "import matplotlib.pyplot as plt\n",
    "import matplotlib.ticker as mticker\n",
    "import seaborn as sns\n",
    "import numpy as np\n",
    "import missingno as msno"
   ]
  },
  {
   "cell_type": "code",
   "execution_count": 4,
   "metadata": {
    "id": "W_W4jRazrJg0"
   },
   "outputs": [],
   "source": [
    "acquisition = pd.read_csv('/datasets/acquisition.csv')\n",
    "company_and_rounds = pd.read_csv('/datasets/company_and_rounds.csv')\n",
    "degrees = pd.read_csv('/datasets/degrees.csv')\n",
    "education = pd.read_csv('/datasets/education.csv')\n",
    "fund = pd.read_csv('/datasets/fund.csv')\n",
    "investment = pd.read_csv('/datasets/investment.csv')\n",
    "people = pd.read_csv('/datasets/people.csv')"
   ]
  },
  {
   "cell_type": "code",
   "execution_count": 5,
   "metadata": {},
   "outputs": [
    {
     "name": "stdout",
     "output_type": "stream",
     "text": [
      "Index(['id', 'acquiring_company_id', 'acquired_company_id', 'term_code',\n",
      "       'price_amount', 'acquired_at'],\n",
      "      dtype='object')\n",
      "\n",
      "Index(['company  ID', 'name', 'category  code', 'status', 'founded  at',\n",
      "       'closed  at', 'domain', 'network  username', 'country  code',\n",
      "       'investment  rounds', 'funding  rounds', 'funding  total', 'milestones',\n",
      "       'funding  round  id', 'company  id', 'funded  at',\n",
      "       'funding  round  type', 'raised  amount', 'pre  money  valuation',\n",
      "       'participants', 'is  first  round', 'is  last  round'],\n",
      "      dtype='object')\n",
      "\n",
      "Index(['id', 'object_id', 'degree_type', 'subject'], dtype='object')\n",
      "\n",
      "Index(['id', 'person_id', 'instituition', 'graduated_at'], dtype='object')\n",
      "\n",
      "Index(['id', 'name', 'founded_at', 'domain', 'network_username',\n",
      "       'country_code', 'investment_rounds', 'invested_companies',\n",
      "       'milestones'],\n",
      "      dtype='object')\n",
      "\n",
      "Index(['id', 'funding_round_id', 'company_id', 'fund_id'], dtype='object')\n",
      "\n",
      "Index(['id', 'first_name', 'last_name', 'company_id', 'network_username'], dtype='object')\n",
      "\n"
     ]
    }
   ],
   "source": [
    "for df in [acquisition, company_and_rounds, degrees, education, fund, investment, people]:\n",
    "    print(df.columns)\n",
    "    print()"
   ]
  },
  {
   "cell_type": "markdown",
   "metadata": {},
   "source": [
    "Видим, что в датафрейме **company_and_rounds** столбцы не приведены к snake_case."
   ]
  },
  {
   "cell_type": "code",
   "execution_count": 6,
   "metadata": {},
   "outputs": [
    {
     "name": "stdout",
     "output_type": "stream",
     "text": [
      "<class 'pandas.core.frame.DataFrame'>\n",
      "RangeIndex: 9407 entries, 0 to 9406\n",
      "Data columns (total 6 columns):\n",
      " #   Column                Non-Null Count  Dtype \n",
      "---  ------                --------------  ----- \n",
      " 0   id                    9407 non-null   int64 \n",
      " 1   acquiring_company_id  9407 non-null   int64 \n",
      " 2   acquired_company_id   9407 non-null   int64 \n",
      " 3   term_code             1831 non-null   object\n",
      " 4   price_amount          9407 non-null   int64 \n",
      " 5   acquired_at           9378 non-null   object\n",
      "dtypes: int64(4), object(2)\n",
      "memory usage: 441.1+ KB\n"
     ]
    }
   ],
   "source": [
    "acquisition.info()"
   ]
  },
  {
   "cell_type": "code",
   "execution_count": 7,
   "metadata": {},
   "outputs": [
    {
     "data": {
      "text/html": [
       "<div>\n",
       "<style scoped>\n",
       "    .dataframe tbody tr th:only-of-type {\n",
       "        vertical-align: middle;\n",
       "    }\n",
       "\n",
       "    .dataframe tbody tr th {\n",
       "        vertical-align: top;\n",
       "    }\n",
       "\n",
       "    .dataframe thead th {\n",
       "        text-align: right;\n",
       "    }\n",
       "</style>\n",
       "<table border=\"1\" class=\"dataframe\">\n",
       "  <thead>\n",
       "    <tr style=\"text-align: right;\">\n",
       "      <th></th>\n",
       "      <th>id</th>\n",
       "      <th>acquiring_company_id</th>\n",
       "      <th>acquired_company_id</th>\n",
       "      <th>term_code</th>\n",
       "      <th>price_amount</th>\n",
       "      <th>acquired_at</th>\n",
       "    </tr>\n",
       "  </thead>\n",
       "  <tbody>\n",
       "    <tr>\n",
       "      <th>0</th>\n",
       "      <td>1</td>\n",
       "      <td>11</td>\n",
       "      <td>10</td>\n",
       "      <td>NaN</td>\n",
       "      <td>20000000</td>\n",
       "      <td>2007-05-30</td>\n",
       "    </tr>\n",
       "    <tr>\n",
       "      <th>1</th>\n",
       "      <td>7</td>\n",
       "      <td>59</td>\n",
       "      <td>72</td>\n",
       "      <td>cash</td>\n",
       "      <td>60000000</td>\n",
       "      <td>2007-07-01</td>\n",
       "    </tr>\n",
       "    <tr>\n",
       "      <th>2</th>\n",
       "      <td>8</td>\n",
       "      <td>24</td>\n",
       "      <td>132</td>\n",
       "      <td>cash</td>\n",
       "      <td>280000000</td>\n",
       "      <td>2007-05-01</td>\n",
       "    </tr>\n",
       "    <tr>\n",
       "      <th>3</th>\n",
       "      <td>9</td>\n",
       "      <td>59</td>\n",
       "      <td>155</td>\n",
       "      <td>cash</td>\n",
       "      <td>100000000</td>\n",
       "      <td>2007-06-01</td>\n",
       "    </tr>\n",
       "    <tr>\n",
       "      <th>4</th>\n",
       "      <td>10</td>\n",
       "      <td>212</td>\n",
       "      <td>215</td>\n",
       "      <td>cash</td>\n",
       "      <td>25000000</td>\n",
       "      <td>2007-07-01</td>\n",
       "    </tr>\n",
       "  </tbody>\n",
       "</table>\n",
       "</div>"
      ],
      "text/plain": [
       "   id  acquiring_company_id  acquired_company_id term_code  price_amount  \\\n",
       "0   1                    11                   10       NaN      20000000   \n",
       "1   7                    59                   72      cash      60000000   \n",
       "2   8                    24                  132      cash     280000000   \n",
       "3   9                    59                  155      cash     100000000   \n",
       "4  10                   212                  215      cash      25000000   \n",
       "\n",
       "  acquired_at  \n",
       "0  2007-05-30  \n",
       "1  2007-07-01  \n",
       "2  2007-05-01  \n",
       "3  2007-06-01  \n",
       "4  2007-07-01  "
      ]
     },
     "execution_count": 7,
     "metadata": {},
     "output_type": "execute_result"
    }
   ],
   "source": [
    "acquisition.head()"
   ]
  },
  {
   "cell_type": "code",
   "execution_count": 8,
   "metadata": {},
   "outputs": [
    {
     "data": {
      "text/html": [
       "<style type=\"text/css\">\n",
       "#T_5022d_row0_col0 {\n",
       "  background-color: #b40426;\n",
       "  color: #f1f1f1;\n",
       "}\n",
       "#T_5022d_row1_col0, #T_5022d_row2_col0, #T_5022d_row3_col0, #T_5022d_row4_col0, #T_5022d_row5_col0 {\n",
       "  background-color: #3b4cc0;\n",
       "  color: #f1f1f1;\n",
       "}\n",
       "</style>\n",
       "<table id=\"T_5022d\">\n",
       "  <thead>\n",
       "    <tr>\n",
       "      <th class=\"blank level0\" >&nbsp;</th>\n",
       "      <th id=\"T_5022d_level0_col0\" class=\"col_heading level0 col0\" >0</th>\n",
       "    </tr>\n",
       "  </thead>\n",
       "  <tbody>\n",
       "    <tr>\n",
       "      <th id=\"T_5022d_level0_row0\" class=\"row_heading level0 row0\" >term_code</th>\n",
       "      <td id=\"T_5022d_row0_col0\" class=\"data row0 col0\" >0.8054</td>\n",
       "    </tr>\n",
       "    <tr>\n",
       "      <th id=\"T_5022d_level0_row1\" class=\"row_heading level0 row1\" >acquired_at</th>\n",
       "      <td id=\"T_5022d_row1_col0\" class=\"data row1 col0\" >0.0031</td>\n",
       "    </tr>\n",
       "    <tr>\n",
       "      <th id=\"T_5022d_level0_row2\" class=\"row_heading level0 row2\" >id</th>\n",
       "      <td id=\"T_5022d_row2_col0\" class=\"data row2 col0\" >0.0000</td>\n",
       "    </tr>\n",
       "    <tr>\n",
       "      <th id=\"T_5022d_level0_row3\" class=\"row_heading level0 row3\" >acquiring_company_id</th>\n",
       "      <td id=\"T_5022d_row3_col0\" class=\"data row3 col0\" >0.0000</td>\n",
       "    </tr>\n",
       "    <tr>\n",
       "      <th id=\"T_5022d_level0_row4\" class=\"row_heading level0 row4\" >acquired_company_id</th>\n",
       "      <td id=\"T_5022d_row4_col0\" class=\"data row4 col0\" >0.0000</td>\n",
       "    </tr>\n",
       "    <tr>\n",
       "      <th id=\"T_5022d_level0_row5\" class=\"row_heading level0 row5\" >price_amount</th>\n",
       "      <td id=\"T_5022d_row5_col0\" class=\"data row5 col0\" >0.0000</td>\n",
       "    </tr>\n",
       "  </tbody>\n",
       "</table>\n"
      ],
      "text/plain": [
       "<pandas.io.formats.style.Styler at 0x1efa314c350>"
      ]
     },
     "execution_count": 8,
     "metadata": {},
     "output_type": "execute_result"
    }
   ],
   "source": [
    "acquisition.isna().mean().sort_values(ascending=False).to_frame().style.background_gradient(cmap='coolwarm').format(\"{:.4f}\")"
   ]
  },
  {
   "cell_type": "markdown",
   "metadata": {},
   "source": [
    "Проверим наличие явных дубликатов:"
   ]
  },
  {
   "cell_type": "code",
   "execution_count": 9,
   "metadata": {},
   "outputs": [
    {
     "data": {
      "text/plain": [
       "0"
      ]
     },
     "execution_count": 9,
     "metadata": {},
     "output_type": "execute_result"
    }
   ],
   "source": [
    "acquisition_duplicates = acquisition.duplicated()\n",
    "acquisition_duplicates.sum()"
   ]
  },
  {
   "cell_type": "markdown",
   "metadata": {},
   "source": [
    "Столбец **acquired_at** можно привести к datetime.  \n",
    "Явных дубликатов нет."
   ]
  },
  {
   "cell_type": "code",
   "execution_count": 10,
   "metadata": {},
   "outputs": [
    {
     "name": "stdout",
     "output_type": "stream",
     "text": [
      "<class 'pandas.core.frame.DataFrame'>\n",
      "RangeIndex: 217774 entries, 0 to 217773\n",
      "Data columns (total 22 columns):\n",
      " #   Column                 Non-Null Count   Dtype  \n",
      "---  ------                 --------------   -----  \n",
      " 0   company  ID            217472 non-null  float64\n",
      " 1   name                   217471 non-null  object \n",
      " 2   category  code         143886 non-null  object \n",
      " 3   status                 217472 non-null  object \n",
      " 4   founded  at            109956 non-null  object \n",
      " 5   closed  at             3449 non-null    object \n",
      " 6   domain                 147159 non-null  object \n",
      " 7   network  username      95534 non-null   object \n",
      " 8   country  code          108607 non-null  object \n",
      " 9   investment  rounds     217472 non-null  float64\n",
      " 10  funding  rounds        217472 non-null  float64\n",
      " 11  funding  total         217472 non-null  float64\n",
      " 12  milestones             217472 non-null  float64\n",
      " 13  funding  round  id     52928 non-null   float64\n",
      " 14  company  id            52928 non-null   float64\n",
      " 15  funded  at             52680 non-null   object \n",
      " 16  funding  round  type   52928 non-null   object \n",
      " 17  raised  amount         52928 non-null   float64\n",
      " 18  pre  money  valuation  52928 non-null   float64\n",
      " 19  participants           52928 non-null   float64\n",
      " 20  is  first  round       52928 non-null   float64\n",
      " 21  is  last  round        52928 non-null   float64\n",
      "dtypes: float64(12), object(10)\n",
      "memory usage: 36.6+ MB\n"
     ]
    }
   ],
   "source": [
    "company_and_rounds.info()"
   ]
  },
  {
   "cell_type": "code",
   "execution_count": 11,
   "metadata": {},
   "outputs": [
    {
     "data": {
      "text/html": [
       "<div>\n",
       "<style scoped>\n",
       "    .dataframe tbody tr th:only-of-type {\n",
       "        vertical-align: middle;\n",
       "    }\n",
       "\n",
       "    .dataframe tbody tr th {\n",
       "        vertical-align: top;\n",
       "    }\n",
       "\n",
       "    .dataframe thead th {\n",
       "        text-align: right;\n",
       "    }\n",
       "</style>\n",
       "<table border=\"1\" class=\"dataframe\">\n",
       "  <thead>\n",
       "    <tr style=\"text-align: right;\">\n",
       "      <th></th>\n",
       "      <th>0</th>\n",
       "      <th>1</th>\n",
       "      <th>2</th>\n",
       "      <th>3</th>\n",
       "      <th>4</th>\n",
       "    </tr>\n",
       "  </thead>\n",
       "  <tbody>\n",
       "    <tr>\n",
       "      <th>company  ID</th>\n",
       "      <td>1.0</td>\n",
       "      <td>1.0</td>\n",
       "      <td>1.0</td>\n",
       "      <td>10.0</td>\n",
       "      <td>100.0</td>\n",
       "    </tr>\n",
       "    <tr>\n",
       "      <th>name</th>\n",
       "      <td>Wetpaint</td>\n",
       "      <td>Wetpaint</td>\n",
       "      <td>Wetpaint</td>\n",
       "      <td>Flektor</td>\n",
       "      <td>There</td>\n",
       "    </tr>\n",
       "    <tr>\n",
       "      <th>category  code</th>\n",
       "      <td>web</td>\n",
       "      <td>web</td>\n",
       "      <td>web</td>\n",
       "      <td>games_video</td>\n",
       "      <td>games_video</td>\n",
       "    </tr>\n",
       "    <tr>\n",
       "      <th>status</th>\n",
       "      <td>operating</td>\n",
       "      <td>operating</td>\n",
       "      <td>operating</td>\n",
       "      <td>acquired</td>\n",
       "      <td>acquired</td>\n",
       "    </tr>\n",
       "    <tr>\n",
       "      <th>founded  at</th>\n",
       "      <td>2005-10-17</td>\n",
       "      <td>2005-10-17</td>\n",
       "      <td>2005-10-17</td>\n",
       "      <td>NaN</td>\n",
       "      <td>NaN</td>\n",
       "    </tr>\n",
       "    <tr>\n",
       "      <th>closed  at</th>\n",
       "      <td>NaN</td>\n",
       "      <td>NaN</td>\n",
       "      <td>NaN</td>\n",
       "      <td>NaN</td>\n",
       "      <td>NaN</td>\n",
       "    </tr>\n",
       "    <tr>\n",
       "      <th>domain</th>\n",
       "      <td>wetpaint-inc.com</td>\n",
       "      <td>wetpaint-inc.com</td>\n",
       "      <td>wetpaint-inc.com</td>\n",
       "      <td>flektor.com</td>\n",
       "      <td>there.com</td>\n",
       "    </tr>\n",
       "    <tr>\n",
       "      <th>network  username</th>\n",
       "      <td>BachelrWetpaint</td>\n",
       "      <td>BachelrWetpaint</td>\n",
       "      <td>BachelrWetpaint</td>\n",
       "      <td>NaN</td>\n",
       "      <td>NaN</td>\n",
       "    </tr>\n",
       "    <tr>\n",
       "      <th>country  code</th>\n",
       "      <td>USA</td>\n",
       "      <td>USA</td>\n",
       "      <td>USA</td>\n",
       "      <td>USA</td>\n",
       "      <td>USA</td>\n",
       "    </tr>\n",
       "    <tr>\n",
       "      <th>investment  rounds</th>\n",
       "      <td>0.0</td>\n",
       "      <td>0.0</td>\n",
       "      <td>0.0</td>\n",
       "      <td>0.0</td>\n",
       "      <td>0.0</td>\n",
       "    </tr>\n",
       "    <tr>\n",
       "      <th>funding  rounds</th>\n",
       "      <td>3.0</td>\n",
       "      <td>3.0</td>\n",
       "      <td>3.0</td>\n",
       "      <td>0.0</td>\n",
       "      <td>0.0</td>\n",
       "    </tr>\n",
       "    <tr>\n",
       "      <th>funding  total</th>\n",
       "      <td>39750000.0</td>\n",
       "      <td>39750000.0</td>\n",
       "      <td>39750000.0</td>\n",
       "      <td>0.0</td>\n",
       "      <td>0.0</td>\n",
       "    </tr>\n",
       "    <tr>\n",
       "      <th>milestones</th>\n",
       "      <td>5.0</td>\n",
       "      <td>5.0</td>\n",
       "      <td>5.0</td>\n",
       "      <td>0.0</td>\n",
       "      <td>4.0</td>\n",
       "    </tr>\n",
       "    <tr>\n",
       "      <th>funding  round  id</th>\n",
       "      <td>888.0</td>\n",
       "      <td>889.0</td>\n",
       "      <td>2312.0</td>\n",
       "      <td>NaN</td>\n",
       "      <td>NaN</td>\n",
       "    </tr>\n",
       "    <tr>\n",
       "      <th>company  id</th>\n",
       "      <td>1.0</td>\n",
       "      <td>1.0</td>\n",
       "      <td>1.0</td>\n",
       "      <td>NaN</td>\n",
       "      <td>NaN</td>\n",
       "    </tr>\n",
       "    <tr>\n",
       "      <th>funded  at</th>\n",
       "      <td>2005-10-01</td>\n",
       "      <td>2007-01-01</td>\n",
       "      <td>2008-05-19</td>\n",
       "      <td>NaN</td>\n",
       "      <td>NaN</td>\n",
       "    </tr>\n",
       "    <tr>\n",
       "      <th>funding  round  type</th>\n",
       "      <td>series-a</td>\n",
       "      <td>series-b</td>\n",
       "      <td>series-c+</td>\n",
       "      <td>NaN</td>\n",
       "      <td>NaN</td>\n",
       "    </tr>\n",
       "    <tr>\n",
       "      <th>raised  amount</th>\n",
       "      <td>5250000.0</td>\n",
       "      <td>9500000.0</td>\n",
       "      <td>25000000.0</td>\n",
       "      <td>NaN</td>\n",
       "      <td>NaN</td>\n",
       "    </tr>\n",
       "    <tr>\n",
       "      <th>pre  money  valuation</th>\n",
       "      <td>0.0</td>\n",
       "      <td>0.0</td>\n",
       "      <td>0.0</td>\n",
       "      <td>NaN</td>\n",
       "      <td>NaN</td>\n",
       "    </tr>\n",
       "    <tr>\n",
       "      <th>participants</th>\n",
       "      <td>2.0</td>\n",
       "      <td>3.0</td>\n",
       "      <td>4.0</td>\n",
       "      <td>NaN</td>\n",
       "      <td>NaN</td>\n",
       "    </tr>\n",
       "    <tr>\n",
       "      <th>is  first  round</th>\n",
       "      <td>0.0</td>\n",
       "      <td>0.0</td>\n",
       "      <td>1.0</td>\n",
       "      <td>NaN</td>\n",
       "      <td>NaN</td>\n",
       "    </tr>\n",
       "    <tr>\n",
       "      <th>is  last  round</th>\n",
       "      <td>1.0</td>\n",
       "      <td>0.0</td>\n",
       "      <td>0.0</td>\n",
       "      <td>NaN</td>\n",
       "      <td>NaN</td>\n",
       "    </tr>\n",
       "  </tbody>\n",
       "</table>\n",
       "</div>"
      ],
      "text/plain": [
       "                                      0                 1                 2  \\\n",
       "company  ID                         1.0               1.0               1.0   \n",
       "name                           Wetpaint          Wetpaint          Wetpaint   \n",
       "category  code                      web               web               web   \n",
       "status                        operating         operating         operating   \n",
       "founded  at                  2005-10-17        2005-10-17        2005-10-17   \n",
       "closed  at                          NaN               NaN               NaN   \n",
       "domain                 wetpaint-inc.com  wetpaint-inc.com  wetpaint-inc.com   \n",
       "network  username       BachelrWetpaint   BachelrWetpaint   BachelrWetpaint   \n",
       "country  code                       USA               USA               USA   \n",
       "investment  rounds                  0.0               0.0               0.0   \n",
       "funding  rounds                     3.0               3.0               3.0   \n",
       "funding  total               39750000.0        39750000.0        39750000.0   \n",
       "milestones                          5.0               5.0               5.0   \n",
       "funding  round  id                888.0             889.0            2312.0   \n",
       "company  id                         1.0               1.0               1.0   \n",
       "funded  at                   2005-10-01        2007-01-01        2008-05-19   \n",
       "funding  round  type           series-a          series-b         series-c+   \n",
       "raised  amount                5250000.0         9500000.0        25000000.0   \n",
       "pre  money  valuation               0.0               0.0               0.0   \n",
       "participants                        2.0               3.0               4.0   \n",
       "is  first  round                    0.0               0.0               1.0   \n",
       "is  last  round                     1.0               0.0               0.0   \n",
       "\n",
       "                                 3            4  \n",
       "company  ID                   10.0        100.0  \n",
       "name                       Flektor        There  \n",
       "category  code         games_video  games_video  \n",
       "status                    acquired     acquired  \n",
       "founded  at                    NaN          NaN  \n",
       "closed  at                     NaN          NaN  \n",
       "domain                 flektor.com    there.com  \n",
       "network  username              NaN          NaN  \n",
       "country  code                  USA          USA  \n",
       "investment  rounds             0.0          0.0  \n",
       "funding  rounds                0.0          0.0  \n",
       "funding  total                 0.0          0.0  \n",
       "milestones                     0.0          4.0  \n",
       "funding  round  id             NaN          NaN  \n",
       "company  id                    NaN          NaN  \n",
       "funded  at                     NaN          NaN  \n",
       "funding  round  type           NaN          NaN  \n",
       "raised  amount                 NaN          NaN  \n",
       "pre  money  valuation          NaN          NaN  \n",
       "participants                   NaN          NaN  \n",
       "is  first  round               NaN          NaN  \n",
       "is  last  round                NaN          NaN  "
      ]
     },
     "execution_count": 11,
     "metadata": {},
     "output_type": "execute_result"
    }
   ],
   "source": [
    "company_and_rounds.head().T"
   ]
  },
  {
   "cell_type": "code",
   "execution_count": 12,
   "metadata": {},
   "outputs": [
    {
     "data": {
      "text/plain": [
       "0"
      ]
     },
     "execution_count": 12,
     "metadata": {},
     "output_type": "execute_result"
    }
   ],
   "source": [
    "company_and_rounds[(company_and_rounds['company  ID'] != company_and_rounds['company  id']) &\n",
    "                   (company_and_rounds['company  ID'].notna()) &\n",
    "                   (company_and_rounds['company  id'].notna())]['company  ID'].count()"
   ]
  },
  {
   "cell_type": "code",
   "execution_count": 13,
   "metadata": {},
   "outputs": [
    {
     "data": {
      "text/html": [
       "<div>\n",
       "<style scoped>\n",
       "    .dataframe tbody tr th:only-of-type {\n",
       "        vertical-align: middle;\n",
       "    }\n",
       "\n",
       "    .dataframe tbody tr th {\n",
       "        vertical-align: top;\n",
       "    }\n",
       "\n",
       "    .dataframe thead th {\n",
       "        text-align: right;\n",
       "    }\n",
       "</style>\n",
       "<table border=\"1\" class=\"dataframe\">\n",
       "  <thead>\n",
       "    <tr style=\"text-align: right;\">\n",
       "      <th></th>\n",
       "      <th>company  ID</th>\n",
       "      <th>name</th>\n",
       "      <th>category  code</th>\n",
       "      <th>status</th>\n",
       "      <th>founded  at</th>\n",
       "      <th>closed  at</th>\n",
       "      <th>domain</th>\n",
       "      <th>network  username</th>\n",
       "      <th>country  code</th>\n",
       "      <th>investment  rounds</th>\n",
       "      <th>...</th>\n",
       "      <th>milestones</th>\n",
       "      <th>funding  round  id</th>\n",
       "      <th>company  id</th>\n",
       "      <th>funded  at</th>\n",
       "      <th>funding  round  type</th>\n",
       "      <th>raised  amount</th>\n",
       "      <th>pre  money  valuation</th>\n",
       "      <th>participants</th>\n",
       "      <th>is  first  round</th>\n",
       "      <th>is  last  round</th>\n",
       "    </tr>\n",
       "  </thead>\n",
       "  <tbody>\n",
       "    <tr>\n",
       "      <th>217472</th>\n",
       "      <td>NaN</td>\n",
       "      <td>NaN</td>\n",
       "      <td>NaN</td>\n",
       "      <td>NaN</td>\n",
       "      <td>NaN</td>\n",
       "      <td>NaN</td>\n",
       "      <td>NaN</td>\n",
       "      <td>NaN</td>\n",
       "      <td>NaN</td>\n",
       "      <td>NaN</td>\n",
       "      <td>...</td>\n",
       "      <td>NaN</td>\n",
       "      <td>457.0</td>\n",
       "      <td>1267.0</td>\n",
       "      <td>2005-01-01</td>\n",
       "      <td>series-a</td>\n",
       "      <td>48000000.0</td>\n",
       "      <td>0.0</td>\n",
       "      <td>2.0</td>\n",
       "      <td>1.0</td>\n",
       "      <td>1.0</td>\n",
       "    </tr>\n",
       "    <tr>\n",
       "      <th>217473</th>\n",
       "      <td>NaN</td>\n",
       "      <td>NaN</td>\n",
       "      <td>NaN</td>\n",
       "      <td>NaN</td>\n",
       "      <td>NaN</td>\n",
       "      <td>NaN</td>\n",
       "      <td>NaN</td>\n",
       "      <td>NaN</td>\n",
       "      <td>NaN</td>\n",
       "      <td>NaN</td>\n",
       "      <td>...</td>\n",
       "      <td>NaN</td>\n",
       "      <td>471.0</td>\n",
       "      <td>558.0</td>\n",
       "      <td>2007-01-01</td>\n",
       "      <td>angel</td>\n",
       "      <td>300000.0</td>\n",
       "      <td>0.0</td>\n",
       "      <td>1.0</td>\n",
       "      <td>1.0</td>\n",
       "      <td>1.0</td>\n",
       "    </tr>\n",
       "    <tr>\n",
       "      <th>217474</th>\n",
       "      <td>NaN</td>\n",
       "      <td>NaN</td>\n",
       "      <td>NaN</td>\n",
       "      <td>NaN</td>\n",
       "      <td>NaN</td>\n",
       "      <td>NaN</td>\n",
       "      <td>NaN</td>\n",
       "      <td>NaN</td>\n",
       "      <td>NaN</td>\n",
       "      <td>NaN</td>\n",
       "      <td>...</td>\n",
       "      <td>NaN</td>\n",
       "      <td>575.0</td>\n",
       "      <td>746.0</td>\n",
       "      <td>2004-09-01</td>\n",
       "      <td>angel</td>\n",
       "      <td>0.0</td>\n",
       "      <td>0.0</td>\n",
       "      <td>0.0</td>\n",
       "      <td>1.0</td>\n",
       "      <td>1.0</td>\n",
       "    </tr>\n",
       "    <tr>\n",
       "      <th>217475</th>\n",
       "      <td>NaN</td>\n",
       "      <td>NaN</td>\n",
       "      <td>NaN</td>\n",
       "      <td>NaN</td>\n",
       "      <td>NaN</td>\n",
       "      <td>NaN</td>\n",
       "      <td>NaN</td>\n",
       "      <td>NaN</td>\n",
       "      <td>NaN</td>\n",
       "      <td>NaN</td>\n",
       "      <td>...</td>\n",
       "      <td>NaN</td>\n",
       "      <td>577.0</td>\n",
       "      <td>748.0</td>\n",
       "      <td>2007-01-01</td>\n",
       "      <td>series-a</td>\n",
       "      <td>1500000.0</td>\n",
       "      <td>2250000.0</td>\n",
       "      <td>0.0</td>\n",
       "      <td>1.0</td>\n",
       "      <td>1.0</td>\n",
       "    </tr>\n",
       "    <tr>\n",
       "      <th>217476</th>\n",
       "      <td>NaN</td>\n",
       "      <td>NaN</td>\n",
       "      <td>NaN</td>\n",
       "      <td>NaN</td>\n",
       "      <td>NaN</td>\n",
       "      <td>NaN</td>\n",
       "      <td>NaN</td>\n",
       "      <td>NaN</td>\n",
       "      <td>NaN</td>\n",
       "      <td>NaN</td>\n",
       "      <td>...</td>\n",
       "      <td>NaN</td>\n",
       "      <td>597.0</td>\n",
       "      <td>804.0</td>\n",
       "      <td>2007-06-01</td>\n",
       "      <td>series-a</td>\n",
       "      <td>6000000.0</td>\n",
       "      <td>0.0</td>\n",
       "      <td>2.0</td>\n",
       "      <td>1.0</td>\n",
       "      <td>1.0</td>\n",
       "    </tr>\n",
       "    <tr>\n",
       "      <th>...</th>\n",
       "      <td>...</td>\n",
       "      <td>...</td>\n",
       "      <td>...</td>\n",
       "      <td>...</td>\n",
       "      <td>...</td>\n",
       "      <td>...</td>\n",
       "      <td>...</td>\n",
       "      <td>...</td>\n",
       "      <td>...</td>\n",
       "      <td>...</td>\n",
       "      <td>...</td>\n",
       "      <td>...</td>\n",
       "      <td>...</td>\n",
       "      <td>...</td>\n",
       "      <td>...</td>\n",
       "      <td>...</td>\n",
       "      <td>...</td>\n",
       "      <td>...</td>\n",
       "      <td>...</td>\n",
       "      <td>...</td>\n",
       "      <td>...</td>\n",
       "    </tr>\n",
       "    <tr>\n",
       "      <th>217769</th>\n",
       "      <td>NaN</td>\n",
       "      <td>NaN</td>\n",
       "      <td>NaN</td>\n",
       "      <td>NaN</td>\n",
       "      <td>NaN</td>\n",
       "      <td>NaN</td>\n",
       "      <td>NaN</td>\n",
       "      <td>NaN</td>\n",
       "      <td>NaN</td>\n",
       "      <td>NaN</td>\n",
       "      <td>...</td>\n",
       "      <td>NaN</td>\n",
       "      <td>56454.0</td>\n",
       "      <td>282847.0</td>\n",
       "      <td>2011-01-31</td>\n",
       "      <td>other</td>\n",
       "      <td>5500000.0</td>\n",
       "      <td>0.0</td>\n",
       "      <td>0.0</td>\n",
       "      <td>1.0</td>\n",
       "      <td>1.0</td>\n",
       "    </tr>\n",
       "    <tr>\n",
       "      <th>217770</th>\n",
       "      <td>NaN</td>\n",
       "      <td>NaN</td>\n",
       "      <td>NaN</td>\n",
       "      <td>NaN</td>\n",
       "      <td>NaN</td>\n",
       "      <td>NaN</td>\n",
       "      <td>NaN</td>\n",
       "      <td>NaN</td>\n",
       "      <td>NaN</td>\n",
       "      <td>NaN</td>\n",
       "      <td>...</td>\n",
       "      <td>NaN</td>\n",
       "      <td>56542.0</td>\n",
       "      <td>55477.0</td>\n",
       "      <td>2011-01-13</td>\n",
       "      <td>venture</td>\n",
       "      <td>10633300.0</td>\n",
       "      <td>0.0</td>\n",
       "      <td>0.0</td>\n",
       "      <td>0.0</td>\n",
       "      <td>1.0</td>\n",
       "    </tr>\n",
       "    <tr>\n",
       "      <th>217771</th>\n",
       "      <td>NaN</td>\n",
       "      <td>NaN</td>\n",
       "      <td>NaN</td>\n",
       "      <td>NaN</td>\n",
       "      <td>NaN</td>\n",
       "      <td>NaN</td>\n",
       "      <td>NaN</td>\n",
       "      <td>NaN</td>\n",
       "      <td>NaN</td>\n",
       "      <td>NaN</td>\n",
       "      <td>...</td>\n",
       "      <td>NaN</td>\n",
       "      <td>56543.0</td>\n",
       "      <td>55477.0</td>\n",
       "      <td>2012-05-31</td>\n",
       "      <td>venture</td>\n",
       "      <td>2125720.0</td>\n",
       "      <td>0.0</td>\n",
       "      <td>0.0</td>\n",
       "      <td>1.0</td>\n",
       "      <td>0.0</td>\n",
       "    </tr>\n",
       "    <tr>\n",
       "      <th>217772</th>\n",
       "      <td>NaN</td>\n",
       "      <td>NaN</td>\n",
       "      <td>NaN</td>\n",
       "      <td>NaN</td>\n",
       "      <td>NaN</td>\n",
       "      <td>NaN</td>\n",
       "      <td>NaN</td>\n",
       "      <td>NaN</td>\n",
       "      <td>NaN</td>\n",
       "      <td>NaN</td>\n",
       "      <td>...</td>\n",
       "      <td>NaN</td>\n",
       "      <td>56928.0</td>\n",
       "      <td>283492.0</td>\n",
       "      <td>2013-12-03</td>\n",
       "      <td>venture</td>\n",
       "      <td>3602480.0</td>\n",
       "      <td>0.0</td>\n",
       "      <td>5.0</td>\n",
       "      <td>1.0</td>\n",
       "      <td>1.0</td>\n",
       "    </tr>\n",
       "    <tr>\n",
       "      <th>217773</th>\n",
       "      <td>NaN</td>\n",
       "      <td>NaN</td>\n",
       "      <td>NaN</td>\n",
       "      <td>NaN</td>\n",
       "      <td>NaN</td>\n",
       "      <td>NaN</td>\n",
       "      <td>NaN</td>\n",
       "      <td>NaN</td>\n",
       "      <td>NaN</td>\n",
       "      <td>NaN</td>\n",
       "      <td>...</td>\n",
       "      <td>NaN</td>\n",
       "      <td>57063.0</td>\n",
       "      <td>284191.0</td>\n",
       "      <td>2013-12-04</td>\n",
       "      <td>venture</td>\n",
       "      <td>7000000.0</td>\n",
       "      <td>0.0</td>\n",
       "      <td>4.0</td>\n",
       "      <td>1.0</td>\n",
       "      <td>1.0</td>\n",
       "    </tr>\n",
       "  </tbody>\n",
       "</table>\n",
       "<p>302 rows × 22 columns</p>\n",
       "</div>"
      ],
      "text/plain": [
       "        company  ID name category  code status founded  at closed  at domain  \\\n",
       "217472          NaN  NaN            NaN    NaN         NaN        NaN    NaN   \n",
       "217473          NaN  NaN            NaN    NaN         NaN        NaN    NaN   \n",
       "217474          NaN  NaN            NaN    NaN         NaN        NaN    NaN   \n",
       "217475          NaN  NaN            NaN    NaN         NaN        NaN    NaN   \n",
       "217476          NaN  NaN            NaN    NaN         NaN        NaN    NaN   \n",
       "...             ...  ...            ...    ...         ...        ...    ...   \n",
       "217769          NaN  NaN            NaN    NaN         NaN        NaN    NaN   \n",
       "217770          NaN  NaN            NaN    NaN         NaN        NaN    NaN   \n",
       "217771          NaN  NaN            NaN    NaN         NaN        NaN    NaN   \n",
       "217772          NaN  NaN            NaN    NaN         NaN        NaN    NaN   \n",
       "217773          NaN  NaN            NaN    NaN         NaN        NaN    NaN   \n",
       "\n",
       "       network  username country  code  investment  rounds  ...  milestones  \\\n",
       "217472               NaN           NaN                 NaN  ...         NaN   \n",
       "217473               NaN           NaN                 NaN  ...         NaN   \n",
       "217474               NaN           NaN                 NaN  ...         NaN   \n",
       "217475               NaN           NaN                 NaN  ...         NaN   \n",
       "217476               NaN           NaN                 NaN  ...         NaN   \n",
       "...                  ...           ...                 ...  ...         ...   \n",
       "217769               NaN           NaN                 NaN  ...         NaN   \n",
       "217770               NaN           NaN                 NaN  ...         NaN   \n",
       "217771               NaN           NaN                 NaN  ...         NaN   \n",
       "217772               NaN           NaN                 NaN  ...         NaN   \n",
       "217773               NaN           NaN                 NaN  ...         NaN   \n",
       "\n",
       "        funding  round  id  company  id  funded  at  funding  round  type  \\\n",
       "217472               457.0       1267.0  2005-01-01              series-a   \n",
       "217473               471.0        558.0  2007-01-01                 angel   \n",
       "217474               575.0        746.0  2004-09-01                 angel   \n",
       "217475               577.0        748.0  2007-01-01              series-a   \n",
       "217476               597.0        804.0  2007-06-01              series-a   \n",
       "...                    ...          ...         ...                   ...   \n",
       "217769             56454.0     282847.0  2011-01-31                 other   \n",
       "217770             56542.0      55477.0  2011-01-13               venture   \n",
       "217771             56543.0      55477.0  2012-05-31               venture   \n",
       "217772             56928.0     283492.0  2013-12-03               venture   \n",
       "217773             57063.0     284191.0  2013-12-04               venture   \n",
       "\n",
       "       raised  amount pre  money  valuation  participants  is  first  round  \\\n",
       "217472     48000000.0                   0.0           2.0               1.0   \n",
       "217473       300000.0                   0.0           1.0               1.0   \n",
       "217474            0.0                   0.0           0.0               1.0   \n",
       "217475      1500000.0             2250000.0           0.0               1.0   \n",
       "217476      6000000.0                   0.0           2.0               1.0   \n",
       "...               ...                   ...           ...               ...   \n",
       "217769      5500000.0                   0.0           0.0               1.0   \n",
       "217770     10633300.0                   0.0           0.0               0.0   \n",
       "217771      2125720.0                   0.0           0.0               1.0   \n",
       "217772      3602480.0                   0.0           5.0               1.0   \n",
       "217773      7000000.0                   0.0           4.0               1.0   \n",
       "\n",
       "        is  last  round  \n",
       "217472              1.0  \n",
       "217473              1.0  \n",
       "217474              1.0  \n",
       "217475              1.0  \n",
       "217476              1.0  \n",
       "...                 ...  \n",
       "217769              1.0  \n",
       "217770              1.0  \n",
       "217771              0.0  \n",
       "217772              1.0  \n",
       "217773              1.0  \n",
       "\n",
       "[302 rows x 22 columns]"
      ]
     },
     "execution_count": 13,
     "metadata": {},
     "output_type": "execute_result"
    }
   ],
   "source": [
    "company_and_rounds[(company_and_rounds['company  ID'] != company_and_rounds['company  id']) &\n",
    "                   (company_and_rounds['company  ID'].isna()) &\n",
    "                   (company_and_rounds['company  id'].notna())]"
   ]
  },
  {
   "cell_type": "markdown",
   "metadata": {},
   "source": [
    "Выводим те данные, где нет пропусков и где столбцы **company_ID** и **company_id** НЕ равны и видим, что таких данных нет.  \n",
    "Значит, эти столбцы связаны. Но есть одна особенность, есть строки, где значения встречаются либо в первом, либо во втором столбце."
   ]
  },
  {
   "cell_type": "code",
   "execution_count": 14,
   "metadata": {
    "scrolled": true
   },
   "outputs": [
    {
     "data": {
      "text/html": [
       "<style type=\"text/css\">\n",
       "#T_40b1f_row0_col0 {\n",
       "  background-color: #b40426;\n",
       "  color: #f1f1f1;\n",
       "}\n",
       "#T_40b1f_row1_col0 {\n",
       "  background-color: #f29072;\n",
       "  color: #f1f1f1;\n",
       "}\n",
       "#T_40b1f_row2_col0, #T_40b1f_row3_col0, #T_40b1f_row4_col0, #T_40b1f_row5_col0, #T_40b1f_row6_col0, #T_40b1f_row7_col0, #T_40b1f_row8_col0, #T_40b1f_row9_col0 {\n",
       "  background-color: #f29274;\n",
       "  color: #f1f1f1;\n",
       "}\n",
       "#T_40b1f_row10_col0 {\n",
       "  background-color: #edd2c3;\n",
       "  color: #000000;\n",
       "}\n",
       "#T_40b1f_row11_col0 {\n",
       "  background-color: #dfdbd9;\n",
       "  color: #000000;\n",
       "}\n",
       "#T_40b1f_row12_col0 {\n",
       "  background-color: #dddcdc;\n",
       "  color: #000000;\n",
       "}\n",
       "#T_40b1f_row13_col0 {\n",
       "  background-color: #aec9fc;\n",
       "  color: #000000;\n",
       "}\n",
       "#T_40b1f_row14_col0 {\n",
       "  background-color: #a9c6fd;\n",
       "  color: #000000;\n",
       "}\n",
       "#T_40b1f_row15_col0, #T_40b1f_row16_col0, #T_40b1f_row17_col0, #T_40b1f_row18_col0, #T_40b1f_row19_col0, #T_40b1f_row20_col0, #T_40b1f_row21_col0 {\n",
       "  background-color: #3b4cc0;\n",
       "  color: #f1f1f1;\n",
       "}\n",
       "</style>\n",
       "<table id=\"T_40b1f\">\n",
       "  <thead>\n",
       "    <tr>\n",
       "      <th class=\"blank level0\" >&nbsp;</th>\n",
       "      <th id=\"T_40b1f_level0_col0\" class=\"col_heading level0 col0\" >0</th>\n",
       "    </tr>\n",
       "  </thead>\n",
       "  <tbody>\n",
       "    <tr>\n",
       "      <th id=\"T_40b1f_level0_row0\" class=\"row_heading level0 row0\" >closed  at</th>\n",
       "      <td id=\"T_40b1f_row0_col0\" class=\"data row0 col0\" >0.9842</td>\n",
       "    </tr>\n",
       "    <tr>\n",
       "      <th id=\"T_40b1f_level0_row1\" class=\"row_heading level0 row1\" >funded  at</th>\n",
       "      <td id=\"T_40b1f_row1_col0\" class=\"data row1 col0\" >0.7581</td>\n",
       "    </tr>\n",
       "    <tr>\n",
       "      <th id=\"T_40b1f_level0_row2\" class=\"row_heading level0 row2\" >is  last  round</th>\n",
       "      <td id=\"T_40b1f_row2_col0\" class=\"data row2 col0\" >0.7570</td>\n",
       "    </tr>\n",
       "    <tr>\n",
       "      <th id=\"T_40b1f_level0_row3\" class=\"row_heading level0 row3\" >funding  round  type</th>\n",
       "      <td id=\"T_40b1f_row3_col0\" class=\"data row3 col0\" >0.7570</td>\n",
       "    </tr>\n",
       "    <tr>\n",
       "      <th id=\"T_40b1f_level0_row4\" class=\"row_heading level0 row4\" >is  first  round</th>\n",
       "      <td id=\"T_40b1f_row4_col0\" class=\"data row4 col0\" >0.7570</td>\n",
       "    </tr>\n",
       "    <tr>\n",
       "      <th id=\"T_40b1f_level0_row5\" class=\"row_heading level0 row5\" >participants</th>\n",
       "      <td id=\"T_40b1f_row5_col0\" class=\"data row5 col0\" >0.7570</td>\n",
       "    </tr>\n",
       "    <tr>\n",
       "      <th id=\"T_40b1f_level0_row6\" class=\"row_heading level0 row6\" >pre  money  valuation</th>\n",
       "      <td id=\"T_40b1f_row6_col0\" class=\"data row6 col0\" >0.7570</td>\n",
       "    </tr>\n",
       "    <tr>\n",
       "      <th id=\"T_40b1f_level0_row7\" class=\"row_heading level0 row7\" >raised  amount</th>\n",
       "      <td id=\"T_40b1f_row7_col0\" class=\"data row7 col0\" >0.7570</td>\n",
       "    </tr>\n",
       "    <tr>\n",
       "      <th id=\"T_40b1f_level0_row8\" class=\"row_heading level0 row8\" >funding  round  id</th>\n",
       "      <td id=\"T_40b1f_row8_col0\" class=\"data row8 col0\" >0.7570</td>\n",
       "    </tr>\n",
       "    <tr>\n",
       "      <th id=\"T_40b1f_level0_row9\" class=\"row_heading level0 row9\" >company  id</th>\n",
       "      <td id=\"T_40b1f_row9_col0\" class=\"data row9 col0\" >0.7570</td>\n",
       "    </tr>\n",
       "    <tr>\n",
       "      <th id=\"T_40b1f_level0_row10\" class=\"row_heading level0 row10\" >network  username</th>\n",
       "      <td id=\"T_40b1f_row10_col0\" class=\"data row10 col0\" >0.5613</td>\n",
       "    </tr>\n",
       "    <tr>\n",
       "      <th id=\"T_40b1f_level0_row11\" class=\"row_heading level0 row11\" >country  code</th>\n",
       "      <td id=\"T_40b1f_row11_col0\" class=\"data row11 col0\" >0.5013</td>\n",
       "    </tr>\n",
       "    <tr>\n",
       "      <th id=\"T_40b1f_level0_row12\" class=\"row_heading level0 row12\" >founded  at</th>\n",
       "      <td id=\"T_40b1f_row12_col0\" class=\"data row12 col0\" >0.4951</td>\n",
       "    </tr>\n",
       "    <tr>\n",
       "      <th id=\"T_40b1f_level0_row13\" class=\"row_heading level0 row13\" >category  code</th>\n",
       "      <td id=\"T_40b1f_row13_col0\" class=\"data row13 col0\" >0.3393</td>\n",
       "    </tr>\n",
       "    <tr>\n",
       "      <th id=\"T_40b1f_level0_row14\" class=\"row_heading level0 row14\" >domain</th>\n",
       "      <td id=\"T_40b1f_row14_col0\" class=\"data row14 col0\" >0.3243</td>\n",
       "    </tr>\n",
       "    <tr>\n",
       "      <th id=\"T_40b1f_level0_row15\" class=\"row_heading level0 row15\" >name</th>\n",
       "      <td id=\"T_40b1f_row15_col0\" class=\"data row15 col0\" >0.0014</td>\n",
       "    </tr>\n",
       "    <tr>\n",
       "      <th id=\"T_40b1f_level0_row16\" class=\"row_heading level0 row16\" >company  ID</th>\n",
       "      <td id=\"T_40b1f_row16_col0\" class=\"data row16 col0\" >0.0014</td>\n",
       "    </tr>\n",
       "    <tr>\n",
       "      <th id=\"T_40b1f_level0_row17\" class=\"row_heading level0 row17\" >milestones</th>\n",
       "      <td id=\"T_40b1f_row17_col0\" class=\"data row17 col0\" >0.0014</td>\n",
       "    </tr>\n",
       "    <tr>\n",
       "      <th id=\"T_40b1f_level0_row18\" class=\"row_heading level0 row18\" >funding  rounds</th>\n",
       "      <td id=\"T_40b1f_row18_col0\" class=\"data row18 col0\" >0.0014</td>\n",
       "    </tr>\n",
       "    <tr>\n",
       "      <th id=\"T_40b1f_level0_row19\" class=\"row_heading level0 row19\" >investment  rounds</th>\n",
       "      <td id=\"T_40b1f_row19_col0\" class=\"data row19 col0\" >0.0014</td>\n",
       "    </tr>\n",
       "    <tr>\n",
       "      <th id=\"T_40b1f_level0_row20\" class=\"row_heading level0 row20\" >status</th>\n",
       "      <td id=\"T_40b1f_row20_col0\" class=\"data row20 col0\" >0.0014</td>\n",
       "    </tr>\n",
       "    <tr>\n",
       "      <th id=\"T_40b1f_level0_row21\" class=\"row_heading level0 row21\" >funding  total</th>\n",
       "      <td id=\"T_40b1f_row21_col0\" class=\"data row21 col0\" >0.0014</td>\n",
       "    </tr>\n",
       "  </tbody>\n",
       "</table>\n"
      ],
      "text/plain": [
       "<pandas.io.formats.style.Styler at 0x1efa4fd0590>"
      ]
     },
     "execution_count": 14,
     "metadata": {},
     "output_type": "execute_result"
    }
   ],
   "source": [
    "company_and_rounds.isna().mean().sort_values(ascending=False).to_frame().style.background_gradient(cmap='coolwarm').format(\"{:.4f}\")"
   ]
  },
  {
   "cell_type": "code",
   "execution_count": 15,
   "metadata": {},
   "outputs": [
    {
     "data": {
      "text/plain": [
       "array([  0.,   1.,   3.,  32.,   2.,   4.,   9.,  30.,  17.,   7.,   6.,\n",
       "         8.,  18.,   5.,  25.,  19.,  49.,  21.,  16.,  14.,  37.,  96.,\n",
       "        22.,  10.,  12., 478.,  15.,  89.,  11.,  24., 297.,  20.,  29.,\n",
       "       125.,  33.,  40.,  38.,  68.,  13.,  44.,  58.,  51.,  nan])"
      ]
     },
     "execution_count": 15,
     "metadata": {},
     "output_type": "execute_result"
    }
   ],
   "source": [
    "company_and_rounds['investment  rounds'].unique()"
   ]
  },
  {
   "cell_type": "code",
   "execution_count": 16,
   "metadata": {},
   "outputs": [
    {
     "data": {
      "text/plain": [
       "array([ 3.,  0.,  1.,  5.,  2.,  7.,  4.,  6.,  8., 10.,  9., 13., 11.,\n",
       "       15., 14., 12., nan])"
      ]
     },
     "execution_count": 16,
     "metadata": {},
     "output_type": "execute_result"
    }
   ],
   "source": [
    "company_and_rounds['funding  rounds'].unique()"
   ]
  },
  {
   "cell_type": "code",
   "execution_count": 17,
   "metadata": {},
   "outputs": [
    {
     "data": {
      "text/plain": [
       "array([ 5.,  0.,  4.,  1.,  3.,  2.,  6.,  8.,  7.,  9., nan])"
      ]
     },
     "execution_count": 17,
     "metadata": {},
     "output_type": "execute_result"
    }
   ],
   "source": [
    "company_and_rounds['milestones'].unique()"
   ]
  },
  {
   "cell_type": "markdown",
   "metadata": {},
   "source": [
    "Проверим наличие явных дубликатов:"
   ]
  },
  {
   "cell_type": "code",
   "execution_count": 18,
   "metadata": {},
   "outputs": [
    {
     "data": {
      "text/plain": [
       "0"
      ]
     },
     "execution_count": 18,
     "metadata": {},
     "output_type": "execute_result"
    }
   ],
   "source": [
    "company_and_rounds_duplicates = company_and_rounds.duplicated()\n",
    "company_and_rounds_duplicates.sum()"
   ]
  },
  {
   "cell_type": "markdown",
   "metadata": {},
   "source": [
    "В датафрейме **company_and_rounds** следует изменить тип данных у следующих столбцов:\n",
    "- **founded at**, **closed at**, **funded at** на datetime\n",
    "- **company  ID**, **investment  rounds**, **funding  rounds**, **milestones** после работы пропусками можно изменить на int.\n",
    "\n",
    "В остальных столбцах слишком много пропусков, чтобы изменить тип их данных.  \n",
    "Явных дубликатов нет."
   ]
  },
  {
   "cell_type": "code",
   "execution_count": 19,
   "metadata": {},
   "outputs": [
    {
     "name": "stdout",
     "output_type": "stream",
     "text": [
      "<class 'pandas.core.frame.DataFrame'>\n",
      "RangeIndex: 226709 entries, 0 to 226708\n",
      "Data columns (total 5 columns):\n",
      " #   Column            Non-Null Count   Dtype  \n",
      "---  ------            --------------   -----  \n",
      " 0   id                226709 non-null  int64  \n",
      " 1   first_name        226700 non-null  object \n",
      " 2   last_name         226705 non-null  object \n",
      " 3   company_id        34615 non-null   float64\n",
      " 4   network_username  38867 non-null   object \n",
      "dtypes: float64(1), int64(1), object(3)\n",
      "memory usage: 8.6+ MB\n"
     ]
    }
   ],
   "source": [
    "people.info()"
   ]
  },
  {
   "cell_type": "code",
   "execution_count": 20,
   "metadata": {},
   "outputs": [
    {
     "data": {
      "text/html": [
       "<div>\n",
       "<style scoped>\n",
       "    .dataframe tbody tr th:only-of-type {\n",
       "        vertical-align: middle;\n",
       "    }\n",
       "\n",
       "    .dataframe tbody tr th {\n",
       "        vertical-align: top;\n",
       "    }\n",
       "\n",
       "    .dataframe thead th {\n",
       "        text-align: right;\n",
       "    }\n",
       "</style>\n",
       "<table border=\"1\" class=\"dataframe\">\n",
       "  <thead>\n",
       "    <tr style=\"text-align: right;\">\n",
       "      <th></th>\n",
       "      <th>id</th>\n",
       "      <th>first_name</th>\n",
       "      <th>last_name</th>\n",
       "      <th>company_id</th>\n",
       "      <th>network_username</th>\n",
       "    </tr>\n",
       "  </thead>\n",
       "  <tbody>\n",
       "    <tr>\n",
       "      <th>0</th>\n",
       "      <td>10</td>\n",
       "      <td>Mark</td>\n",
       "      <td>Zuckerberg</td>\n",
       "      <td>5.0</td>\n",
       "      <td>NaN</td>\n",
       "    </tr>\n",
       "    <tr>\n",
       "      <th>1</th>\n",
       "      <td>100</td>\n",
       "      <td>Peter</td>\n",
       "      <td>Lester</td>\n",
       "      <td>27.0</td>\n",
       "      <td>NaN</td>\n",
       "    </tr>\n",
       "    <tr>\n",
       "      <th>2</th>\n",
       "      <td>1000</td>\n",
       "      <td>Dr. Steven</td>\n",
       "      <td>E. Saunders</td>\n",
       "      <td>292.0</td>\n",
       "      <td>NaN</td>\n",
       "    </tr>\n",
       "    <tr>\n",
       "      <th>3</th>\n",
       "      <td>10000</td>\n",
       "      <td>Neil</td>\n",
       "      <td>Capel</td>\n",
       "      <td>2526.0</td>\n",
       "      <td>NaN</td>\n",
       "    </tr>\n",
       "    <tr>\n",
       "      <th>4</th>\n",
       "      <td>100000</td>\n",
       "      <td>Sue</td>\n",
       "      <td>Pilsch</td>\n",
       "      <td>NaN</td>\n",
       "      <td>NaN</td>\n",
       "    </tr>\n",
       "  </tbody>\n",
       "</table>\n",
       "</div>"
      ],
      "text/plain": [
       "       id  first_name    last_name  company_id network_username\n",
       "0      10        Mark   Zuckerberg         5.0              NaN\n",
       "1     100       Peter       Lester        27.0              NaN\n",
       "2    1000  Dr. Steven  E. Saunders       292.0              NaN\n",
       "3   10000        Neil        Capel      2526.0              NaN\n",
       "4  100000         Sue       Pilsch         NaN              NaN"
      ]
     },
     "execution_count": 20,
     "metadata": {},
     "output_type": "execute_result"
    }
   ],
   "source": [
    "people.head()"
   ]
  },
  {
   "cell_type": "code",
   "execution_count": 21,
   "metadata": {
    "scrolled": true
   },
   "outputs": [
    {
     "data": {
      "text/html": [
       "<style type=\"text/css\">\n",
       "#T_673bf_row0_col0 {\n",
       "  background-color: #b40426;\n",
       "  color: #f1f1f1;\n",
       "}\n",
       "#T_673bf_row1_col0 {\n",
       "  background-color: #bb1b2c;\n",
       "  color: #f1f1f1;\n",
       "}\n",
       "#T_673bf_row2_col0, #T_673bf_row3_col0, #T_673bf_row4_col0 {\n",
       "  background-color: #3b4cc0;\n",
       "  color: #f1f1f1;\n",
       "}\n",
       "</style>\n",
       "<table id=\"T_673bf\">\n",
       "  <thead>\n",
       "    <tr>\n",
       "      <th class=\"blank level0\" >&nbsp;</th>\n",
       "      <th id=\"T_673bf_level0_col0\" class=\"col_heading level0 col0\" >0</th>\n",
       "    </tr>\n",
       "  </thead>\n",
       "  <tbody>\n",
       "    <tr>\n",
       "      <th id=\"T_673bf_level0_row0\" class=\"row_heading level0 row0\" >company_id</th>\n",
       "      <td id=\"T_673bf_row0_col0\" class=\"data row0 col0\" >0.8473</td>\n",
       "    </tr>\n",
       "    <tr>\n",
       "      <th id=\"T_673bf_level0_row1\" class=\"row_heading level0 row1\" >network_username</th>\n",
       "      <td id=\"T_673bf_row1_col0\" class=\"data row1 col0\" >0.8286</td>\n",
       "    </tr>\n",
       "    <tr>\n",
       "      <th id=\"T_673bf_level0_row2\" class=\"row_heading level0 row2\" >first_name</th>\n",
       "      <td id=\"T_673bf_row2_col0\" class=\"data row2 col0\" >0.0000</td>\n",
       "    </tr>\n",
       "    <tr>\n",
       "      <th id=\"T_673bf_level0_row3\" class=\"row_heading level0 row3\" >last_name</th>\n",
       "      <td id=\"T_673bf_row3_col0\" class=\"data row3 col0\" >0.0000</td>\n",
       "    </tr>\n",
       "    <tr>\n",
       "      <th id=\"T_673bf_level0_row4\" class=\"row_heading level0 row4\" >id</th>\n",
       "      <td id=\"T_673bf_row4_col0\" class=\"data row4 col0\" >0.0000</td>\n",
       "    </tr>\n",
       "  </tbody>\n",
       "</table>\n"
      ],
      "text/plain": [
       "<pandas.io.formats.style.Styler at 0x1efa4fd6810>"
      ]
     },
     "execution_count": 21,
     "metadata": {},
     "output_type": "execute_result"
    }
   ],
   "source": [
    "people.isna().mean().sort_values(ascending=False).to_frame().style.background_gradient(cmap='coolwarm').format(\"{:.4f}\")"
   ]
  },
  {
   "cell_type": "markdown",
   "metadata": {},
   "source": [
    "Проверим наличие явных дубликатов:"
   ]
  },
  {
   "cell_type": "code",
   "execution_count": 22,
   "metadata": {},
   "outputs": [
    {
     "data": {
      "text/plain": [
       "0"
      ]
     },
     "execution_count": 22,
     "metadata": {},
     "output_type": "execute_result"
    }
   ],
   "source": [
    "people_duplicates = people.duplicated()\n",
    "people_duplicates.sum()"
   ]
  },
  {
   "cell_type": "markdown",
   "metadata": {},
   "source": [
    "В датафрейме **people** всё оставляем как есть.  \n",
    "Явных дубликатов нет. "
   ]
  },
  {
   "cell_type": "code",
   "execution_count": 23,
   "metadata": {},
   "outputs": [
    {
     "name": "stdout",
     "output_type": "stream",
     "text": [
      "<class 'pandas.core.frame.DataFrame'>\n",
      "RangeIndex: 109610 entries, 0 to 109609\n",
      "Data columns (total 4 columns):\n",
      " #   Column        Non-Null Count   Dtype \n",
      "---  ------        --------------   ----- \n",
      " 0   id            109610 non-null  int64 \n",
      " 1   person_id     109610 non-null  int64 \n",
      " 2   instituition  109555 non-null  object\n",
      " 3   graduated_at  58054 non-null   object\n",
      "dtypes: int64(2), object(2)\n",
      "memory usage: 3.3+ MB\n"
     ]
    }
   ],
   "source": [
    "education.info()"
   ]
  },
  {
   "cell_type": "code",
   "execution_count": 24,
   "metadata": {},
   "outputs": [
    {
     "data": {
      "text/html": [
       "<div>\n",
       "<style scoped>\n",
       "    .dataframe tbody tr th:only-of-type {\n",
       "        vertical-align: middle;\n",
       "    }\n",
       "\n",
       "    .dataframe tbody tr th {\n",
       "        vertical-align: top;\n",
       "    }\n",
       "\n",
       "    .dataframe thead th {\n",
       "        text-align: right;\n",
       "    }\n",
       "</style>\n",
       "<table border=\"1\" class=\"dataframe\">\n",
       "  <thead>\n",
       "    <tr style=\"text-align: right;\">\n",
       "      <th></th>\n",
       "      <th>id</th>\n",
       "      <th>person_id</th>\n",
       "      <th>instituition</th>\n",
       "      <th>graduated_at</th>\n",
       "    </tr>\n",
       "  </thead>\n",
       "  <tbody>\n",
       "    <tr>\n",
       "      <th>0</th>\n",
       "      <td>1</td>\n",
       "      <td>6117</td>\n",
       "      <td>NaN</td>\n",
       "      <td>NaN</td>\n",
       "    </tr>\n",
       "    <tr>\n",
       "      <th>1</th>\n",
       "      <td>2</td>\n",
       "      <td>6136</td>\n",
       "      <td>Washington University, St. Louis</td>\n",
       "      <td>1990-01-01</td>\n",
       "    </tr>\n",
       "    <tr>\n",
       "      <th>2</th>\n",
       "      <td>3</td>\n",
       "      <td>6136</td>\n",
       "      <td>Boston University</td>\n",
       "      <td>1992-01-01</td>\n",
       "    </tr>\n",
       "    <tr>\n",
       "      <th>3</th>\n",
       "      <td>4</td>\n",
       "      <td>6005</td>\n",
       "      <td>University of Greenwich</td>\n",
       "      <td>2006-01-01</td>\n",
       "    </tr>\n",
       "    <tr>\n",
       "      <th>4</th>\n",
       "      <td>5</td>\n",
       "      <td>5832</td>\n",
       "      <td>Rice University</td>\n",
       "      <td>NaN</td>\n",
       "    </tr>\n",
       "  </tbody>\n",
       "</table>\n",
       "</div>"
      ],
      "text/plain": [
       "   id  person_id                      instituition graduated_at\n",
       "0   1       6117                               NaN          NaN\n",
       "1   2       6136  Washington University, St. Louis   1990-01-01\n",
       "2   3       6136                 Boston University   1992-01-01\n",
       "3   4       6005           University of Greenwich   2006-01-01\n",
       "4   5       5832                   Rice University          NaN"
      ]
     },
     "execution_count": 24,
     "metadata": {},
     "output_type": "execute_result"
    }
   ],
   "source": [
    "education.head()"
   ]
  },
  {
   "cell_type": "code",
   "execution_count": 25,
   "metadata": {},
   "outputs": [
    {
     "data": {
      "text/html": [
       "<style type=\"text/css\">\n",
       "#T_5ed7c_row0_col0 {\n",
       "  background-color: #b40426;\n",
       "  color: #f1f1f1;\n",
       "}\n",
       "#T_5ed7c_row1_col0, #T_5ed7c_row2_col0, #T_5ed7c_row3_col0 {\n",
       "  background-color: #3b4cc0;\n",
       "  color: #f1f1f1;\n",
       "}\n",
       "</style>\n",
       "<table id=\"T_5ed7c\">\n",
       "  <thead>\n",
       "    <tr>\n",
       "      <th class=\"blank level0\" >&nbsp;</th>\n",
       "      <th id=\"T_5ed7c_level0_col0\" class=\"col_heading level0 col0\" >0</th>\n",
       "    </tr>\n",
       "  </thead>\n",
       "  <tbody>\n",
       "    <tr>\n",
       "      <th id=\"T_5ed7c_level0_row0\" class=\"row_heading level0 row0\" >graduated_at</th>\n",
       "      <td id=\"T_5ed7c_row0_col0\" class=\"data row0 col0\" >0.4704</td>\n",
       "    </tr>\n",
       "    <tr>\n",
       "      <th id=\"T_5ed7c_level0_row1\" class=\"row_heading level0 row1\" >instituition</th>\n",
       "      <td id=\"T_5ed7c_row1_col0\" class=\"data row1 col0\" >0.0005</td>\n",
       "    </tr>\n",
       "    <tr>\n",
       "      <th id=\"T_5ed7c_level0_row2\" class=\"row_heading level0 row2\" >id</th>\n",
       "      <td id=\"T_5ed7c_row2_col0\" class=\"data row2 col0\" >0.0000</td>\n",
       "    </tr>\n",
       "    <tr>\n",
       "      <th id=\"T_5ed7c_level0_row3\" class=\"row_heading level0 row3\" >person_id</th>\n",
       "      <td id=\"T_5ed7c_row3_col0\" class=\"data row3 col0\" >0.0000</td>\n",
       "    </tr>\n",
       "  </tbody>\n",
       "</table>\n"
      ],
      "text/plain": [
       "<pandas.io.formats.style.Styler at 0x1efa5018510>"
      ]
     },
     "execution_count": 25,
     "metadata": {},
     "output_type": "execute_result"
    }
   ],
   "source": [
    "education.isna().mean().sort_values(ascending=False).to_frame().style.background_gradient(cmap='coolwarm').format(\"{:.4f}\")"
   ]
  },
  {
   "cell_type": "markdown",
   "metadata": {},
   "source": [
    "Проверим наличие явных дубликатов:"
   ]
  },
  {
   "cell_type": "code",
   "execution_count": 26,
   "metadata": {},
   "outputs": [
    {
     "data": {
      "text/plain": [
       "0"
      ]
     },
     "execution_count": 26,
     "metadata": {},
     "output_type": "execute_result"
    }
   ],
   "source": [
    "education_duplicates = education.duplicated()\n",
    "education_duplicates.sum()"
   ]
  },
  {
   "cell_type": "markdown",
   "metadata": {},
   "source": [
    "Столбец **graduated_at** можно привести к datetime.  \n",
    "Явных дубликатов нет."
   ]
  },
  {
   "cell_type": "code",
   "execution_count": 27,
   "metadata": {},
   "outputs": [
    {
     "name": "stdout",
     "output_type": "stream",
     "text": [
      "<class 'pandas.core.frame.DataFrame'>\n",
      "RangeIndex: 109610 entries, 0 to 109609\n",
      "Data columns (total 4 columns):\n",
      " #   Column       Non-Null Count   Dtype \n",
      "---  ------       --------------   ----- \n",
      " 0   id           109610 non-null  int64 \n",
      " 1   object_id    109610 non-null  object\n",
      " 2   degree_type  98389 non-null   object\n",
      " 3   subject      81298 non-null   object\n",
      "dtypes: int64(1), object(3)\n",
      "memory usage: 3.3+ MB\n"
     ]
    }
   ],
   "source": [
    "degrees.info()"
   ]
  },
  {
   "cell_type": "code",
   "execution_count": 28,
   "metadata": {},
   "outputs": [
    {
     "data": {
      "text/html": [
       "<div>\n",
       "<style scoped>\n",
       "    .dataframe tbody tr th:only-of-type {\n",
       "        vertical-align: middle;\n",
       "    }\n",
       "\n",
       "    .dataframe tbody tr th {\n",
       "        vertical-align: top;\n",
       "    }\n",
       "\n",
       "    .dataframe thead th {\n",
       "        text-align: right;\n",
       "    }\n",
       "</style>\n",
       "<table border=\"1\" class=\"dataframe\">\n",
       "  <thead>\n",
       "    <tr style=\"text-align: right;\">\n",
       "      <th></th>\n",
       "      <th>id</th>\n",
       "      <th>object_id</th>\n",
       "      <th>degree_type</th>\n",
       "      <th>subject</th>\n",
       "    </tr>\n",
       "  </thead>\n",
       "  <tbody>\n",
       "    <tr>\n",
       "      <th>0</th>\n",
       "      <td>1</td>\n",
       "      <td>p:6117</td>\n",
       "      <td>MBA</td>\n",
       "      <td>NaN</td>\n",
       "    </tr>\n",
       "    <tr>\n",
       "      <th>1</th>\n",
       "      <td>2</td>\n",
       "      <td>p:6136</td>\n",
       "      <td>BA</td>\n",
       "      <td>English, French</td>\n",
       "    </tr>\n",
       "    <tr>\n",
       "      <th>2</th>\n",
       "      <td>3</td>\n",
       "      <td>p:6136</td>\n",
       "      <td>MS</td>\n",
       "      <td>Mass Communication</td>\n",
       "    </tr>\n",
       "    <tr>\n",
       "      <th>3</th>\n",
       "      <td>4</td>\n",
       "      <td>p:6005</td>\n",
       "      <td>MS</td>\n",
       "      <td>Internet Technology</td>\n",
       "    </tr>\n",
       "    <tr>\n",
       "      <th>4</th>\n",
       "      <td>5</td>\n",
       "      <td>p:5832</td>\n",
       "      <td>BCS</td>\n",
       "      <td>Computer Science, Psychology</td>\n",
       "    </tr>\n",
       "  </tbody>\n",
       "</table>\n",
       "</div>"
      ],
      "text/plain": [
       "   id object_id degree_type                       subject\n",
       "0   1    p:6117         MBA                           NaN\n",
       "1   2    p:6136          BA               English, French\n",
       "2   3    p:6136          MS            Mass Communication\n",
       "3   4    p:6005          MS           Internet Technology\n",
       "4   5    p:5832         BCS  Computer Science, Psychology"
      ]
     },
     "execution_count": 28,
     "metadata": {},
     "output_type": "execute_result"
    }
   ],
   "source": [
    "degrees.head()"
   ]
  },
  {
   "cell_type": "code",
   "execution_count": 29,
   "metadata": {},
   "outputs": [
    {
     "data": {
      "text/html": [
       "<style type=\"text/css\">\n",
       "#T_ee331_row0_col0 {\n",
       "  background-color: #b40426;\n",
       "  color: #f1f1f1;\n",
       "}\n",
       "#T_ee331_row1_col0 {\n",
       "  background-color: #bfd3f6;\n",
       "  color: #000000;\n",
       "}\n",
       "#T_ee331_row2_col0, #T_ee331_row3_col0 {\n",
       "  background-color: #3b4cc0;\n",
       "  color: #f1f1f1;\n",
       "}\n",
       "</style>\n",
       "<table id=\"T_ee331\">\n",
       "  <thead>\n",
       "    <tr>\n",
       "      <th class=\"blank level0\" >&nbsp;</th>\n",
       "      <th id=\"T_ee331_level0_col0\" class=\"col_heading level0 col0\" >0</th>\n",
       "    </tr>\n",
       "  </thead>\n",
       "  <tbody>\n",
       "    <tr>\n",
       "      <th id=\"T_ee331_level0_row0\" class=\"row_heading level0 row0\" >subject</th>\n",
       "      <td id=\"T_ee331_row0_col0\" class=\"data row0 col0\" >0.2583</td>\n",
       "    </tr>\n",
       "    <tr>\n",
       "      <th id=\"T_ee331_level0_row1\" class=\"row_heading level0 row1\" >degree_type</th>\n",
       "      <td id=\"T_ee331_row1_col0\" class=\"data row1 col0\" >0.1024</td>\n",
       "    </tr>\n",
       "    <tr>\n",
       "      <th id=\"T_ee331_level0_row2\" class=\"row_heading level0 row2\" >id</th>\n",
       "      <td id=\"T_ee331_row2_col0\" class=\"data row2 col0\" >0.0000</td>\n",
       "    </tr>\n",
       "    <tr>\n",
       "      <th id=\"T_ee331_level0_row3\" class=\"row_heading level0 row3\" >object_id</th>\n",
       "      <td id=\"T_ee331_row3_col0\" class=\"data row3 col0\" >0.0000</td>\n",
       "    </tr>\n",
       "  </tbody>\n",
       "</table>\n"
      ],
      "text/plain": [
       "<pandas.io.formats.style.Styler at 0x1efa5020490>"
      ]
     },
     "execution_count": 29,
     "metadata": {},
     "output_type": "execute_result"
    }
   ],
   "source": [
    "degrees.isna().mean().sort_values(ascending=False).to_frame().style.background_gradient(cmap='coolwarm').format(\"{:.4f}\")"
   ]
  },
  {
   "cell_type": "markdown",
   "metadata": {},
   "source": [
    "Проверим наличие явных дубликатов:"
   ]
  },
  {
   "cell_type": "code",
   "execution_count": 30,
   "metadata": {},
   "outputs": [
    {
     "data": {
      "text/plain": [
       "0"
      ]
     },
     "execution_count": 30,
     "metadata": {},
     "output_type": "execute_result"
    }
   ],
   "source": [
    "degrees_duplicates = degrees.duplicated()\n",
    "degrees_duplicates.sum()"
   ]
  },
  {
   "cell_type": "markdown",
   "metadata": {},
   "source": [
    "В датафрейме **degrees** ничего не меняем.  \n",
    "Явных дубликатов нет."
   ]
  },
  {
   "cell_type": "code",
   "execution_count": 31,
   "metadata": {},
   "outputs": [
    {
     "name": "stdout",
     "output_type": "stream",
     "text": [
      "<class 'pandas.core.frame.DataFrame'>\n",
      "RangeIndex: 11652 entries, 0 to 11651\n",
      "Data columns (total 9 columns):\n",
      " #   Column              Non-Null Count  Dtype \n",
      "---  ------              --------------  ----- \n",
      " 0   id                  11652 non-null  int64 \n",
      " 1   name                11649 non-null  object\n",
      " 2   founded_at          4605 non-null   object\n",
      " 3   domain              7362 non-null   object\n",
      " 4   network_username    2149 non-null   object\n",
      " 5   country_code        7053 non-null   object\n",
      " 6   investment_rounds   11652 non-null  int64 \n",
      " 7   invested_companies  11652 non-null  int64 \n",
      " 8   milestones          11652 non-null  int64 \n",
      "dtypes: int64(4), object(5)\n",
      "memory usage: 819.4+ KB\n"
     ]
    }
   ],
   "source": [
    "fund.info()"
   ]
  },
  {
   "cell_type": "code",
   "execution_count": 32,
   "metadata": {
    "scrolled": true
   },
   "outputs": [
    {
     "data": {
      "text/html": [
       "<div>\n",
       "<style scoped>\n",
       "    .dataframe tbody tr th:only-of-type {\n",
       "        vertical-align: middle;\n",
       "    }\n",
       "\n",
       "    .dataframe tbody tr th {\n",
       "        vertical-align: top;\n",
       "    }\n",
       "\n",
       "    .dataframe thead th {\n",
       "        text-align: right;\n",
       "    }\n",
       "</style>\n",
       "<table border=\"1\" class=\"dataframe\">\n",
       "  <thead>\n",
       "    <tr style=\"text-align: right;\">\n",
       "      <th></th>\n",
       "      <th>id</th>\n",
       "      <th>name</th>\n",
       "      <th>founded_at</th>\n",
       "      <th>domain</th>\n",
       "      <th>network_username</th>\n",
       "      <th>country_code</th>\n",
       "      <th>investment_rounds</th>\n",
       "      <th>invested_companies</th>\n",
       "      <th>milestones</th>\n",
       "    </tr>\n",
       "  </thead>\n",
       "  <tbody>\n",
       "    <tr>\n",
       "      <th>0</th>\n",
       "      <td>13131</td>\n",
       "      <td>NaN</td>\n",
       "      <td>NaN</td>\n",
       "      <td>NaN</td>\n",
       "      <td>NaN</td>\n",
       "      <td>NaN</td>\n",
       "      <td>0</td>\n",
       "      <td>0</td>\n",
       "      <td>0</td>\n",
       "    </tr>\n",
       "    <tr>\n",
       "      <th>1</th>\n",
       "      <td>1</td>\n",
       "      <td>Greylock Partners</td>\n",
       "      <td>1965-01-01</td>\n",
       "      <td>greylock.com</td>\n",
       "      <td>greylockvc</td>\n",
       "      <td>USA</td>\n",
       "      <td>307</td>\n",
       "      <td>196</td>\n",
       "      <td>0</td>\n",
       "    </tr>\n",
       "    <tr>\n",
       "      <th>2</th>\n",
       "      <td>10</td>\n",
       "      <td>Mission Ventures</td>\n",
       "      <td>1996-01-01</td>\n",
       "      <td>missionventures.com</td>\n",
       "      <td>NaN</td>\n",
       "      <td>USA</td>\n",
       "      <td>58</td>\n",
       "      <td>33</td>\n",
       "      <td>0</td>\n",
       "    </tr>\n",
       "    <tr>\n",
       "      <th>3</th>\n",
       "      <td>100</td>\n",
       "      <td>Kapor Enterprises, Inc.</td>\n",
       "      <td>NaN</td>\n",
       "      <td>kei.com</td>\n",
       "      <td>NaN</td>\n",
       "      <td>USA</td>\n",
       "      <td>2</td>\n",
       "      <td>1</td>\n",
       "      <td>0</td>\n",
       "    </tr>\n",
       "    <tr>\n",
       "      <th>4</th>\n",
       "      <td>1000</td>\n",
       "      <td>Speed Ventures</td>\n",
       "      <td>NaN</td>\n",
       "      <td>NaN</td>\n",
       "      <td>NaN</td>\n",
       "      <td>NaN</td>\n",
       "      <td>0</td>\n",
       "      <td>0</td>\n",
       "      <td>1</td>\n",
       "    </tr>\n",
       "  </tbody>\n",
       "</table>\n",
       "</div>"
      ],
      "text/plain": [
       "      id                     name  founded_at               domain  \\\n",
       "0  13131                      NaN         NaN                  NaN   \n",
       "1      1        Greylock Partners  1965-01-01         greylock.com   \n",
       "2     10         Mission Ventures  1996-01-01  missionventures.com   \n",
       "3    100  Kapor Enterprises, Inc.         NaN              kei.com   \n",
       "4   1000           Speed Ventures         NaN                  NaN   \n",
       "\n",
       "  network_username country_code  investment_rounds  invested_companies  \\\n",
       "0              NaN          NaN                  0                   0   \n",
       "1       greylockvc          USA                307                 196   \n",
       "2              NaN          USA                 58                  33   \n",
       "3              NaN          USA                  2                   1   \n",
       "4              NaN          NaN                  0                   0   \n",
       "\n",
       "   milestones  \n",
       "0           0  \n",
       "1           0  \n",
       "2           0  \n",
       "3           0  \n",
       "4           1  "
      ]
     },
     "execution_count": 32,
     "metadata": {},
     "output_type": "execute_result"
    }
   ],
   "source": [
    "fund.head()"
   ]
  },
  {
   "cell_type": "code",
   "execution_count": 33,
   "metadata": {},
   "outputs": [
    {
     "data": {
      "text/html": [
       "<style type=\"text/css\">\n",
       "#T_ba377_row0_col0 {\n",
       "  background-color: #b40426;\n",
       "  color: #f1f1f1;\n",
       "}\n",
       "#T_ba377_row1_col0 {\n",
       "  background-color: #f59d7e;\n",
       "  color: #000000;\n",
       "}\n",
       "#T_ba377_row2_col0 {\n",
       "  background-color: #d8dce2;\n",
       "  color: #000000;\n",
       "}\n",
       "#T_ba377_row3_col0 {\n",
       "  background-color: #cfdaea;\n",
       "  color: #000000;\n",
       "}\n",
       "#T_ba377_row4_col0, #T_ba377_row5_col0, #T_ba377_row6_col0, #T_ba377_row7_col0, #T_ba377_row8_col0 {\n",
       "  background-color: #3b4cc0;\n",
       "  color: #f1f1f1;\n",
       "}\n",
       "</style>\n",
       "<table id=\"T_ba377\">\n",
       "  <thead>\n",
       "    <tr>\n",
       "      <th class=\"blank level0\" >&nbsp;</th>\n",
       "      <th id=\"T_ba377_level0_col0\" class=\"col_heading level0 col0\" >0</th>\n",
       "    </tr>\n",
       "  </thead>\n",
       "  <tbody>\n",
       "    <tr>\n",
       "      <th id=\"T_ba377_level0_row0\" class=\"row_heading level0 row0\" >network_username</th>\n",
       "      <td id=\"T_ba377_row0_col0\" class=\"data row0 col0\" >0.8156</td>\n",
       "    </tr>\n",
       "    <tr>\n",
       "      <th id=\"T_ba377_level0_row1\" class=\"row_heading level0 row1\" >founded_at</th>\n",
       "      <td id=\"T_ba377_row1_col0\" class=\"data row1 col0\" >0.6048</td>\n",
       "    </tr>\n",
       "    <tr>\n",
       "      <th id=\"T_ba377_level0_row2\" class=\"row_heading level0 row2\" >country_code</th>\n",
       "      <td id=\"T_ba377_row2_col0\" class=\"data row2 col0\" >0.3947</td>\n",
       "    </tr>\n",
       "    <tr>\n",
       "      <th id=\"T_ba377_level0_row3\" class=\"row_heading level0 row3\" >domain</th>\n",
       "      <td id=\"T_ba377_row3_col0\" class=\"data row3 col0\" >0.3682</td>\n",
       "    </tr>\n",
       "    <tr>\n",
       "      <th id=\"T_ba377_level0_row4\" class=\"row_heading level0 row4\" >name</th>\n",
       "      <td id=\"T_ba377_row4_col0\" class=\"data row4 col0\" >0.0003</td>\n",
       "    </tr>\n",
       "    <tr>\n",
       "      <th id=\"T_ba377_level0_row5\" class=\"row_heading level0 row5\" >id</th>\n",
       "      <td id=\"T_ba377_row5_col0\" class=\"data row5 col0\" >0.0000</td>\n",
       "    </tr>\n",
       "    <tr>\n",
       "      <th id=\"T_ba377_level0_row6\" class=\"row_heading level0 row6\" >investment_rounds</th>\n",
       "      <td id=\"T_ba377_row6_col0\" class=\"data row6 col0\" >0.0000</td>\n",
       "    </tr>\n",
       "    <tr>\n",
       "      <th id=\"T_ba377_level0_row7\" class=\"row_heading level0 row7\" >invested_companies</th>\n",
       "      <td id=\"T_ba377_row7_col0\" class=\"data row7 col0\" >0.0000</td>\n",
       "    </tr>\n",
       "    <tr>\n",
       "      <th id=\"T_ba377_level0_row8\" class=\"row_heading level0 row8\" >milestones</th>\n",
       "      <td id=\"T_ba377_row8_col0\" class=\"data row8 col0\" >0.0000</td>\n",
       "    </tr>\n",
       "  </tbody>\n",
       "</table>\n"
      ],
      "text/plain": [
       "<pandas.io.formats.style.Styler at 0x1efa5033710>"
      ]
     },
     "execution_count": 33,
     "metadata": {},
     "output_type": "execute_result"
    }
   ],
   "source": [
    "fund.isna().mean().sort_values(ascending=False).to_frame().style.background_gradient(cmap='coolwarm').format(\"{:.4f}\")"
   ]
  },
  {
   "cell_type": "code",
   "execution_count": 34,
   "metadata": {},
   "outputs": [
    {
     "data": {
      "text/plain": [
       "investment_rounds     529\n",
       "invested_companies    441\n",
       "milestones              7\n",
       "dtype: int64"
      ]
     },
     "execution_count": 34,
     "metadata": {},
     "output_type": "execute_result"
    }
   ],
   "source": [
    "fund[['investment_rounds', 'invested_companies', 'milestones']].max()"
   ]
  },
  {
   "cell_type": "markdown",
   "metadata": {},
   "source": [
    "Проверим наличие явных дубликатов:"
   ]
  },
  {
   "cell_type": "code",
   "execution_count": 35,
   "metadata": {},
   "outputs": [
    {
     "data": {
      "text/plain": [
       "0"
      ]
     },
     "execution_count": 35,
     "metadata": {},
     "output_type": "execute_result"
    }
   ],
   "source": [
    "fund_duplicates = fund.duplicated()\n",
    "fund_duplicates.sum()"
   ]
  },
  {
   "cell_type": "markdown",
   "metadata": {},
   "source": [
    "Здесь мы можем провести следующие изменения:\n",
    "- **founded_at** приведём к datetime\n",
    "- **investment_rounds**, **invested_companies**, **milestones** снизим разрядность типа integer\n",
    "\n",
    "Явных дубликатов нет."
   ]
  },
  {
   "cell_type": "code",
   "execution_count": 36,
   "metadata": {},
   "outputs": [
    {
     "name": "stdout",
     "output_type": "stream",
     "text": [
      "<class 'pandas.core.frame.DataFrame'>\n",
      "RangeIndex: 61403 entries, 0 to 61402\n",
      "Data columns (total 4 columns):\n",
      " #   Column            Non-Null Count  Dtype\n",
      "---  ------            --------------  -----\n",
      " 0   id                61403 non-null  int64\n",
      " 1   funding_round_id  61403 non-null  int64\n",
      " 2   company_id        61403 non-null  int64\n",
      " 3   fund_id           61403 non-null  int64\n",
      "dtypes: int64(4)\n",
      "memory usage: 1.9 MB\n"
     ]
    }
   ],
   "source": [
    "investment.info()"
   ]
  },
  {
   "cell_type": "code",
   "execution_count": 37,
   "metadata": {},
   "outputs": [
    {
     "data": {
      "text/html": [
       "<div>\n",
       "<style scoped>\n",
       "    .dataframe tbody tr th:only-of-type {\n",
       "        vertical-align: middle;\n",
       "    }\n",
       "\n",
       "    .dataframe tbody tr th {\n",
       "        vertical-align: top;\n",
       "    }\n",
       "\n",
       "    .dataframe thead th {\n",
       "        text-align: right;\n",
       "    }\n",
       "</style>\n",
       "<table border=\"1\" class=\"dataframe\">\n",
       "  <thead>\n",
       "    <tr style=\"text-align: right;\">\n",
       "      <th></th>\n",
       "      <th>id</th>\n",
       "      <th>funding_round_id</th>\n",
       "      <th>company_id</th>\n",
       "      <th>fund_id</th>\n",
       "    </tr>\n",
       "  </thead>\n",
       "  <tbody>\n",
       "    <tr>\n",
       "      <th>0</th>\n",
       "      <td>1</td>\n",
       "      <td>1</td>\n",
       "      <td>4</td>\n",
       "      <td>1</td>\n",
       "    </tr>\n",
       "    <tr>\n",
       "      <th>1</th>\n",
       "      <td>2</td>\n",
       "      <td>1</td>\n",
       "      <td>4</td>\n",
       "      <td>2</td>\n",
       "    </tr>\n",
       "    <tr>\n",
       "      <th>2</th>\n",
       "      <td>3</td>\n",
       "      <td>3</td>\n",
       "      <td>5</td>\n",
       "      <td>4</td>\n",
       "    </tr>\n",
       "    <tr>\n",
       "      <th>3</th>\n",
       "      <td>4</td>\n",
       "      <td>4</td>\n",
       "      <td>5</td>\n",
       "      <td>1</td>\n",
       "    </tr>\n",
       "    <tr>\n",
       "      <th>4</th>\n",
       "      <td>5</td>\n",
       "      <td>4</td>\n",
       "      <td>5</td>\n",
       "      <td>5</td>\n",
       "    </tr>\n",
       "  </tbody>\n",
       "</table>\n",
       "</div>"
      ],
      "text/plain": [
       "   id  funding_round_id  company_id  fund_id\n",
       "0   1                 1           4        1\n",
       "1   2                 1           4        2\n",
       "2   3                 3           5        4\n",
       "3   4                 4           5        1\n",
       "4   5                 4           5        5"
      ]
     },
     "execution_count": 37,
     "metadata": {},
     "output_type": "execute_result"
    }
   ],
   "source": [
    "investment.head()"
   ]
  },
  {
   "cell_type": "markdown",
   "metadata": {},
   "source": [
    "Проверим наличие явных дубликатов:"
   ]
  },
  {
   "cell_type": "code",
   "execution_count": 38,
   "metadata": {},
   "outputs": [
    {
     "data": {
      "text/plain": [
       "0"
      ]
     },
     "execution_count": 38,
     "metadata": {},
     "output_type": "execute_result"
    }
   ],
   "source": [
    "investment_duplicates = investment.duplicated()\n",
    "investment_duplicates.sum()"
   ]
  },
  {
   "cell_type": "markdown",
   "metadata": {},
   "source": [
    "В датафрейме **investment** мы ничего не меняем.  \n",
    "Явных дубликатов нет."
   ]
  },
  {
   "cell_type": "markdown",
   "metadata": {},
   "source": [
    "##### Подведём итог:\n",
    "- Все данные были загружены, имена столбцов совпадают, но в датафрейме **company_and_rounds** их нужно привести к snake_case.  \n",
    "\n",
    "- Датафрейм **acquisition**:  \n",
    "    >9407 строк, 6 столбцов.  \n",
    "    >Столбец **acquired_at** привести к datetime.  \n",
    "- Датафрейм **company_and_rounds**:  \n",
    "    >217774 строки, 22 столбца.  \n",
    "    >Убрать ненужные пробелы, мешающие работе с данными.  \n",
    "    >Столбцы **founded at**, **closed at**, **funded at** привести к datetime.  \n",
    "    >Столбцы **company ID**, **investment rounds**, **funding rounds**, **milestones** после работы пропусками можно изменить на int.  \n",
    "- Датафрейм **people**:  \n",
    "    >226709 строк, 5 столбцов.  \n",
    "- Датафрейм **education**:  \n",
    "    >109610 строк, 4 столбца.  \n",
    "    >Столбец **graduated_at** привести к datetime.  \n",
    "- Датафрейм **degrees**:  \n",
    "    >109610 строк, 4 столбца.  \n",
    "- Датафрейм **fund**:  \n",
    "    >11652 строки, 9 столбцов.  \n",
    "    >Столбец **founded_at** привести к datetime.  \n",
    "- Датафрейм **investment**:  \n",
    "    >61403 строки, 4 столбца.  \n",
    "- Во всех столбцах, имеющих тип данных integer попробовать снизить разрядность типа, чтобы сэкономить ресурсы.  \n",
    "  \n",
    "- Во всех датафреймах имеется значительное количество пропусков.  "
   ]
  },
  {
   "cell_type": "markdown",
   "metadata": {
    "id": "mg2gEwh0rJg0"
   },
   "source": [
    "### 1.2. Смена типов и анализ пропусков"
   ]
  },
  {
   "cell_type": "markdown",
   "metadata": {},
   "source": [
    "\n",
    "* Оценим полноту данных:"
   ]
  },
  {
   "cell_type": "code",
   "execution_count": 39,
   "metadata": {
    "id": "FsL0A8RBrJg1"
   },
   "outputs": [],
   "source": [
    "acquisition['acquired_at'] = pd.to_datetime(acquisition['acquired_at'], errors='coerce')"
   ]
  },
  {
   "cell_type": "code",
   "execution_count": 40,
   "metadata": {
    "id": "5Sg2O8zNnzKc"
   },
   "outputs": [
    {
     "data": {
      "text/plain": [
       "id                               int64\n",
       "acquiring_company_id             int64\n",
       "acquired_company_id              int64\n",
       "term_code                       object\n",
       "price_amount                     int64\n",
       "acquired_at             datetime64[ns]\n",
       "dtype: object"
      ]
     },
     "execution_count": 40,
     "metadata": {},
     "output_type": "execute_result"
    }
   ],
   "source": [
    "acquisition.dtypes"
   ]
  },
  {
   "cell_type": "markdown",
   "metadata": {},
   "source": [
    "В датафрейме **company_and_rounds** почти все столбцы названы с использованием нескольких пробелов, что неудобно для работы.  \n",
    "Напишем функцию для замены пробелов на нижнее подчеркивание, приводить к нижнему регистру не будем, так как в данных есть два столбца с похожим названием."
   ]
  },
  {
   "cell_type": "code",
   "execution_count": 41,
   "metadata": {},
   "outputs": [],
   "source": [
    "def replace_spaces(df):\n",
    "    list_columns = []\n",
    "    for column in df.columns:\n",
    "        new_column = []\n",
    "        space_count = 0\n",
    "        for char in column:\n",
    "            if char == \" \":\n",
    "                space_count += 1\n",
    "            else:\n",
    "                if space_count == 1:\n",
    "                    new_column.append('_')\n",
    "                elif space_count > 1:\n",
    "                    new_column.append('_')\n",
    "                space_count = 0\n",
    "                new_column.append(char)\n",
    "        if space_count == 1:\n",
    "            new_column.append('_')\n",
    "        elif space_count > 1:\n",
    "            new_column.append('_')\n",
    "\n",
    "        list_columns.append(''.join(new_column))\n",
    "\n",
    "    print('old: ', df.columns)\n",
    "    df.columns = list_columns\n",
    "    print('new: ', df.columns)"
   ]
  },
  {
   "cell_type": "code",
   "execution_count": 42,
   "metadata": {},
   "outputs": [
    {
     "name": "stdout",
     "output_type": "stream",
     "text": [
      "old:  Index(['company  ID', 'name', 'category  code', 'status', 'founded  at',\n",
      "       'closed  at', 'domain', 'network  username', 'country  code',\n",
      "       'investment  rounds', 'funding  rounds', 'funding  total', 'milestones',\n",
      "       'funding  round  id', 'company  id', 'funded  at',\n",
      "       'funding  round  type', 'raised  amount', 'pre  money  valuation',\n",
      "       'participants', 'is  first  round', 'is  last  round'],\n",
      "      dtype='object')\n",
      "new:  Index(['company_ID', 'name', 'category_code', 'status', 'founded_at',\n",
      "       'closed_at', 'domain', 'network_username', 'country_code',\n",
      "       'investment_rounds', 'funding_rounds', 'funding_total', 'milestones',\n",
      "       'funding_round_id', 'company_id', 'funded_at', 'funding_round_type',\n",
      "       'raised_amount', 'pre_money_valuation', 'participants',\n",
      "       'is_first_round', 'is_last_round'],\n",
      "      dtype='object')\n"
     ]
    }
   ],
   "source": [
    "replace_spaces(company_and_rounds)"
   ]
  },
  {
   "cell_type": "markdown",
   "metadata": {},
   "source": [
    "Приводим нужные столбцы к типу datetime"
   ]
  },
  {
   "cell_type": "code",
   "execution_count": 43,
   "metadata": {},
   "outputs": [],
   "source": [
    "company_and_rounds['founded_at'] = pd.to_datetime(company_and_rounds['founded_at'], errors='coerce')\n",
    "company_and_rounds['closed_at'] = pd.to_datetime(company_and_rounds['closed_at'], errors='coerce')\n",
    "company_and_rounds['funded_at'] = pd.to_datetime(company_and_rounds['funded_at'], errors='coerce')"
   ]
  },
  {
   "cell_type": "code",
   "execution_count": 44,
   "metadata": {},
   "outputs": [
    {
     "data": {
      "text/plain": [
       "founded_at    datetime64[ns]\n",
       "closed_at     datetime64[ns]\n",
       "funded_at     datetime64[ns]\n",
       "dtype: object"
      ]
     },
     "execution_count": 44,
     "metadata": {},
     "output_type": "execute_result"
    }
   ],
   "source": [
    "company_and_rounds[['founded_at', 'closed_at', 'funded_at']].dtypes"
   ]
  },
  {
   "cell_type": "code",
   "execution_count": 45,
   "metadata": {},
   "outputs": [],
   "source": [
    "education['graduated_at'] = pd.to_datetime(education['graduated_at'], errors='coerce')"
   ]
  },
  {
   "cell_type": "code",
   "execution_count": 46,
   "metadata": {},
   "outputs": [
    {
     "data": {
      "text/plain": [
       "id                       int64\n",
       "person_id                int64\n",
       "instituition            object\n",
       "graduated_at    datetime64[ns]\n",
       "dtype: object"
      ]
     },
     "execution_count": 46,
     "metadata": {},
     "output_type": "execute_result"
    }
   ],
   "source": [
    "education.dtypes"
   ]
  },
  {
   "cell_type": "code",
   "execution_count": 47,
   "metadata": {},
   "outputs": [
    {
     "name": "stdout",
     "output_type": "stream",
     "text": [
      "Размер использования памяти: до  0.43 Mb - после  0.31 Mb (29.2%)\n",
      "Размер использования памяти: до 36.55 Mb - после 26.58 Mb (27.3%)\n",
      "Размер использования памяти: до  3.35 Mb - после  2.93 Mb (12.5%)\n",
      "Размер использования памяти: до  3.35 Mb - после  2.51 Mb (25.0%)\n",
      "Размер использования памяти: до  0.80 Mb - после  0.52 Mb (34.7%)\n",
      "Размер использования памяти: до  1.87 Mb - после  0.82 Mb (56.2%)\n",
      "Размер использования памяти: до  8.65 Mb - после  6.92 Mb (20.0%)\n"
     ]
    }
   ],
   "source": [
    "# Оптимизация числовых типов данных\n",
    "def optimize_memory_usage(df: pd.DataFrame, print_size: bool=True) -> pd.DataFrame:\n",
    "    '''\n",
    "    Function optimizes memory usage in dataframe\n",
    "    df: pd.DataFrame - data table\n",
    "    print_size: bool - display of optimization results\n",
    "    return pd.DataFrame - amount of optimized memory\n",
    "    '''\n",
    "    numerics = ['int16', 'int32', 'int64', 'float16', 'float32', 'float64'] # Типы, которые будем проверять на оптимизацию\n",
    "    # Размер занимаемой памяти до оптимизации (в Мб)\n",
    "    before_size = df.memory_usage().sum() / 1024**2    \n",
    "    for column in df.columns:\n",
    "        column_type = df[column].dtypes\n",
    "        if column_type in numerics:\n",
    "            column_min = df[column].min()\n",
    "            column_max = df[column].max()\n",
    "            if str(column_type).startswith('int'):\n",
    "                if column_min > np.iinfo(np.int8).min and column_max < np.iinfo(np.int8).max:\n",
    "                    df[column] = df[column].astype(np.int8)\n",
    "                elif column_min > np.iinfo(np.int16).min and column_max < np.iinfo(np.int16).max:\n",
    "                    df[column] = df[column].astype(np.int16)\n",
    "                elif column_min > np.iinfo(np.int32).min and column_max < np.iinfo(np.int32).max:\n",
    "                    df[column] = df[column].astype(np.int32)\n",
    "                elif column_min > np.iinfo(np.int64).min and column_max < np.iinfo(np.int64).max:\n",
    "                    df[column] = df[column].astype(np.int64)  \n",
    "            else:\n",
    "                if column_min > np.finfo(np.float32).min and column_max < np.finfo(np.float32).max:\n",
    "                    df[column] = df[column].astype(np.float32)\n",
    "                else:\n",
    "                    df[column] = df[column].astype(np.float64)    \n",
    "    # Размер занимаемой памяти после оптимизации (в Мб)\n",
    "    after_size = df.memory_usage().sum() / 1024**2\n",
    "    if print_size: print('Размер использования памяти: до {:5.2f} Mb - после {:5.2f} Mb ({:.1f}%)'\n",
    "                         .format(before_size, after_size, 100 * (before_size - after_size) / before_size))\n",
    "    return df\n",
    "\n",
    "for df in [acquisition, company_and_rounds, degrees, education, fund, investment, people]:\n",
    "    optimize_memory_usage(df)"
   ]
  },
  {
   "cell_type": "code",
   "execution_count": 48,
   "metadata": {
    "scrolled": true
   },
   "outputs": [
    {
     "name": "stdout",
     "output_type": "stream",
     "text": [
      "<class 'pandas.core.frame.DataFrame'>\n",
      "RangeIndex: 9407 entries, 0 to 9406\n",
      "Data columns (total 6 columns):\n",
      " #   Column                Non-Null Count  Dtype         \n",
      "---  ------                --------------  -----         \n",
      " 0   id                    9407 non-null   int16         \n",
      " 1   acquiring_company_id  9407 non-null   int32         \n",
      " 2   acquired_company_id   9407 non-null   int32         \n",
      " 3   term_code             1831 non-null   object        \n",
      " 4   price_amount          9407 non-null   int64         \n",
      " 5   acquired_at           9378 non-null   datetime64[ns]\n",
      "dtypes: datetime64[ns](1), int16(1), int32(2), int64(1), object(1)\n",
      "memory usage: 312.5+ KB\n",
      "\n",
      "<class 'pandas.core.frame.DataFrame'>\n",
      "RangeIndex: 217774 entries, 0 to 217773\n",
      "Data columns (total 22 columns):\n",
      " #   Column               Non-Null Count   Dtype         \n",
      "---  ------               --------------   -----         \n",
      " 0   company_ID           217472 non-null  float32       \n",
      " 1   name                 217471 non-null  object        \n",
      " 2   category_code        143886 non-null  object        \n",
      " 3   status               217472 non-null  object        \n",
      " 4   founded_at           109956 non-null  datetime64[ns]\n",
      " 5   closed_at            3449 non-null    datetime64[ns]\n",
      " 6   domain               147159 non-null  object        \n",
      " 7   network_username     95534 non-null   object        \n",
      " 8   country_code         108607 non-null  object        \n",
      " 9   investment_rounds    217472 non-null  float32       \n",
      " 10  funding_rounds       217472 non-null  float32       \n",
      " 11  funding_total        217472 non-null  float32       \n",
      " 12  milestones           217472 non-null  float32       \n",
      " 13  funding_round_id     52928 non-null   float32       \n",
      " 14  company_id           52928 non-null   float32       \n",
      " 15  funded_at            52680 non-null   datetime64[ns]\n",
      " 16  funding_round_type   52928 non-null   object        \n",
      " 17  raised_amount        52928 non-null   float32       \n",
      " 18  pre_money_valuation  52928 non-null   float32       \n",
      " 19  participants         52928 non-null   float32       \n",
      " 20  is_first_round       52928 non-null   float32       \n",
      " 21  is_last_round        52928 non-null   float32       \n",
      "dtypes: datetime64[ns](3), float32(12), object(7)\n",
      "memory usage: 26.6+ MB\n",
      "\n",
      "<class 'pandas.core.frame.DataFrame'>\n",
      "RangeIndex: 109610 entries, 0 to 109609\n",
      "Data columns (total 4 columns):\n",
      " #   Column       Non-Null Count   Dtype \n",
      "---  ------       --------------   ----- \n",
      " 0   id           109610 non-null  int32 \n",
      " 1   object_id    109610 non-null  object\n",
      " 2   degree_type  98389 non-null   object\n",
      " 3   subject      81298 non-null   object\n",
      "dtypes: int32(1), object(3)\n",
      "memory usage: 2.9+ MB\n",
      "\n",
      "<class 'pandas.core.frame.DataFrame'>\n",
      "RangeIndex: 109610 entries, 0 to 109609\n",
      "Data columns (total 4 columns):\n",
      " #   Column        Non-Null Count   Dtype         \n",
      "---  ------        --------------   -----         \n",
      " 0   id            109610 non-null  int32         \n",
      " 1   person_id     109610 non-null  int32         \n",
      " 2   instituition  109555 non-null  object        \n",
      " 3   graduated_at  58054 non-null   datetime64[ns]\n",
      "dtypes: datetime64[ns](1), int32(2), object(1)\n",
      "memory usage: 2.5+ MB\n",
      "\n",
      "<class 'pandas.core.frame.DataFrame'>\n",
      "RangeIndex: 11652 entries, 0 to 11651\n",
      "Data columns (total 9 columns):\n",
      " #   Column              Non-Null Count  Dtype \n",
      "---  ------              --------------  ----- \n",
      " 0   id                  11652 non-null  int16 \n",
      " 1   name                11649 non-null  object\n",
      " 2   founded_at          4605 non-null   object\n",
      " 3   domain              7362 non-null   object\n",
      " 4   network_username    2149 non-null   object\n",
      " 5   country_code        7053 non-null   object\n",
      " 6   investment_rounds   11652 non-null  int16 \n",
      " 7   invested_companies  11652 non-null  int16 \n",
      " 8   milestones          11652 non-null  int8  \n",
      "dtypes: int16(3), int8(1), object(5)\n",
      "memory usage: 534.9+ KB\n",
      "\n",
      "<class 'pandas.core.frame.DataFrame'>\n",
      "RangeIndex: 61403 entries, 0 to 61402\n",
      "Data columns (total 4 columns):\n",
      " #   Column            Non-Null Count  Dtype\n",
      "---  ------            --------------  -----\n",
      " 0   id                61403 non-null  int32\n",
      " 1   funding_round_id  61403 non-null  int32\n",
      " 2   company_id        61403 non-null  int32\n",
      " 3   fund_id           61403 non-null  int16\n",
      "dtypes: int16(1), int32(3)\n",
      "memory usage: 839.6 KB\n",
      "\n",
      "<class 'pandas.core.frame.DataFrame'>\n",
      "RangeIndex: 226709 entries, 0 to 226708\n",
      "Data columns (total 5 columns):\n",
      " #   Column            Non-Null Count   Dtype  \n",
      "---  ------            --------------   -----  \n",
      " 0   id                226709 non-null  int32  \n",
      " 1   first_name        226700 non-null  object \n",
      " 2   last_name         226705 non-null  object \n",
      " 3   company_id        34615 non-null   float32\n",
      " 4   network_username  38867 non-null   object \n",
      "dtypes: float32(1), int32(1), object(3)\n",
      "memory usage: 6.9+ MB\n",
      "\n"
     ]
    }
   ],
   "source": [
    "for df in [acquisition, company_and_rounds, degrees, education, fund, investment, people]:\n",
    "    df.info()\n",
    "    print()"
   ]
  },
  {
   "cell_type": "markdown",
   "metadata": {},
   "source": [
    "Мы оптимизировали типы данных и сэкономили ресурсы, можно продолжать!"
   ]
  },
  {
   "cell_type": "markdown",
   "metadata": {},
   "source": [
    "##### Оценка полноты данных:\n"
   ]
  },
  {
   "cell_type": "markdown",
   "metadata": {},
   "source": [
    "Из данных, исследованных выше можно сделать следующие выводы о связи таблиц:\n",
    "- Датафреймы **acquisition** и **company_and_rounds** можно соединить по столбцам **acquiring_company_id** или **acquired_company_id** и **company_id**\n",
    "- Датафреймы **education** и **degrees** можно соединить по **id**\n",
    "- Датафреймы **people** и **education** можно соединить по столбцам **id** и **person_id**"
   ]
  },
  {
   "cell_type": "markdown",
   "metadata": {},
   "source": [
    "Проверим это:"
   ]
  },
  {
   "cell_type": "code",
   "execution_count": 49,
   "metadata": {},
   "outputs": [],
   "source": [
    "# Функция проверяет количество совпадающих данных в двух датафреймах по столбцам\n",
    "def check_column_matches(df1, column1, df2, column2):\n",
    "    unique_values = df1[column1].unique()\n",
    "    existing_values = set(unique_values) & set(df2[column2].unique())\n",
    "    missing_values = set(unique_values) - set(df2[column2].unique())\n",
    "\n",
    "    total_values = len(unique_values)\n",
    "    percent_existing = len(existing_values) / total_values * 100\n",
    "    percent_missing = len(missing_values) / total_values * 100\n",
    "\n",
    "    print(f\"Совпадения для столбца {column1} в первом датафрейме и {column2} во втором:\")\n",
    "    print(f\"> Найдены в {len(existing_values)} ({percent_existing:.2f}%) строках.\")\n",
    "    print(f\"> Отсутствуют в {len(missing_values)} ({percent_missing:.2f}%) строках.\\n\")"
   ]
  },
  {
   "cell_type": "code",
   "execution_count": 50,
   "metadata": {},
   "outputs": [
    {
     "name": "stdout",
     "output_type": "stream",
     "text": [
      "Совпадения для столбца acquiring_company_id в первом датафрейме и company_id во втором:\n",
      "> Найдены в 1506 (31.42%) строках.\n",
      "> Отсутствуют в 3287 (68.58%) строках.\n",
      "\n",
      "Совпадения для столбца acquired_company_id в первом датафрейме и company_id во втором:\n",
      "> Найдены в 2563 (27.67%) строках.\n",
      "> Отсутствуют в 6701 (72.33%) строках.\n",
      "\n"
     ]
    }
   ],
   "source": [
    "check_column_matches(acquisition, 'acquiring_company_id', company_and_rounds, 'company_id')\n",
    "check_column_matches(acquisition, 'acquired_company_id', company_and_rounds, 'company_id')"
   ]
  },
  {
   "cell_type": "code",
   "execution_count": 51,
   "metadata": {},
   "outputs": [
    {
     "name": "stdout",
     "output_type": "stream",
     "text": [
      "Совпадения для столбца id в первом датафрейме и id во втором:\n",
      "> Найдены в 109610 (100.00%) строках.\n",
      "> Отсутствуют в 0 (0.00%) строках.\n",
      "\n"
     ]
    }
   ],
   "source": [
    "check_column_matches(education, 'id', degrees, 'id')"
   ]
  },
  {
   "cell_type": "code",
   "execution_count": 52,
   "metadata": {},
   "outputs": [
    {
     "name": "stdout",
     "output_type": "stream",
     "text": [
      "Совпадения для столбца person_id в первом датафрейме и id во втором:\n",
      "> Найдены в 68071 (99.44%) строках.\n",
      "> Отсутствуют в 380 (0.56%) строках.\n",
      "\n"
     ]
    }
   ],
   "source": [
    "check_column_matches(education, 'person_id', people, 'id')"
   ]
  },
  {
   "cell_type": "markdown",
   "metadata": {},
   "source": [
    "Также проверим, совпадают ли данные о сотрудниках в **people** и **company_and_rounds** по **company_id** или **network_username**"
   ]
  },
  {
   "cell_type": "code",
   "execution_count": 53,
   "metadata": {},
   "outputs": [
    {
     "name": "stdout",
     "output_type": "stream",
     "text": [
      "Совпадения для столбца company_id в первом датафрейме и company_id во втором:\n",
      "> Найдены в 6372 (19.95%) строках.\n",
      "> Отсутствуют в 25568 (80.05%) строках.\n",
      "\n"
     ]
    }
   ],
   "source": [
    "check_column_matches(company_and_rounds, 'company_id', people, 'company_id')"
   ]
  },
  {
   "cell_type": "code",
   "execution_count": 54,
   "metadata": {},
   "outputs": [
    {
     "name": "stdout",
     "output_type": "stream",
     "text": [
      "Совпадения для столбца company_ID в первом датафрейме и company_id во втором:\n",
      "> Найдены в 22922 (11.66%) строках.\n",
      "> Отсутствуют в 173632 (88.34%) строках.\n",
      "\n"
     ]
    }
   ],
   "source": [
    "check_column_matches(company_and_rounds, 'company_ID', people, 'company_id')"
   ]
  },
  {
   "cell_type": "code",
   "execution_count": 55,
   "metadata": {},
   "outputs": [
    {
     "name": "stdout",
     "output_type": "stream",
     "text": [
      "Совпадения для столбца network_username в первом датафрейме и network_username во втором:\n",
      "> Найдены в 2200 (2.76%) строках.\n",
      "> Отсутствуют в 77372 (97.24%) строках.\n",
      "\n"
     ]
    }
   ],
   "source": [
    "check_column_matches(company_and_rounds, 'network_username', people, 'network_username')"
   ]
  },
  {
   "cell_type": "markdown",
   "metadata": {},
   "source": [
    "Исследовав данные, а так же их связи и пропуски, можно сделать вывод, что данные соответствуют здравому смыслу, но в них много пропусков.  \n",
    "Однако не все из них помешают анализу, некоторые обоснованы тем, что информация о компании есть, но она не финансировалась.  \n",
    "Также данные о сотрудниках практически не пересекаются с данными о компаниях, поэтому их можно будет исследовать отдельно от компаний."
   ]
  },
  {
   "cell_type": "markdown",
   "metadata": {
    "id": "u60cHsn6rJg1"
   },
   "source": [
    "## Шаг 2. Предобработка данных, предварительное исследование"
   ]
  },
  {
   "cell_type": "markdown",
   "metadata": {
    "id": "g2bHIIjcrJg1"
   },
   "source": [
    "\n",
    "### 2.1. Раунды финансирования по годам\n",
    "\n",
    "Я решил провести анализ раундов финансирования стартапов по годам, используя данные из файла company_and_rounds.csv.\n",
    "\n",
    "После этого я отвечу на вопросы:\n",
    "- В каком году «типичный» объём финансирования за раунд достиг максимума?\n",
    "- Как изменялись количество раундов и средний (типичный) размер раунда в 2013 году?"
   ]
  },
  {
   "cell_type": "code",
   "execution_count": 56,
   "metadata": {
    "id": "ovyDibxNrJg1"
   },
   "outputs": [
    {
     "data": {
      "text/html": [
       "<div>\n",
       "<style scoped>\n",
       "    .dataframe tbody tr th:only-of-type {\n",
       "        vertical-align: middle;\n",
       "    }\n",
       "\n",
       "    .dataframe tbody tr th {\n",
       "        vertical-align: top;\n",
       "    }\n",
       "\n",
       "    .dataframe thead th {\n",
       "        text-align: right;\n",
       "    }\n",
       "</style>\n",
       "<table border=\"1\" class=\"dataframe\">\n",
       "  <thead>\n",
       "    <tr style=\"text-align: right;\">\n",
       "      <th></th>\n",
       "      <th>funded_at</th>\n",
       "      <th>funding_rounds</th>\n",
       "      <th>funds_per_round</th>\n",
       "    </tr>\n",
       "  </thead>\n",
       "  <tbody>\n",
       "    <tr>\n",
       "      <th>0</th>\n",
       "      <td>1999</td>\n",
       "      <td>76</td>\n",
       "      <td>2000000.0</td>\n",
       "    </tr>\n",
       "    <tr>\n",
       "      <th>1</th>\n",
       "      <td>2000</td>\n",
       "      <td>125</td>\n",
       "      <td>4200000.0</td>\n",
       "    </tr>\n",
       "    <tr>\n",
       "      <th>2</th>\n",
       "      <td>2001</td>\n",
       "      <td>96</td>\n",
       "      <td>3000000.0</td>\n",
       "    </tr>\n",
       "    <tr>\n",
       "      <th>3</th>\n",
       "      <td>2002</td>\n",
       "      <td>116</td>\n",
       "      <td>4200000.0</td>\n",
       "    </tr>\n",
       "    <tr>\n",
       "      <th>4</th>\n",
       "      <td>2003</td>\n",
       "      <td>159</td>\n",
       "      <td>3000000.0</td>\n",
       "    </tr>\n",
       "    <tr>\n",
       "      <th>5</th>\n",
       "      <td>2004</td>\n",
       "      <td>291</td>\n",
       "      <td>5000000.0</td>\n",
       "    </tr>\n",
       "    <tr>\n",
       "      <th>6</th>\n",
       "      <td>2005</td>\n",
       "      <td>1633</td>\n",
       "      <td>5500000.0</td>\n",
       "    </tr>\n",
       "    <tr>\n",
       "      <th>7</th>\n",
       "      <td>2006</td>\n",
       "      <td>2436</td>\n",
       "      <td>5000000.0</td>\n",
       "    </tr>\n",
       "    <tr>\n",
       "      <th>8</th>\n",
       "      <td>2007</td>\n",
       "      <td>3279</td>\n",
       "      <td>3973320.0</td>\n",
       "    </tr>\n",
       "    <tr>\n",
       "      <th>9</th>\n",
       "      <td>2008</td>\n",
       "      <td>3774</td>\n",
       "      <td>3110000.0</td>\n",
       "    </tr>\n",
       "    <tr>\n",
       "      <th>10</th>\n",
       "      <td>2009</td>\n",
       "      <td>4151</td>\n",
       "      <td>2000000.0</td>\n",
       "    </tr>\n",
       "    <tr>\n",
       "      <th>11</th>\n",
       "      <td>2010</td>\n",
       "      <td>6221</td>\n",
       "      <td>1602500.0</td>\n",
       "    </tr>\n",
       "    <tr>\n",
       "      <th>12</th>\n",
       "      <td>2011</td>\n",
       "      <td>9204</td>\n",
       "      <td>1200000.0</td>\n",
       "    </tr>\n",
       "    <tr>\n",
       "      <th>13</th>\n",
       "      <td>2012</td>\n",
       "      <td>9970</td>\n",
       "      <td>1000000.0</td>\n",
       "    </tr>\n",
       "    <tr>\n",
       "      <th>14</th>\n",
       "      <td>2013</td>\n",
       "      <td>11072</td>\n",
       "      <td>1200000.0</td>\n",
       "    </tr>\n",
       "  </tbody>\n",
       "</table>\n",
       "</div>"
      ],
      "text/plain": [
       "    funded_at  funding_rounds  funds_per_round\n",
       "0        1999              76        2000000.0\n",
       "1        2000             125        4200000.0\n",
       "2        2001              96        3000000.0\n",
       "3        2002             116        4200000.0\n",
       "4        2003             159        3000000.0\n",
       "5        2004             291        5000000.0\n",
       "6        2005            1633        5500000.0\n",
       "7        2006            2436        5000000.0\n",
       "8        2007            3279        3973320.0\n",
       "9        2008            3774        3110000.0\n",
       "10       2009            4151        2000000.0\n",
       "11       2010            6221        1602500.0\n",
       "12       2011            9204        1200000.0\n",
       "13       2012            9970        1000000.0\n",
       "14       2013           11072        1200000.0"
      ]
     },
     "execution_count": 56,
     "metadata": {},
     "output_type": "execute_result"
    }
   ],
   "source": [
    "pivot = pd.pivot_table(company_and_rounds, \n",
    "                       values=['raised_amount', 'funding_round_id'], \n",
    "                       index=company_and_rounds['funded_at'].dt.year, \n",
    "                       aggfunc={'raised_amount': 'median', \n",
    "                                'funding_round_id': 'count'}, \n",
    "                       fill_value=0)\n",
    "pivot.columns = ['funding_rounds', 'funds_per_round']\n",
    "pivot = pivot[pivot['funding_rounds'] > 50]\n",
    "pivot = pivot.reset_index()\n",
    "pivot['funded_at'] = pivot['funded_at'].astype(int)\n",
    "pivot"
   ]
  },
  {
   "cell_type": "code",
   "execution_count": 57,
   "metadata": {},
   "outputs": [
    {
     "data": {
      "image/png": "[encoded data removed]",
      "text/plain": [
       "<Figure size 1200x800 with 2 Axes>"
      ]
     },
     "metadata": {},
     "output_type": "display_data"
    }
   ],
   "source": [
    "plt.figure(figsize=(12, 8))\n",
    "\n",
    "ax1 = sns.pointplot(data=pivot, x='funded_at', y='funds_per_round', label='Сумма финансирования за раунд',\n",
    "                    color='red', marker='o', markersize=5, linewidth=2)\n",
    "\n",
    "ax2 = ax1.twinx()\n",
    "sns.pointplot(data=pivot, x='funded_at', y='funding_rounds', label='Раунды финансирования',\n",
    "              color='blue', marker='o', markersize=5, linewidth=2, ax=ax2)\n",
    "\n",
    "plt.title('Раунды финансирования и сумма финансирования за раунд')\n",
    "ax1.set_xlabel('Год', fontsize=10)\n",
    "ax1.set_ylabel('Сумма финансирования за раунд', color='red', fontsize=12)\n",
    "ax2.set_ylabel('Раунды финансирования', color='blue', fontsize=12)\n",
    "\n",
    "ax1.set_xticks(ax1.get_xticks())\n",
    "ax1.set_xticklabels(pivot['funded_at'], rotation=45, fontsize=10)\n",
    "\n",
    "ax1.set_yticks(np.arange(0, pivot['funds_per_round'].max() + 1, 1_000_000))  # Ось Y для финансирования\n",
    "ax2.set_yticks(np.arange(0, pivot['funding_rounds'].max() + 1, 1000))  # Ось Y для раундов финансирования\n",
    "\n",
    "ax1.grid(axis='x', linestyle='--', alpha=0.7)\n",
    "ax1.legend(loc='lower right')\n",
    "ax2.legend(loc='lower right', bbox_to_anchor=(1, 0.05))\n",
    "\n",
    "ax1.yaxis.set_major_formatter(mticker.StrMethodFormatter('{x:,.0f}'))\n",
    "\n",
    "plt.show()"
   ]
  },
  {
   "cell_type": "markdown",
   "metadata": {},
   "source": [
    "На основе полученных данных, отвечаем на вопросы:"
   ]
  },
  {
   "cell_type": "markdown",
   "metadata": {},
   "source": [
    "Типичный размер средств, собранных в рамках одного раунда был максимален в 2005 году и составил 5,5 миллионов.  \n",
    "Изучая тендецию финансирования в 2013 году, мы видим рост количества раундов финансирования, которые превысили отметку в 11000 раундов, а также рост суммы финансирования в среднем за раунд, выросший до 1,2 миллионов. "
   ]
  },
  {
   "cell_type": "markdown",
   "metadata": {
    "id": "45if1en1rJg2"
   },
   "source": [
    "\n",
    "### 2.2. Люди и их образование\n",
    "\n",
    "Я решил исследовать, как полнота сведений об образовании сотрудников соотносится с размером компаний. "
   ]
  },
  {
   "cell_type": "code",
   "execution_count": 58,
   "metadata": {
    "id": "psPO7C4MrJg2"
   },
   "outputs": [],
   "source": [
    "people_education = pd.merge(people, education, how='left', left_on='id', right_on='person_id', suffixes=('_people', '_education'))"
   ]
  },
  {
   "cell_type": "markdown",
   "metadata": {},
   "source": [
    "Соединяем данные с помощью left, так как не у всех сотрудников есть информация об образовании"
   ]
  },
  {
   "cell_type": "code",
   "execution_count": 59,
   "metadata": {
    "id": "xdQ6H5ZSn1ZM"
   },
   "outputs": [
    {
     "name": "stdout",
     "output_type": "stream",
     "text": [
      "<class 'pandas.core.frame.DataFrame'>\n",
      "RangeIndex: 267694 entries, 0 to 267693\n",
      "Data columns (total 9 columns):\n",
      " #   Column            Non-Null Count   Dtype         \n",
      "---  ------            --------------   -----         \n",
      " 0   id_people         267694 non-null  int32         \n",
      " 1   first_name        267685 non-null  object        \n",
      " 2   last_name         267690 non-null  object        \n",
      " 3   company_id        44789 non-null   float32       \n",
      " 4   network_username  50775 non-null   object        \n",
      " 5   id_education      109056 non-null  float64       \n",
      " 6   person_id         109056 non-null  float64       \n",
      " 7   instituition      109002 non-null  object        \n",
      " 8   graduated_at      57691 non-null   datetime64[ns]\n",
      "dtypes: datetime64[ns](1), float32(1), float64(2), int32(1), object(4)\n",
      "memory usage: 16.3+ MB\n"
     ]
    }
   ],
   "source": [
    "people_education.info()"
   ]
  },
  {
   "cell_type": "code",
   "execution_count": 60,
   "metadata": {},
   "outputs": [
    {
     "data": {
      "text/html": [
       "<div>\n",
       "<style scoped>\n",
       "    .dataframe tbody tr th:only-of-type {\n",
       "        vertical-align: middle;\n",
       "    }\n",
       "\n",
       "    .dataframe tbody tr th {\n",
       "        vertical-align: top;\n",
       "    }\n",
       "\n",
       "    .dataframe thead th {\n",
       "        text-align: right;\n",
       "    }\n",
       "</style>\n",
       "<table border=\"1\" class=\"dataframe\">\n",
       "  <thead>\n",
       "    <tr style=\"text-align: right;\">\n",
       "      <th></th>\n",
       "      <th>id_people</th>\n",
       "      <th>first_name</th>\n",
       "      <th>last_name</th>\n",
       "      <th>company_id</th>\n",
       "      <th>network_username</th>\n",
       "      <th>id_education</th>\n",
       "      <th>person_id</th>\n",
       "      <th>instituition</th>\n",
       "      <th>graduated_at</th>\n",
       "    </tr>\n",
       "  </thead>\n",
       "  <tbody>\n",
       "    <tr>\n",
       "      <th>0</th>\n",
       "      <td>10</td>\n",
       "      <td>Mark</td>\n",
       "      <td>Zuckerberg</td>\n",
       "      <td>5.0</td>\n",
       "      <td>NaN</td>\n",
       "      <td>2415.0</td>\n",
       "      <td>10.0</td>\n",
       "      <td>Harvard University</td>\n",
       "      <td>NaT</td>\n",
       "    </tr>\n",
       "    <tr>\n",
       "      <th>1</th>\n",
       "      <td>100</td>\n",
       "      <td>Peter</td>\n",
       "      <td>Lester</td>\n",
       "      <td>27.0</td>\n",
       "      <td>NaN</td>\n",
       "      <td>NaN</td>\n",
       "      <td>NaN</td>\n",
       "      <td>NaN</td>\n",
       "      <td>NaT</td>\n",
       "    </tr>\n",
       "    <tr>\n",
       "      <th>2</th>\n",
       "      <td>1000</td>\n",
       "      <td>Dr. Steven</td>\n",
       "      <td>E. Saunders</td>\n",
       "      <td>292.0</td>\n",
       "      <td>NaN</td>\n",
       "      <td>NaN</td>\n",
       "      <td>NaN</td>\n",
       "      <td>NaN</td>\n",
       "      <td>NaT</td>\n",
       "    </tr>\n",
       "    <tr>\n",
       "      <th>3</th>\n",
       "      <td>10000</td>\n",
       "      <td>Neil</td>\n",
       "      <td>Capel</td>\n",
       "      <td>2526.0</td>\n",
       "      <td>NaN</td>\n",
       "      <td>NaN</td>\n",
       "      <td>NaN</td>\n",
       "      <td>NaN</td>\n",
       "      <td>NaT</td>\n",
       "    </tr>\n",
       "    <tr>\n",
       "      <th>4</th>\n",
       "      <td>100000</td>\n",
       "      <td>Sue</td>\n",
       "      <td>Pilsch</td>\n",
       "      <td>NaN</td>\n",
       "      <td>NaN</td>\n",
       "      <td>NaN</td>\n",
       "      <td>NaN</td>\n",
       "      <td>NaN</td>\n",
       "      <td>NaT</td>\n",
       "    </tr>\n",
       "  </tbody>\n",
       "</table>\n",
       "</div>"
      ],
      "text/plain": [
       "   id_people  first_name    last_name  company_id network_username  \\\n",
       "0         10        Mark   Zuckerberg         5.0              NaN   \n",
       "1        100       Peter       Lester        27.0              NaN   \n",
       "2       1000  Dr. Steven  E. Saunders       292.0              NaN   \n",
       "3      10000        Neil        Capel      2526.0              NaN   \n",
       "4     100000         Sue       Pilsch         NaN              NaN   \n",
       "\n",
       "   id_education  person_id        instituition graduated_at  \n",
       "0        2415.0       10.0  Harvard University          NaT  \n",
       "1           NaN        NaN                 NaN          NaT  \n",
       "2           NaN        NaN                 NaN          NaT  \n",
       "3           NaN        NaN                 NaN          NaT  \n",
       "4           NaN        NaN                 NaN          NaT  "
      ]
     },
     "execution_count": 60,
     "metadata": {},
     "output_type": "execute_result"
    }
   ],
   "source": [
    "people_education.head()"
   ]
  },
  {
   "cell_type": "code",
   "execution_count": 61,
   "metadata": {},
   "outputs": [
    {
     "data": {
      "image/png": "[encoded data removed]",
      "text/plain": [
       "<Figure size 2000x1200 with 2 Axes>"
      ]
     },
     "metadata": {},
     "output_type": "display_data"
    }
   ],
   "source": [
    "msno.heatmap(people_education)\n",
    "plt.show()"
   ]
  },
  {
   "cell_type": "markdown",
   "metadata": {},
   "source": [
    "**network_username** имеет незначительное количество пропусков.  \n",
    "**id_education**, **person_id** и **instituition** имеют схожую корреляцию, что означает, что если отсутствует **id_education**, скорее всего, нет и информации об учебном заведении **instituition**.  \n",
    "**graduated_at** коррелирует с **id_education** и **person_id**, что логично, ведь если нет информации об образовании, то и дата выпуска отсутствует."
   ]
  },
  {
   "cell_type": "code",
   "execution_count": 62,
   "metadata": {},
   "outputs": [
    {
     "data": {
      "text/plain": [
       "company_id\n",
       "59.0        244\n",
       "29.0        150\n",
       "1242.0      138\n",
       "231067.0     72\n",
       "499.0        63\n",
       "           ... \n",
       "63585.0       1\n",
       "7258.0        1\n",
       "63581.0       1\n",
       "63580.0       1\n",
       "70884.0       1\n",
       "Name: id_people, Length: 22922, dtype: int64"
      ]
     },
     "execution_count": 62,
     "metadata": {},
     "output_type": "execute_result"
    }
   ],
   "source": [
    "people_education.groupby('company_id')['id_people'].nunique().sort_values(ascending=False)"
   ]
  },
  {
   "cell_type": "markdown",
   "metadata": {},
   "source": [
    "Посмотрим, какие количества сотрудников есть в данных, чтобы выбрать границы групп."
   ]
  },
  {
   "cell_type": "code",
   "execution_count": 63,
   "metadata": {},
   "outputs": [
    {
     "data": {
      "text/html": [
       "<style type=\"text/css\">\n",
       "#T_737cc_row0_col0 {\n",
       "  background-color: #b40426;\n",
       "  color: #f1f1f1;\n",
       "}\n",
       "#T_737cc_row1_col0 {\n",
       "  background-color: #6a8bef;\n",
       "  color: #f1f1f1;\n",
       "}\n",
       "#T_737cc_row2_col0 {\n",
       "  background-color: #4a63d3;\n",
       "  color: #f1f1f1;\n",
       "}\n",
       "#T_737cc_row3_col0 {\n",
       "  background-color: #4257c9;\n",
       "  color: #f1f1f1;\n",
       "}\n",
       "#T_737cc_row4_col0 {\n",
       "  background-color: #3e51c5;\n",
       "  color: #f1f1f1;\n",
       "}\n",
       "#T_737cc_row5_col0, #T_737cc_row6_col0 {\n",
       "  background-color: #3c4ec2;\n",
       "  color: #f1f1f1;\n",
       "}\n",
       "#T_737cc_row7_col0, #T_737cc_row8_col0, #T_737cc_row9_col0, #T_737cc_row10_col0, #T_737cc_row11_col0, #T_737cc_row12_col0, #T_737cc_row13_col0, #T_737cc_row14_col0, #T_737cc_row15_col0, #T_737cc_row16_col0, #T_737cc_row17_col0, #T_737cc_row18_col0, #T_737cc_row19_col0, #T_737cc_row20_col0, #T_737cc_row21_col0, #T_737cc_row22_col0, #T_737cc_row23_col0, #T_737cc_row24_col0, #T_737cc_row25_col0, #T_737cc_row26_col0, #T_737cc_row27_col0, #T_737cc_row28_col0, #T_737cc_row29_col0, #T_737cc_row30_col0, #T_737cc_row31_col0, #T_737cc_row32_col0, #T_737cc_row33_col0, #T_737cc_row34_col0, #T_737cc_row35_col0, #T_737cc_row36_col0, #T_737cc_row37_col0, #T_737cc_row38_col0, #T_737cc_row39_col0, #T_737cc_row40_col0 {\n",
       "  background-color: #3b4cc0;\n",
       "  color: #f1f1f1;\n",
       "}\n",
       "</style>\n",
       "<table id=\"T_737cc\">\n",
       "  <thead>\n",
       "    <tr>\n",
       "      <th class=\"blank level0\" >&nbsp;</th>\n",
       "      <th id=\"T_737cc_level0_col0\" class=\"col_heading level0 col0\" >proportion</th>\n",
       "    </tr>\n",
       "    <tr>\n",
       "      <th class=\"index_name level0\" >num_people</th>\n",
       "      <th class=\"blank col0\" >&nbsp;</th>\n",
       "    </tr>\n",
       "  </thead>\n",
       "  <tbody>\n",
       "    <tr>\n",
       "      <th id=\"T_737cc_level0_row0\" class=\"row_heading level0 row0\" >1</th>\n",
       "      <td id=\"T_737cc_row0_col0\" class=\"data row0 col0\" >0.7904</td>\n",
       "    </tr>\n",
       "    <tr>\n",
       "      <th id=\"T_737cc_level0_row1\" class=\"row_heading level0 row1\" >2</th>\n",
       "      <td id=\"T_737cc_row1_col0\" class=\"data row1 col0\" >0.1182</td>\n",
       "    </tr>\n",
       "    <tr>\n",
       "      <th id=\"T_737cc_level0_row2\" class=\"row_heading level0 row2\" >3</th>\n",
       "      <td id=\"T_737cc_row2_col0\" class=\"data row2 col0\" >0.0402</td>\n",
       "    </tr>\n",
       "    <tr>\n",
       "      <th id=\"T_737cc_level0_row3\" class=\"row_heading level0 row3\" >4</th>\n",
       "      <td id=\"T_737cc_row3_col0\" class=\"data row3 col0\" >0.0196</td>\n",
       "    </tr>\n",
       "    <tr>\n",
       "      <th id=\"T_737cc_level0_row4\" class=\"row_heading level0 row4\" >5</th>\n",
       "      <td id=\"T_737cc_row4_col0\" class=\"data row4 col0\" >0.0103</td>\n",
       "    </tr>\n",
       "    <tr>\n",
       "      <th id=\"T_737cc_level0_row5\" class=\"row_heading level0 row5\" >6</th>\n",
       "      <td id=\"T_737cc_row5_col0\" class=\"data row5 col0\" >0.0060</td>\n",
       "    </tr>\n",
       "    <tr>\n",
       "      <th id=\"T_737cc_level0_row6\" class=\"row_heading level0 row6\" >7</th>\n",
       "      <td id=\"T_737cc_row6_col0\" class=\"data row6 col0\" >0.0044</td>\n",
       "    </tr>\n",
       "    <tr>\n",
       "      <th id=\"T_737cc_level0_row7\" class=\"row_heading level0 row7\" >8</th>\n",
       "      <td id=\"T_737cc_row7_col0\" class=\"data row7 col0\" >0.0026</td>\n",
       "    </tr>\n",
       "    <tr>\n",
       "      <th id=\"T_737cc_level0_row8\" class=\"row_heading level0 row8\" >9</th>\n",
       "      <td id=\"T_737cc_row8_col0\" class=\"data row8 col0\" >0.0020</td>\n",
       "    </tr>\n",
       "    <tr>\n",
       "      <th id=\"T_737cc_level0_row9\" class=\"row_heading level0 row9\" >10</th>\n",
       "      <td id=\"T_737cc_row9_col0\" class=\"data row9 col0\" >0.0011</td>\n",
       "    </tr>\n",
       "    <tr>\n",
       "      <th id=\"T_737cc_level0_row10\" class=\"row_heading level0 row10\" >11</th>\n",
       "      <td id=\"T_737cc_row10_col0\" class=\"data row10 col0\" >0.0013</td>\n",
       "    </tr>\n",
       "    <tr>\n",
       "      <th id=\"T_737cc_level0_row11\" class=\"row_heading level0 row11\" >12</th>\n",
       "      <td id=\"T_737cc_row11_col0\" class=\"data row11 col0\" >0.0007</td>\n",
       "    </tr>\n",
       "    <tr>\n",
       "      <th id=\"T_737cc_level0_row12\" class=\"row_heading level0 row12\" >13</th>\n",
       "      <td id=\"T_737cc_row12_col0\" class=\"data row12 col0\" >0.0007</td>\n",
       "    </tr>\n",
       "    <tr>\n",
       "      <th id=\"T_737cc_level0_row13\" class=\"row_heading level0 row13\" >14</th>\n",
       "      <td id=\"T_737cc_row13_col0\" class=\"data row13 col0\" >0.0003</td>\n",
       "    </tr>\n",
       "    <tr>\n",
       "      <th id=\"T_737cc_level0_row14\" class=\"row_heading level0 row14\" >15</th>\n",
       "      <td id=\"T_737cc_row14_col0\" class=\"data row14 col0\" >0.0001</td>\n",
       "    </tr>\n",
       "    <tr>\n",
       "      <th id=\"T_737cc_level0_row15\" class=\"row_heading level0 row15\" >16</th>\n",
       "      <td id=\"T_737cc_row15_col0\" class=\"data row15 col0\" >0.0002</td>\n",
       "    </tr>\n",
       "    <tr>\n",
       "      <th id=\"T_737cc_level0_row16\" class=\"row_heading level0 row16\" >17</th>\n",
       "      <td id=\"T_737cc_row16_col0\" class=\"data row16 col0\" >0.0002</td>\n",
       "    </tr>\n",
       "    <tr>\n",
       "      <th id=\"T_737cc_level0_row17\" class=\"row_heading level0 row17\" >18</th>\n",
       "      <td id=\"T_737cc_row17_col0\" class=\"data row17 col0\" >0.0001</td>\n",
       "    </tr>\n",
       "    <tr>\n",
       "      <th id=\"T_737cc_level0_row18\" class=\"row_heading level0 row18\" >19</th>\n",
       "      <td id=\"T_737cc_row18_col0\" class=\"data row18 col0\" >0.0001</td>\n",
       "    </tr>\n",
       "    <tr>\n",
       "      <th id=\"T_737cc_level0_row19\" class=\"row_heading level0 row19\" >20</th>\n",
       "      <td id=\"T_737cc_row19_col0\" class=\"data row19 col0\" >0.0001</td>\n",
       "    </tr>\n",
       "    <tr>\n",
       "      <th id=\"T_737cc_level0_row20\" class=\"row_heading level0 row20\" >21</th>\n",
       "      <td id=\"T_737cc_row20_col0\" class=\"data row20 col0\" >0.0001</td>\n",
       "    </tr>\n",
       "    <tr>\n",
       "      <th id=\"T_737cc_level0_row21\" class=\"row_heading level0 row21\" >22</th>\n",
       "      <td id=\"T_737cc_row21_col0\" class=\"data row21 col0\" >0.0001</td>\n",
       "    </tr>\n",
       "    <tr>\n",
       "      <th id=\"T_737cc_level0_row22\" class=\"row_heading level0 row22\" >23</th>\n",
       "      <td id=\"T_737cc_row22_col0\" class=\"data row22 col0\" >0.0001</td>\n",
       "    </tr>\n",
       "    <tr>\n",
       "      <th id=\"T_737cc_level0_row23\" class=\"row_heading level0 row23\" >25</th>\n",
       "      <td id=\"T_737cc_row23_col0\" class=\"data row23 col0\" >0.0001</td>\n",
       "    </tr>\n",
       "    <tr>\n",
       "      <th id=\"T_737cc_level0_row24\" class=\"row_heading level0 row24\" >26</th>\n",
       "      <td id=\"T_737cc_row24_col0\" class=\"data row24 col0\" >0.0000</td>\n",
       "    </tr>\n",
       "    <tr>\n",
       "      <th id=\"T_737cc_level0_row25\" class=\"row_heading level0 row25\" >29</th>\n",
       "      <td id=\"T_737cc_row25_col0\" class=\"data row25 col0\" >0.0001</td>\n",
       "    </tr>\n",
       "    <tr>\n",
       "      <th id=\"T_737cc_level0_row26\" class=\"row_heading level0 row26\" >31</th>\n",
       "      <td id=\"T_737cc_row26_col0\" class=\"data row26 col0\" >0.0000</td>\n",
       "    </tr>\n",
       "    <tr>\n",
       "      <th id=\"T_737cc_level0_row27\" class=\"row_heading level0 row27\" >32</th>\n",
       "      <td id=\"T_737cc_row27_col0\" class=\"data row27 col0\" >0.0000</td>\n",
       "    </tr>\n",
       "    <tr>\n",
       "      <th id=\"T_737cc_level0_row28\" class=\"row_heading level0 row28\" >35</th>\n",
       "      <td id=\"T_737cc_row28_col0\" class=\"data row28 col0\" >0.0000</td>\n",
       "    </tr>\n",
       "    <tr>\n",
       "      <th id=\"T_737cc_level0_row29\" class=\"row_heading level0 row29\" >36</th>\n",
       "      <td id=\"T_737cc_row29_col0\" class=\"data row29 col0\" >0.0000</td>\n",
       "    </tr>\n",
       "    <tr>\n",
       "      <th id=\"T_737cc_level0_row30\" class=\"row_heading level0 row30\" >39</th>\n",
       "      <td id=\"T_737cc_row30_col0\" class=\"data row30 col0\" >0.0000</td>\n",
       "    </tr>\n",
       "    <tr>\n",
       "      <th id=\"T_737cc_level0_row31\" class=\"row_heading level0 row31\" >47</th>\n",
       "      <td id=\"T_737cc_row31_col0\" class=\"data row31 col0\" >0.0000</td>\n",
       "    </tr>\n",
       "    <tr>\n",
       "      <th id=\"T_737cc_level0_row32\" class=\"row_heading level0 row32\" >48</th>\n",
       "      <td id=\"T_737cc_row32_col0\" class=\"data row32 col0\" >0.0000</td>\n",
       "    </tr>\n",
       "    <tr>\n",
       "      <th id=\"T_737cc_level0_row33\" class=\"row_heading level0 row33\" >51</th>\n",
       "      <td id=\"T_737cc_row33_col0\" class=\"data row33 col0\" >0.0000</td>\n",
       "    </tr>\n",
       "    <tr>\n",
       "      <th id=\"T_737cc_level0_row34\" class=\"row_heading level0 row34\" >56</th>\n",
       "      <td id=\"T_737cc_row34_col0\" class=\"data row34 col0\" >0.0001</td>\n",
       "    </tr>\n",
       "    <tr>\n",
       "      <th id=\"T_737cc_level0_row35\" class=\"row_heading level0 row35\" >61</th>\n",
       "      <td id=\"T_737cc_row35_col0\" class=\"data row35 col0\" >0.0000</td>\n",
       "    </tr>\n",
       "    <tr>\n",
       "      <th id=\"T_737cc_level0_row36\" class=\"row_heading level0 row36\" >63</th>\n",
       "      <td id=\"T_737cc_row36_col0\" class=\"data row36 col0\" >0.0000</td>\n",
       "    </tr>\n",
       "    <tr>\n",
       "      <th id=\"T_737cc_level0_row37\" class=\"row_heading level0 row37\" >72</th>\n",
       "      <td id=\"T_737cc_row37_col0\" class=\"data row37 col0\" >0.0000</td>\n",
       "    </tr>\n",
       "    <tr>\n",
       "      <th id=\"T_737cc_level0_row38\" class=\"row_heading level0 row38\" >138</th>\n",
       "      <td id=\"T_737cc_row38_col0\" class=\"data row38 col0\" >0.0000</td>\n",
       "    </tr>\n",
       "    <tr>\n",
       "      <th id=\"T_737cc_level0_row39\" class=\"row_heading level0 row39\" >150</th>\n",
       "      <td id=\"T_737cc_row39_col0\" class=\"data row39 col0\" >0.0000</td>\n",
       "    </tr>\n",
       "    <tr>\n",
       "      <th id=\"T_737cc_level0_row40\" class=\"row_heading level0 row40\" >244</th>\n",
       "      <td id=\"T_737cc_row40_col0\" class=\"data row40 col0\" >0.0000</td>\n",
       "    </tr>\n",
       "  </tbody>\n",
       "</table>\n"
      ],
      "text/plain": [
       "<pandas.io.formats.style.Styler at 0x1efa6eea590>"
      ]
     },
     "execution_count": 63,
     "metadata": {},
     "output_type": "execute_result"
    }
   ],
   "source": [
    "company_sizes = people_education.groupby('company_id')['id_people'].nunique().reset_index()\n",
    "company_sizes = company_sizes.rename(columns={'id_people':'num_people'})\n",
    "company_sizes['num_people'].value_counts(normalize=True).sort_index().to_frame().style.background_gradient(cmap='coolwarm').format(\"{:.4f}\")"
   ]
  },
  {
   "cell_type": "markdown",
   "metadata": {},
   "source": [
    "79% сотрудников работают в соло-стартапах."
   ]
  },
  {
   "cell_type": "code",
   "execution_count": 64,
   "metadata": {},
   "outputs": [
    {
     "data": {
      "text/html": [
       "<div>\n",
       "<style scoped>\n",
       "    .dataframe tbody tr th:only-of-type {\n",
       "        vertical-align: middle;\n",
       "    }\n",
       "\n",
       "    .dataframe tbody tr th {\n",
       "        vertical-align: top;\n",
       "    }\n",
       "\n",
       "    .dataframe thead th {\n",
       "        text-align: right;\n",
       "    }\n",
       "</style>\n",
       "<table border=\"1\" class=\"dataframe\">\n",
       "  <thead>\n",
       "    <tr style=\"text-align: right;\">\n",
       "      <th></th>\n",
       "      <th>id_people</th>\n",
       "      <th>first_name</th>\n",
       "      <th>last_name</th>\n",
       "      <th>company_id</th>\n",
       "      <th>network_username</th>\n",
       "      <th>id_education</th>\n",
       "      <th>person_id</th>\n",
       "      <th>instituition</th>\n",
       "      <th>graduated_at</th>\n",
       "      <th>size_category</th>\n",
       "    </tr>\n",
       "  </thead>\n",
       "  <tbody>\n",
       "    <tr>\n",
       "      <th>0</th>\n",
       "      <td>10</td>\n",
       "      <td>Mark</td>\n",
       "      <td>Zuckerberg</td>\n",
       "      <td>5.0</td>\n",
       "      <td>NaN</td>\n",
       "      <td>2415.0</td>\n",
       "      <td>10.0</td>\n",
       "      <td>Harvard University</td>\n",
       "      <td>NaT</td>\n",
       "      <td>Средние и крупные стартапы</td>\n",
       "    </tr>\n",
       "    <tr>\n",
       "      <th>1</th>\n",
       "      <td>100</td>\n",
       "      <td>Peter</td>\n",
       "      <td>Lester</td>\n",
       "      <td>27.0</td>\n",
       "      <td>NaN</td>\n",
       "      <td>NaN</td>\n",
       "      <td>NaN</td>\n",
       "      <td>NaN</td>\n",
       "      <td>NaT</td>\n",
       "      <td>Средние и крупные стартапы</td>\n",
       "    </tr>\n",
       "    <tr>\n",
       "      <th>2</th>\n",
       "      <td>1000</td>\n",
       "      <td>Dr. Steven</td>\n",
       "      <td>E. Saunders</td>\n",
       "      <td>292.0</td>\n",
       "      <td>NaN</td>\n",
       "      <td>NaN</td>\n",
       "      <td>NaN</td>\n",
       "      <td>NaN</td>\n",
       "      <td>NaT</td>\n",
       "      <td>Маленькая команда</td>\n",
       "    </tr>\n",
       "    <tr>\n",
       "      <th>3</th>\n",
       "      <td>10000</td>\n",
       "      <td>Neil</td>\n",
       "      <td>Capel</td>\n",
       "      <td>2526.0</td>\n",
       "      <td>NaN</td>\n",
       "      <td>NaN</td>\n",
       "      <td>NaN</td>\n",
       "      <td>NaN</td>\n",
       "      <td>NaT</td>\n",
       "      <td>Маленькая команда</td>\n",
       "    </tr>\n",
       "    <tr>\n",
       "      <th>4</th>\n",
       "      <td>100000</td>\n",
       "      <td>Sue</td>\n",
       "      <td>Pilsch</td>\n",
       "      <td>NaN</td>\n",
       "      <td>NaN</td>\n",
       "      <td>NaN</td>\n",
       "      <td>NaN</td>\n",
       "      <td>NaN</td>\n",
       "      <td>NaT</td>\n",
       "      <td>NaN</td>\n",
       "    </tr>\n",
       "  </tbody>\n",
       "</table>\n",
       "</div>"
      ],
      "text/plain": [
       "   id_people  first_name    last_name  company_id network_username  \\\n",
       "0         10        Mark   Zuckerberg         5.0              NaN   \n",
       "1        100       Peter       Lester        27.0              NaN   \n",
       "2       1000  Dr. Steven  E. Saunders       292.0              NaN   \n",
       "3      10000        Neil        Capel      2526.0              NaN   \n",
       "4     100000         Sue       Pilsch         NaN              NaN   \n",
       "\n",
       "   id_education  person_id        instituition graduated_at  \\\n",
       "0        2415.0       10.0  Harvard University          NaT   \n",
       "1           NaN        NaN                 NaN          NaT   \n",
       "2           NaN        NaN                 NaN          NaT   \n",
       "3           NaN        NaN                 NaN          NaT   \n",
       "4           NaN        NaN                 NaN          NaT   \n",
       "\n",
       "                size_category  \n",
       "0  Средние и крупные стартапы  \n",
       "1  Средние и крупные стартапы  \n",
       "2           Маленькая команда  \n",
       "3           Маленькая команда  \n",
       "4                         NaN  "
      ]
     },
     "execution_count": 64,
     "metadata": {},
     "output_type": "execute_result"
    }
   ],
   "source": [
    "bins = [0, 1, 3, company_sizes['num_people'].max()]\n",
    "labels = ['Соло-стартап', 'Маленькая команда', 'Средние и крупные стартапы']\n",
    "company_sizes['size_category'] = pd.cut(company_sizes['num_people'], bins=bins, labels=labels)\n",
    "\n",
    "people_education = people_education.merge(company_sizes[['company_id', 'size_category']], on='company_id', how='left')\n",
    "\n",
    "people_education.head()"
   ]
  },
  {
   "cell_type": "code",
   "execution_count": 65,
   "metadata": {},
   "outputs": [
    {
     "data": {
      "text/plain": [
       "id_people                0\n",
       "first_name               9\n",
       "last_name                4\n",
       "company_id          222905\n",
       "network_username    216919\n",
       "id_education        158638\n",
       "person_id           158638\n",
       "instituition        158692\n",
       "graduated_at        210003\n",
       "size_category       222905\n",
       "dtype: int64"
      ]
     },
     "execution_count": 65,
     "metadata": {},
     "output_type": "execute_result"
    }
   ],
   "source": [
    "people_education.isna().sum()"
   ]
  },
  {
   "cell_type": "markdown",
   "metadata": {},
   "source": [
    "Данные разделили на группы, исходя из следующих предположений:  \n",
    "\n",
    "- 1 сотрудник - соло стартап. Такие стартапы часто находятся на стадии идеи или прототипа.  \n",
    "- до 3 сотрудников - маленькая команда. Основная команда из нескольких человек, часто ключевые специалисты.  \n",
    "- от 4 и больше - средние и крупные стартапы. Мы объединим их в одну группу, так как их очень мало, по сравнению с остальными."
   ]
  },
  {
   "cell_type": "markdown",
   "metadata": {},
   "source": [
    "Теперь посмотрим на количество стартапов в каждой категории:"
   ]
  },
  {
   "cell_type": "code",
   "execution_count": 66,
   "metadata": {},
   "outputs": [
    {
     "data": {
      "text/plain": [
       "size_category\n",
       "Соло-стартап                  23292\n",
       "Маленькая команда             10512\n",
       "Средние и крупные стартапы    10985\n",
       "Name: id_people, dtype: int64"
      ]
     },
     "execution_count": 66,
     "metadata": {},
     "output_type": "execute_result"
    }
   ],
   "source": [
    "category_counts = people_education.groupby('size_category', observed=False)['id_people'].count()\n",
    "category_counts"
   ]
  },
  {
   "cell_type": "code",
   "execution_count": 67,
   "metadata": {},
   "outputs": [
    {
     "data": {
      "text/plain": [
       "44789"
      ]
     },
     "execution_count": 67,
     "metadata": {},
     "output_type": "execute_result"
    }
   ],
   "source": [
    "category_counts.sum()"
   ]
  },
  {
   "cell_type": "code",
   "execution_count": 68,
   "metadata": {},
   "outputs": [
    {
     "data": {
      "text/plain": [
       "267694"
      ]
     },
     "execution_count": 68,
     "metadata": {},
     "output_type": "execute_result"
    }
   ],
   "source": [
    "people_education['id_people'].count()"
   ]
  },
  {
   "cell_type": "code",
   "execution_count": 69,
   "metadata": {},
   "outputs": [
    {
     "data": {
      "text/plain": [
       "size_category\n",
       "Соло-стартап                  0.520038\n",
       "Маленькая команда             0.234700\n",
       "Средние и крупные стартапы    0.245261\n",
       "Name: id_people, dtype: float64"
      ]
     },
     "execution_count": 69,
     "metadata": {},
     "output_type": "execute_result"
    }
   ],
   "source": [
    "category_shares = category_counts / category_counts.sum()\n",
    "category_shares"
   ]
  },
  {
   "cell_type": "markdown",
   "metadata": {},
   "source": [
    "52% всех стартапов - это соло-стартапы, в которых состоит один человек.  \n",
    "23.5%  - маленькие команды до 3 человек.  \n",
    "24.5% - средние и крупные стартапы от 4 человек. "
   ]
  },
  {
   "cell_type": "markdown",
   "metadata": {},
   "source": [
    "Теперь ответим на вопрос об образовании сотрудников."
   ]
  },
  {
   "cell_type": "code",
   "execution_count": 70,
   "metadata": {},
   "outputs": [],
   "source": [
    "people_education['education'] = people_education['instituition'].notna()"
   ]
  },
  {
   "cell_type": "markdown",
   "metadata": {},
   "source": [
    "Доля сотрудников с образованием:"
   ]
  },
  {
   "cell_type": "code",
   "execution_count": 71,
   "metadata": {},
   "outputs": [
    {
     "data": {
      "text/html": [
       "<style type=\"text/css\">\n",
       "#T_a4d1d_row0_col0 {\n",
       "  background-color: #b40426;\n",
       "  color: #f1f1f1;\n",
       "}\n",
       "#T_a4d1d_row1_col0 {\n",
       "  background-color: #3b4cc0;\n",
       "  color: #f1f1f1;\n",
       "}\n",
       "#T_a4d1d_row2_col0 {\n",
       "  background-color: #c7d7f0;\n",
       "  color: #000000;\n",
       "}\n",
       "</style>\n",
       "<table id=\"T_a4d1d\">\n",
       "  <thead>\n",
       "    <tr>\n",
       "      <th class=\"blank level0\" >&nbsp;</th>\n",
       "      <th id=\"T_a4d1d_level0_col0\" class=\"col_heading level0 col0\" >education</th>\n",
       "    </tr>\n",
       "    <tr>\n",
       "      <th class=\"index_name level0\" >size_category</th>\n",
       "      <th class=\"blank col0\" >&nbsp;</th>\n",
       "    </tr>\n",
       "  </thead>\n",
       "  <tbody>\n",
       "    <tr>\n",
       "      <th id=\"T_a4d1d_level0_row0\" class=\"row_heading level0 row0\" >Соло-стартап</th>\n",
       "      <td id=\"T_a4d1d_row0_col0\" class=\"data row0 col0\" >0.54</td>\n",
       "    </tr>\n",
       "    <tr>\n",
       "      <th id=\"T_a4d1d_level0_row1\" class=\"row_heading level0 row1\" >Маленькая команда</th>\n",
       "      <td id=\"T_a4d1d_row1_col0\" class=\"data row1 col0\" >0.53</td>\n",
       "    </tr>\n",
       "    <tr>\n",
       "      <th id=\"T_a4d1d_level0_row2\" class=\"row_heading level0 row2\" >Средние и крупные стартапы</th>\n",
       "      <td id=\"T_a4d1d_row2_col0\" class=\"data row2 col0\" >0.53</td>\n",
       "    </tr>\n",
       "  </tbody>\n",
       "</table>\n"
      ],
      "text/plain": [
       "<pandas.io.formats.style.Styler at 0x1efa53a0f50>"
      ]
     },
     "execution_count": 71,
     "metadata": {},
     "output_type": "execute_result"
    }
   ],
   "source": [
    "education_share = people_education.drop_duplicates(subset='id_people').groupby('size_category', observed=False)['education'].mean()\n",
    "education_share.to_frame().style.background_gradient(cmap='coolwarm').format(\"{:.2f}\")"
   ]
  },
  {
   "cell_type": "markdown",
   "metadata": {},
   "source": [
    "Доля сотрудников без образования:"
   ]
  },
  {
   "cell_type": "code",
   "execution_count": 72,
   "metadata": {},
   "outputs": [
    {
     "data": {
      "text/html": [
       "<style type=\"text/css\">\n",
       "#T_e831a_row0_col0 {\n",
       "  background-color: #3b4cc0;\n",
       "  color: #f1f1f1;\n",
       "}\n",
       "#T_e831a_row1_col0 {\n",
       "  background-color: #b40426;\n",
       "  color: #f1f1f1;\n",
       "}\n",
       "#T_e831a_row2_col0 {\n",
       "  background-color: #eed0c0;\n",
       "  color: #000000;\n",
       "}\n",
       "</style>\n",
       "<table id=\"T_e831a\">\n",
       "  <thead>\n",
       "    <tr>\n",
       "      <th class=\"blank level0\" >&nbsp;</th>\n",
       "      <th id=\"T_e831a_level0_col0\" class=\"col_heading level0 col0\" >education</th>\n",
       "    </tr>\n",
       "    <tr>\n",
       "      <th class=\"index_name level0\" >size_category</th>\n",
       "      <th class=\"blank col0\" >&nbsp;</th>\n",
       "    </tr>\n",
       "  </thead>\n",
       "  <tbody>\n",
       "    <tr>\n",
       "      <th id=\"T_e831a_level0_row0\" class=\"row_heading level0 row0\" >Соло-стартап</th>\n",
       "      <td id=\"T_e831a_row0_col0\" class=\"data row0 col0\" >0.46</td>\n",
       "    </tr>\n",
       "    <tr>\n",
       "      <th id=\"T_e831a_level0_row1\" class=\"row_heading level0 row1\" >Маленькая команда</th>\n",
       "      <td id=\"T_e831a_row1_col0\" class=\"data row1 col0\" >0.47</td>\n",
       "    </tr>\n",
       "    <tr>\n",
       "      <th id=\"T_e831a_level0_row2\" class=\"row_heading level0 row2\" >Средние и крупные стартапы</th>\n",
       "      <td id=\"T_e831a_row2_col0\" class=\"data row2 col0\" >0.47</td>\n",
       "    </tr>\n",
       "  </tbody>\n",
       "</table>\n"
      ],
      "text/plain": [
       "<pandas.io.formats.style.Styler at 0x1efa6efe410>"
      ]
     },
     "execution_count": 72,
     "metadata": {},
     "output_type": "execute_result"
    }
   ],
   "source": [
    "no_education_share = 1 - education_share\n",
    "no_education_share.to_frame().style.background_gradient(cmap='coolwarm').format(\"{:.2f}\")"
   ]
  },
  {
   "cell_type": "markdown",
   "metadata": {},
   "source": [
    "Доля сотрудников без образования примерно одинакова для всех стартапов - 47%. У соло-стартапов - 46%."
   ]
  },
  {
   "cell_type": "markdown",
   "metadata": {},
   "source": [
    "Оценим возможность присоединить таблицу degrees.csv"
   ]
  },
  {
   "cell_type": "code",
   "execution_count": 73,
   "metadata": {},
   "outputs": [
    {
     "name": "stdout",
     "output_type": "stream",
     "text": [
      "<class 'pandas.core.frame.DataFrame'>\n",
      "RangeIndex: 109610 entries, 0 to 109609\n",
      "Data columns (total 4 columns):\n",
      " #   Column       Non-Null Count   Dtype \n",
      "---  ------       --------------   ----- \n",
      " 0   id           109610 non-null  int32 \n",
      " 1   object_id    109610 non-null  object\n",
      " 2   degree_type  98389 non-null   object\n",
      " 3   subject      81298 non-null   object\n",
      "dtypes: int32(1), object(3)\n",
      "memory usage: 2.9+ MB\n"
     ]
    }
   ],
   "source": [
    "degrees.info()"
   ]
  },
  {
   "cell_type": "code",
   "execution_count": 74,
   "metadata": {},
   "outputs": [
    {
     "data": {
      "text/html": [
       "<div>\n",
       "<style scoped>\n",
       "    .dataframe tbody tr th:only-of-type {\n",
       "        vertical-align: middle;\n",
       "    }\n",
       "\n",
       "    .dataframe tbody tr th {\n",
       "        vertical-align: top;\n",
       "    }\n",
       "\n",
       "    .dataframe thead th {\n",
       "        text-align: right;\n",
       "    }\n",
       "</style>\n",
       "<table border=\"1\" class=\"dataframe\">\n",
       "  <thead>\n",
       "    <tr style=\"text-align: right;\">\n",
       "      <th></th>\n",
       "      <th>id</th>\n",
       "      <th>object_id</th>\n",
       "      <th>degree_type</th>\n",
       "      <th>subject</th>\n",
       "    </tr>\n",
       "  </thead>\n",
       "  <tbody>\n",
       "    <tr>\n",
       "      <th>0</th>\n",
       "      <td>1</td>\n",
       "      <td>p:6117</td>\n",
       "      <td>MBA</td>\n",
       "      <td>NaN</td>\n",
       "    </tr>\n",
       "    <tr>\n",
       "      <th>1</th>\n",
       "      <td>2</td>\n",
       "      <td>p:6136</td>\n",
       "      <td>BA</td>\n",
       "      <td>English, French</td>\n",
       "    </tr>\n",
       "    <tr>\n",
       "      <th>2</th>\n",
       "      <td>3</td>\n",
       "      <td>p:6136</td>\n",
       "      <td>MS</td>\n",
       "      <td>Mass Communication</td>\n",
       "    </tr>\n",
       "    <tr>\n",
       "      <th>3</th>\n",
       "      <td>4</td>\n",
       "      <td>p:6005</td>\n",
       "      <td>MS</td>\n",
       "      <td>Internet Technology</td>\n",
       "    </tr>\n",
       "    <tr>\n",
       "      <th>4</th>\n",
       "      <td>5</td>\n",
       "      <td>p:5832</td>\n",
       "      <td>BCS</td>\n",
       "      <td>Computer Science, Psychology</td>\n",
       "    </tr>\n",
       "    <tr>\n",
       "      <th>5</th>\n",
       "      <td>6</td>\n",
       "      <td>p:1017</td>\n",
       "      <td>BS</td>\n",
       "      <td>Computer Science</td>\n",
       "    </tr>\n",
       "    <tr>\n",
       "      <th>6</th>\n",
       "      <td>7</td>\n",
       "      <td>p:6176</td>\n",
       "      <td>BS</td>\n",
       "      <td>Computer Science</td>\n",
       "    </tr>\n",
       "    <tr>\n",
       "      <th>7</th>\n",
       "      <td>8</td>\n",
       "      <td>p:5412</td>\n",
       "      <td>MS</td>\n",
       "      <td>Politics</td>\n",
       "    </tr>\n",
       "    <tr>\n",
       "      <th>8</th>\n",
       "      <td>9</td>\n",
       "      <td>p:1243</td>\n",
       "      <td>BA</td>\n",
       "      <td>International Business &amp; Marketing</td>\n",
       "    </tr>\n",
       "    <tr>\n",
       "      <th>9</th>\n",
       "      <td>10</td>\n",
       "      <td>p:6265</td>\n",
       "      <td>BS</td>\n",
       "      <td>Economics</td>\n",
       "    </tr>\n",
       "  </tbody>\n",
       "</table>\n",
       "</div>"
      ],
      "text/plain": [
       "   id object_id degree_type                             subject\n",
       "0   1    p:6117         MBA                                 NaN\n",
       "1   2    p:6136          BA                     English, French\n",
       "2   3    p:6136          MS                  Mass Communication\n",
       "3   4    p:6005          MS                 Internet Technology\n",
       "4   5    p:5832         BCS        Computer Science, Psychology\n",
       "5   6    p:1017          BS                    Computer Science\n",
       "6   7    p:6176          BS                    Computer Science\n",
       "7   8    p:5412          MS                            Politics\n",
       "8   9    p:1243          BA  International Business & Marketing\n",
       "9  10    p:6265          BS                           Economics"
      ]
     },
     "execution_count": 74,
     "metadata": {},
     "output_type": "execute_result"
    }
   ],
   "source": [
    "degrees.head(10)"
   ]
  },
  {
   "cell_type": "markdown",
   "metadata": {},
   "source": [
    "Таблица **degrees** имеет тип данных **object**, поскольку каждый идентификатор сотрудника имеет приставку **\"p:\"**.  \n",
    "Исправим это и сменим тип данных на числовой."
   ]
  },
  {
   "cell_type": "code",
   "execution_count": 75,
   "metadata": {},
   "outputs": [],
   "source": [
    "degrees['object_id'] = degrees['object_id'].str.replace('p:', '')"
   ]
  },
  {
   "cell_type": "code",
   "execution_count": 76,
   "metadata": {},
   "outputs": [
    {
     "data": {
      "text/html": [
       "<div>\n",
       "<style scoped>\n",
       "    .dataframe tbody tr th:only-of-type {\n",
       "        vertical-align: middle;\n",
       "    }\n",
       "\n",
       "    .dataframe tbody tr th {\n",
       "        vertical-align: top;\n",
       "    }\n",
       "\n",
       "    .dataframe thead th {\n",
       "        text-align: right;\n",
       "    }\n",
       "</style>\n",
       "<table border=\"1\" class=\"dataframe\">\n",
       "  <thead>\n",
       "    <tr style=\"text-align: right;\">\n",
       "      <th></th>\n",
       "      <th>id</th>\n",
       "      <th>object_id</th>\n",
       "      <th>degree_type</th>\n",
       "      <th>subject</th>\n",
       "    </tr>\n",
       "  </thead>\n",
       "  <tbody>\n",
       "    <tr>\n",
       "      <th>0</th>\n",
       "      <td>1</td>\n",
       "      <td>6117</td>\n",
       "      <td>MBA</td>\n",
       "      <td>NaN</td>\n",
       "    </tr>\n",
       "    <tr>\n",
       "      <th>1</th>\n",
       "      <td>2</td>\n",
       "      <td>6136</td>\n",
       "      <td>BA</td>\n",
       "      <td>English, French</td>\n",
       "    </tr>\n",
       "    <tr>\n",
       "      <th>2</th>\n",
       "      <td>3</td>\n",
       "      <td>6136</td>\n",
       "      <td>MS</td>\n",
       "      <td>Mass Communication</td>\n",
       "    </tr>\n",
       "    <tr>\n",
       "      <th>3</th>\n",
       "      <td>4</td>\n",
       "      <td>6005</td>\n",
       "      <td>MS</td>\n",
       "      <td>Internet Technology</td>\n",
       "    </tr>\n",
       "    <tr>\n",
       "      <th>4</th>\n",
       "      <td>5</td>\n",
       "      <td>5832</td>\n",
       "      <td>BCS</td>\n",
       "      <td>Computer Science, Psychology</td>\n",
       "    </tr>\n",
       "  </tbody>\n",
       "</table>\n",
       "</div>"
      ],
      "text/plain": [
       "   id object_id degree_type                       subject\n",
       "0   1      6117         MBA                           NaN\n",
       "1   2      6136          BA               English, French\n",
       "2   3      6136          MS            Mass Communication\n",
       "3   4      6005          MS           Internet Technology\n",
       "4   5      5832         BCS  Computer Science, Psychology"
      ]
     },
     "execution_count": 76,
     "metadata": {},
     "output_type": "execute_result"
    }
   ],
   "source": [
    "degrees.head()"
   ]
  },
  {
   "cell_type": "code",
   "execution_count": 77,
   "metadata": {},
   "outputs": [],
   "source": [
    "degrees['object_id'] = pd.to_numeric(degrees['object_id'], downcast='integer')"
   ]
  },
  {
   "cell_type": "code",
   "execution_count": 78,
   "metadata": {},
   "outputs": [
    {
     "data": {
      "text/plain": [
       "dtype('int32')"
      ]
     },
     "execution_count": 78,
     "metadata": {},
     "output_type": "execute_result"
    }
   ],
   "source": [
    "degrees['object_id'].dtypes"
   ]
  },
  {
   "cell_type": "markdown",
   "metadata": {},
   "source": [
    "Теперь можно присоединить данные о типе образования к основному датафрейму."
   ]
  },
  {
   "cell_type": "code",
   "execution_count": 79,
   "metadata": {},
   "outputs": [],
   "source": [
    "people_education_degrees = people_education.merge(degrees, how='left', left_on='id_people', right_on='object_id')"
   ]
  },
  {
   "cell_type": "code",
   "execution_count": 80,
   "metadata": {},
   "outputs": [
    {
     "data": {
      "text/html": [
       "<div>\n",
       "<style scoped>\n",
       "    .dataframe tbody tr th:only-of-type {\n",
       "        vertical-align: middle;\n",
       "    }\n",
       "\n",
       "    .dataframe tbody tr th {\n",
       "        vertical-align: top;\n",
       "    }\n",
       "\n",
       "    .dataframe thead th {\n",
       "        text-align: right;\n",
       "    }\n",
       "</style>\n",
       "<table border=\"1\" class=\"dataframe\">\n",
       "  <thead>\n",
       "    <tr style=\"text-align: right;\">\n",
       "      <th></th>\n",
       "      <th>id_people</th>\n",
       "      <th>first_name</th>\n",
       "      <th>last_name</th>\n",
       "      <th>company_id</th>\n",
       "      <th>network_username</th>\n",
       "      <th>id_education</th>\n",
       "      <th>person_id</th>\n",
       "      <th>instituition</th>\n",
       "      <th>graduated_at</th>\n",
       "      <th>size_category</th>\n",
       "      <th>education</th>\n",
       "      <th>id</th>\n",
       "      <th>object_id</th>\n",
       "      <th>degree_type</th>\n",
       "      <th>subject</th>\n",
       "    </tr>\n",
       "  </thead>\n",
       "  <tbody>\n",
       "    <tr>\n",
       "      <th>0</th>\n",
       "      <td>10</td>\n",
       "      <td>Mark</td>\n",
       "      <td>Zuckerberg</td>\n",
       "      <td>5.0</td>\n",
       "      <td>NaN</td>\n",
       "      <td>2415.0</td>\n",
       "      <td>10.0</td>\n",
       "      <td>Harvard University</td>\n",
       "      <td>NaT</td>\n",
       "      <td>Средние и крупные стартапы</td>\n",
       "      <td>True</td>\n",
       "      <td>2415.0</td>\n",
       "      <td>10.0</td>\n",
       "      <td>NaN</td>\n",
       "      <td>Computer Science</td>\n",
       "    </tr>\n",
       "    <tr>\n",
       "      <th>1</th>\n",
       "      <td>100</td>\n",
       "      <td>Peter</td>\n",
       "      <td>Lester</td>\n",
       "      <td>27.0</td>\n",
       "      <td>NaN</td>\n",
       "      <td>NaN</td>\n",
       "      <td>NaN</td>\n",
       "      <td>NaN</td>\n",
       "      <td>NaT</td>\n",
       "      <td>Средние и крупные стартапы</td>\n",
       "      <td>False</td>\n",
       "      <td>NaN</td>\n",
       "      <td>NaN</td>\n",
       "      <td>NaN</td>\n",
       "      <td>NaN</td>\n",
       "    </tr>\n",
       "    <tr>\n",
       "      <th>2</th>\n",
       "      <td>1000</td>\n",
       "      <td>Dr. Steven</td>\n",
       "      <td>E. Saunders</td>\n",
       "      <td>292.0</td>\n",
       "      <td>NaN</td>\n",
       "      <td>NaN</td>\n",
       "      <td>NaN</td>\n",
       "      <td>NaN</td>\n",
       "      <td>NaT</td>\n",
       "      <td>Маленькая команда</td>\n",
       "      <td>False</td>\n",
       "      <td>NaN</td>\n",
       "      <td>NaN</td>\n",
       "      <td>NaN</td>\n",
       "      <td>NaN</td>\n",
       "    </tr>\n",
       "    <tr>\n",
       "      <th>3</th>\n",
       "      <td>10000</td>\n",
       "      <td>Neil</td>\n",
       "      <td>Capel</td>\n",
       "      <td>2526.0</td>\n",
       "      <td>NaN</td>\n",
       "      <td>NaN</td>\n",
       "      <td>NaN</td>\n",
       "      <td>NaN</td>\n",
       "      <td>NaT</td>\n",
       "      <td>Маленькая команда</td>\n",
       "      <td>False</td>\n",
       "      <td>NaN</td>\n",
       "      <td>NaN</td>\n",
       "      <td>NaN</td>\n",
       "      <td>NaN</td>\n",
       "    </tr>\n",
       "    <tr>\n",
       "      <th>4</th>\n",
       "      <td>100000</td>\n",
       "      <td>Sue</td>\n",
       "      <td>Pilsch</td>\n",
       "      <td>NaN</td>\n",
       "      <td>NaN</td>\n",
       "      <td>NaN</td>\n",
       "      <td>NaN</td>\n",
       "      <td>NaN</td>\n",
       "      <td>NaT</td>\n",
       "      <td>NaN</td>\n",
       "      <td>False</td>\n",
       "      <td>NaN</td>\n",
       "      <td>NaN</td>\n",
       "      <td>NaN</td>\n",
       "      <td>NaN</td>\n",
       "    </tr>\n",
       "  </tbody>\n",
       "</table>\n",
       "</div>"
      ],
      "text/plain": [
       "   id_people  first_name    last_name  company_id network_username  \\\n",
       "0         10        Mark   Zuckerberg         5.0              NaN   \n",
       "1        100       Peter       Lester        27.0              NaN   \n",
       "2       1000  Dr. Steven  E. Saunders       292.0              NaN   \n",
       "3      10000        Neil        Capel      2526.0              NaN   \n",
       "4     100000         Sue       Pilsch         NaN              NaN   \n",
       "\n",
       "   id_education  person_id        instituition graduated_at  \\\n",
       "0        2415.0       10.0  Harvard University          NaT   \n",
       "1           NaN        NaN                 NaN          NaT   \n",
       "2           NaN        NaN                 NaN          NaT   \n",
       "3           NaN        NaN                 NaN          NaT   \n",
       "4           NaN        NaN                 NaN          NaT   \n",
       "\n",
       "                size_category  education      id  object_id degree_type  \\\n",
       "0  Средние и крупные стартапы       True  2415.0       10.0         NaN   \n",
       "1  Средние и крупные стартапы      False     NaN        NaN         NaN   \n",
       "2           Маленькая команда      False     NaN        NaN         NaN   \n",
       "3           Маленькая команда      False     NaN        NaN         NaN   \n",
       "4                         NaN      False     NaN        NaN         NaN   \n",
       "\n",
       "            subject  \n",
       "0  Computer Science  \n",
       "1               NaN  \n",
       "2               NaN  \n",
       "3               NaN  \n",
       "4               NaN  "
      ]
     },
     "execution_count": 80,
     "metadata": {},
     "output_type": "execute_result"
    }
   ],
   "source": [
    "people_education_degrees.head()"
   ]
  },
  {
   "cell_type": "code",
   "execution_count": 81,
   "metadata": {},
   "outputs": [
    {
     "data": {
      "text/plain": [
       "0.02"
      ]
     },
     "execution_count": 81,
     "metadata": {},
     "output_type": "execute_result"
    }
   ],
   "source": [
    "new_education_share = (\n",
    "    (people_education_degrees['instituition'].isna()) & \n",
    "    (people_education_degrees['id'].notna())\n",
    ").mean()\n",
    "round(new_education_share * 100, 2)"
   ]
  },
  {
   "cell_type": "markdown",
   "metadata": {},
   "source": [
    "Нам удалось присоединить таблицу **degrees** к данным, теперь у нас есть полная информация об образовании сотрудников.  \n",
    "При этом количество строк, в которых раньше не было информации об образовании, а теперь появилась увеличилось на 0.02%.  \n",
    "Таким образом, эта информация не изменит результаты исследования, проведенного выше.  "
   ]
  },
  {
   "cell_type": "markdown",
   "metadata": {},
   "source": [
    "### 2.3. Объединять или не объединять — вот в чём вопрос\n",
    "\n",
    "При предварительном анализе обнаружено, что некоторые названия столбцов повторяются в разных таблицах. Например, столбец company_id содержит множество совпадающих значений между датасетами, что позволяет использовать его для объединения данных.\n",
    "\n",
    "Теперь необходимо проверить другой повторяющийся столбец — network_username. Интересно выяснить, встречаются ли одни и те же значения в этом столбце между различными таблицами, и если да, то насколько часто это происходит.\n",
    "\n",
    "Поставим цель: оценить, можно ли использовать network_username в качестве ключа для объединения данных из разных источников."
   ]
  },
  {
   "cell_type": "markdown",
   "metadata": {
    "id": "Cf5IjfOQrJg1"
   },
   "source": [
    "Используем ранее написанную функцию."
   ]
  },
  {
   "cell_type": "code",
   "execution_count": 82,
   "metadata": {
    "id": "CilOkz-inz37"
   },
   "outputs": [
    {
     "name": "stdout",
     "output_type": "stream",
     "text": [
      "Совпадения для столбца network_username в первом датафрейме и network_username во втором:\n",
      "> Найдены в 80 (0.21%) строках.\n",
      "> Отсутствуют в 38342 (99.79%) строках.\n",
      "\n"
     ]
    }
   ],
   "source": [
    "check_column_matches(people_education_degrees, 'network_username', fund,'network_username')"
   ]
  },
  {
   "cell_type": "markdown",
   "metadata": {},
   "source": [
    "Таким образом, столбец **network_username** нецелесообразно использовать для объединения таблиц **people** и **fund**, так как они практически не имеют пересечений - всего 0.21%."
   ]
  },
  {
   "cell_type": "markdown",
   "metadata": {
    "id": "EHcODomVrJg1"
   },
   "source": [
    "\n",
    "### 2.4. Проблемный датасет и причина возникновения пропусков\n",
    "\n",
    "В ходе работы с данными оказалось, что наибольшее количество вопросов вызывает таблица company_and_rounds.csv. Пропуски затрагивают в основном информацию о раундах финансирования, которая является ключевой для понимания структуры инвестиций. Несмотря на то что аналогичные сведения о суммах встречаются и в других таблицах, именно значения из company_and_rounds.csv считаются наиболее достоверными.\n",
    "\n",
    "Для дальнейшего анализа необходимо привести эти данные к форме, которая позволит исследовать информацию на уровне отдельных компаний. Это может включать преобразование структуры таблицы, переименование столбцов, изменение формата хранения или пересборку данных из разных источников.\n",
    "\n",
    "Следует обратить внимание:\n",
    "\n",
    "на структуру текущего датасета;\n",
    "\n",
    "на то, как распределены данные по строкам;\n",
    "\n",
    "на корректность и согласованность значений;\n",
    "\n",
    "на возможность связать информацию с другими таблицами без потерь.\n",
    "\n",
    "Цель — получить таблицу, где каждая строка соответствует одной компании и при этом сохраняется как можно больше информации из исходного набора. Такой формат должен позволять фильтрацию по условиям (например, по типу раунда, объёму финансирования, дате привлечения инвестиций), а также вычисление агрегированных и относительных метрик на уровне одной компании."
   ]
  },
  {
   "cell_type": "markdown",
   "metadata": {},
   "source": [
    "---"
   ]
  },
  {
   "cell_type": "markdown",
   "metadata": {
    "id": "tJ6Sl6MKrJg1"
   },
   "source": [
    "Для того, чтобы проводить анализ в разрезе отдельных компаний, отдельно от раундов финансирования, нам нужно разделить датасет на два."
   ]
  },
  {
   "cell_type": "code",
   "execution_count": 83,
   "metadata": {
    "id": "SFfUmzron0Tc"
   },
   "outputs": [],
   "source": [
    "companies = company_and_rounds.loc[:, :'milestones']"
   ]
  },
  {
   "cell_type": "code",
   "execution_count": 84,
   "metadata": {},
   "outputs": [
    {
     "name": "stdout",
     "output_type": "stream",
     "text": [
      "<class 'pandas.core.frame.DataFrame'>\n",
      "RangeIndex: 217774 entries, 0 to 217773\n",
      "Data columns (total 13 columns):\n",
      " #   Column             Non-Null Count   Dtype         \n",
      "---  ------             --------------   -----         \n",
      " 0   company_ID         217472 non-null  float32       \n",
      " 1   name               217471 non-null  object        \n",
      " 2   category_code      143886 non-null  object        \n",
      " 3   status             217472 non-null  object        \n",
      " 4   founded_at         109956 non-null  datetime64[ns]\n",
      " 5   closed_at          3449 non-null    datetime64[ns]\n",
      " 6   domain             147159 non-null  object        \n",
      " 7   network_username   95534 non-null   object        \n",
      " 8   country_code       108607 non-null  object        \n",
      " 9   investment_rounds  217472 non-null  float32       \n",
      " 10  funding_rounds     217472 non-null  float32       \n",
      " 11  funding_total      217472 non-null  float32       \n",
      " 12  milestones         217472 non-null  float32       \n",
      "dtypes: datetime64[ns](2), float32(5), object(6)\n",
      "memory usage: 17.4+ MB\n"
     ]
    }
   ],
   "source": [
    "companies.info()"
   ]
  },
  {
   "cell_type": "markdown",
   "metadata": {},
   "source": [
    "Для приведения всех данных к общему виду, заменим название столбца **company_ID** на **company_id**."
   ]
  },
  {
   "cell_type": "code",
   "execution_count": 85,
   "metadata": {},
   "outputs": [],
   "source": [
    "companies = companies.rename(columns={'company_ID': 'company_id'})"
   ]
  },
  {
   "cell_type": "code",
   "execution_count": 86,
   "metadata": {},
   "outputs": [
    {
     "data": {
      "text/plain": [
       "Index(['company_id', 'name', 'category_code', 'status', 'founded_at',\n",
       "       'closed_at', 'domain', 'network_username', 'country_code',\n",
       "       'investment_rounds', 'funding_rounds', 'funding_total', 'milestones'],\n",
       "      dtype='object')"
      ]
     },
     "execution_count": 86,
     "metadata": {},
     "output_type": "execute_result"
    }
   ],
   "source": [
    "companies.columns"
   ]
  },
  {
   "cell_type": "code",
   "execution_count": 87,
   "metadata": {},
   "outputs": [],
   "source": [
    "funding_rounds = company_and_rounds.loc[:, 'funding_round_id': 'is_last_round']"
   ]
  },
  {
   "cell_type": "code",
   "execution_count": 88,
   "metadata": {},
   "outputs": [
    {
     "name": "stdout",
     "output_type": "stream",
     "text": [
      "<class 'pandas.core.frame.DataFrame'>\n",
      "RangeIndex: 217774 entries, 0 to 217773\n",
      "Data columns (total 9 columns):\n",
      " #   Column               Non-Null Count  Dtype         \n",
      "---  ------               --------------  -----         \n",
      " 0   funding_round_id     52928 non-null  float32       \n",
      " 1   company_id           52928 non-null  float32       \n",
      " 2   funded_at            52680 non-null  datetime64[ns]\n",
      " 3   funding_round_type   52928 non-null  object        \n",
      " 4   raised_amount        52928 non-null  float32       \n",
      " 5   pre_money_valuation  52928 non-null  float32       \n",
      " 6   participants         52928 non-null  float32       \n",
      " 7   is_first_round       52928 non-null  float32       \n",
      " 8   is_last_round        52928 non-null  float32       \n",
      "dtypes: datetime64[ns](1), float32(7), object(1)\n",
      "memory usage: 9.1+ MB\n"
     ]
    }
   ],
   "source": [
    "funding_rounds.info()"
   ]
  },
  {
   "cell_type": "code",
   "execution_count": 89,
   "metadata": {},
   "outputs": [
    {
     "data": {
      "text/plain": [
       "21220"
      ]
     },
     "execution_count": 89,
     "metadata": {},
     "output_type": "execute_result"
    }
   ],
   "source": [
    "companies.duplicated().sum()"
   ]
  },
  {
   "cell_type": "code",
   "execution_count": 90,
   "metadata": {},
   "outputs": [
    {
     "data": {
      "text/plain": [
       "217774"
      ]
     },
     "execution_count": 90,
     "metadata": {},
     "output_type": "execute_result"
    }
   ],
   "source": [
    "companies.shape[0]"
   ]
  },
  {
   "cell_type": "code",
   "execution_count": 91,
   "metadata": {},
   "outputs": [
    {
     "data": {
      "text/html": [
       "<div>\n",
       "<style scoped>\n",
       "    .dataframe tbody tr th:only-of-type {\n",
       "        vertical-align: middle;\n",
       "    }\n",
       "\n",
       "    .dataframe tbody tr th {\n",
       "        vertical-align: top;\n",
       "    }\n",
       "\n",
       "    .dataframe thead th {\n",
       "        text-align: right;\n",
       "    }\n",
       "</style>\n",
       "<table border=\"1\" class=\"dataframe\">\n",
       "  <thead>\n",
       "    <tr style=\"text-align: right;\">\n",
       "      <th></th>\n",
       "      <th>company_id</th>\n",
       "      <th>name</th>\n",
       "      <th>category_code</th>\n",
       "      <th>status</th>\n",
       "      <th>founded_at</th>\n",
       "      <th>closed_at</th>\n",
       "      <th>domain</th>\n",
       "      <th>network_username</th>\n",
       "      <th>country_code</th>\n",
       "      <th>investment_rounds</th>\n",
       "      <th>funding_rounds</th>\n",
       "      <th>funding_total</th>\n",
       "      <th>milestones</th>\n",
       "    </tr>\n",
       "  </thead>\n",
       "  <tbody>\n",
       "    <tr>\n",
       "      <th>0</th>\n",
       "      <td>1.0</td>\n",
       "      <td>Wetpaint</td>\n",
       "      <td>web</td>\n",
       "      <td>operating</td>\n",
       "      <td>2005-10-17</td>\n",
       "      <td>NaT</td>\n",
       "      <td>wetpaint-inc.com</td>\n",
       "      <td>BachelrWetpaint</td>\n",
       "      <td>USA</td>\n",
       "      <td>0.0</td>\n",
       "      <td>3.0</td>\n",
       "      <td>39750000.0</td>\n",
       "      <td>5.0</td>\n",
       "    </tr>\n",
       "    <tr>\n",
       "      <th>1</th>\n",
       "      <td>1.0</td>\n",
       "      <td>Wetpaint</td>\n",
       "      <td>web</td>\n",
       "      <td>operating</td>\n",
       "      <td>2005-10-17</td>\n",
       "      <td>NaT</td>\n",
       "      <td>wetpaint-inc.com</td>\n",
       "      <td>BachelrWetpaint</td>\n",
       "      <td>USA</td>\n",
       "      <td>0.0</td>\n",
       "      <td>3.0</td>\n",
       "      <td>39750000.0</td>\n",
       "      <td>5.0</td>\n",
       "    </tr>\n",
       "    <tr>\n",
       "      <th>2</th>\n",
       "      <td>1.0</td>\n",
       "      <td>Wetpaint</td>\n",
       "      <td>web</td>\n",
       "      <td>operating</td>\n",
       "      <td>2005-10-17</td>\n",
       "      <td>NaT</td>\n",
       "      <td>wetpaint-inc.com</td>\n",
       "      <td>BachelrWetpaint</td>\n",
       "      <td>USA</td>\n",
       "      <td>0.0</td>\n",
       "      <td>3.0</td>\n",
       "      <td>39750000.0</td>\n",
       "      <td>5.0</td>\n",
       "    </tr>\n",
       "    <tr>\n",
       "      <th>21</th>\n",
       "      <td>10015.0</td>\n",
       "      <td>Fitbit</td>\n",
       "      <td>health</td>\n",
       "      <td>operating</td>\n",
       "      <td>2007-10-01</td>\n",
       "      <td>NaT</td>\n",
       "      <td>fitbit.com</td>\n",
       "      <td>fitbit</td>\n",
       "      <td>USA</td>\n",
       "      <td>0.0</td>\n",
       "      <td>5.0</td>\n",
       "      <td>68069200.0</td>\n",
       "      <td>0.0</td>\n",
       "    </tr>\n",
       "    <tr>\n",
       "      <th>22</th>\n",
       "      <td>10015.0</td>\n",
       "      <td>Fitbit</td>\n",
       "      <td>health</td>\n",
       "      <td>operating</td>\n",
       "      <td>2007-10-01</td>\n",
       "      <td>NaT</td>\n",
       "      <td>fitbit.com</td>\n",
       "      <td>fitbit</td>\n",
       "      <td>USA</td>\n",
       "      <td>0.0</td>\n",
       "      <td>5.0</td>\n",
       "      <td>68069200.0</td>\n",
       "      <td>0.0</td>\n",
       "    </tr>\n",
       "    <tr>\n",
       "      <th>...</th>\n",
       "      <td>...</td>\n",
       "      <td>...</td>\n",
       "      <td>...</td>\n",
       "      <td>...</td>\n",
       "      <td>...</td>\n",
       "      <td>...</td>\n",
       "      <td>...</td>\n",
       "      <td>...</td>\n",
       "      <td>...</td>\n",
       "      <td>...</td>\n",
       "      <td>...</td>\n",
       "      <td>...</td>\n",
       "      <td>...</td>\n",
       "    </tr>\n",
       "    <tr>\n",
       "      <th>217769</th>\n",
       "      <td>NaN</td>\n",
       "      <td>NaN</td>\n",
       "      <td>NaN</td>\n",
       "      <td>NaN</td>\n",
       "      <td>NaT</td>\n",
       "      <td>NaT</td>\n",
       "      <td>NaN</td>\n",
       "      <td>NaN</td>\n",
       "      <td>NaN</td>\n",
       "      <td>NaN</td>\n",
       "      <td>NaN</td>\n",
       "      <td>NaN</td>\n",
       "      <td>NaN</td>\n",
       "    </tr>\n",
       "    <tr>\n",
       "      <th>217770</th>\n",
       "      <td>NaN</td>\n",
       "      <td>NaN</td>\n",
       "      <td>NaN</td>\n",
       "      <td>NaN</td>\n",
       "      <td>NaT</td>\n",
       "      <td>NaT</td>\n",
       "      <td>NaN</td>\n",
       "      <td>NaN</td>\n",
       "      <td>NaN</td>\n",
       "      <td>NaN</td>\n",
       "      <td>NaN</td>\n",
       "      <td>NaN</td>\n",
       "      <td>NaN</td>\n",
       "    </tr>\n",
       "    <tr>\n",
       "      <th>217771</th>\n",
       "      <td>NaN</td>\n",
       "      <td>NaN</td>\n",
       "      <td>NaN</td>\n",
       "      <td>NaN</td>\n",
       "      <td>NaT</td>\n",
       "      <td>NaT</td>\n",
       "      <td>NaN</td>\n",
       "      <td>NaN</td>\n",
       "      <td>NaN</td>\n",
       "      <td>NaN</td>\n",
       "      <td>NaN</td>\n",
       "      <td>NaN</td>\n",
       "      <td>NaN</td>\n",
       "    </tr>\n",
       "    <tr>\n",
       "      <th>217772</th>\n",
       "      <td>NaN</td>\n",
       "      <td>NaN</td>\n",
       "      <td>NaN</td>\n",
       "      <td>NaN</td>\n",
       "      <td>NaT</td>\n",
       "      <td>NaT</td>\n",
       "      <td>NaN</td>\n",
       "      <td>NaN</td>\n",
       "      <td>NaN</td>\n",
       "      <td>NaN</td>\n",
       "      <td>NaN</td>\n",
       "      <td>NaN</td>\n",
       "      <td>NaN</td>\n",
       "    </tr>\n",
       "    <tr>\n",
       "      <th>217773</th>\n",
       "      <td>NaN</td>\n",
       "      <td>NaN</td>\n",
       "      <td>NaN</td>\n",
       "      <td>NaN</td>\n",
       "      <td>NaT</td>\n",
       "      <td>NaT</td>\n",
       "      <td>NaN</td>\n",
       "      <td>NaN</td>\n",
       "      <td>NaN</td>\n",
       "      <td>NaN</td>\n",
       "      <td>NaN</td>\n",
       "      <td>NaN</td>\n",
       "      <td>NaN</td>\n",
       "    </tr>\n",
       "  </tbody>\n",
       "</table>\n",
       "<p>32394 rows × 13 columns</p>\n",
       "</div>"
      ],
      "text/plain": [
       "        company_id      name category_code     status founded_at closed_at  \\\n",
       "0              1.0  Wetpaint           web  operating 2005-10-17       NaT   \n",
       "1              1.0  Wetpaint           web  operating 2005-10-17       NaT   \n",
       "2              1.0  Wetpaint           web  operating 2005-10-17       NaT   \n",
       "21         10015.0    Fitbit        health  operating 2007-10-01       NaT   \n",
       "22         10015.0    Fitbit        health  operating 2007-10-01       NaT   \n",
       "...            ...       ...           ...        ...        ...       ...   \n",
       "217769         NaN       NaN           NaN        NaN        NaT       NaT   \n",
       "217770         NaN       NaN           NaN        NaN        NaT       NaT   \n",
       "217771         NaN       NaN           NaN        NaN        NaT       NaT   \n",
       "217772         NaN       NaN           NaN        NaN        NaT       NaT   \n",
       "217773         NaN       NaN           NaN        NaN        NaT       NaT   \n",
       "\n",
       "                  domain network_username country_code  investment_rounds  \\\n",
       "0       wetpaint-inc.com  BachelrWetpaint          USA                0.0   \n",
       "1       wetpaint-inc.com  BachelrWetpaint          USA                0.0   \n",
       "2       wetpaint-inc.com  BachelrWetpaint          USA                0.0   \n",
       "21            fitbit.com           fitbit          USA                0.0   \n",
       "22            fitbit.com           fitbit          USA                0.0   \n",
       "...                  ...              ...          ...                ...   \n",
       "217769               NaN              NaN          NaN                NaN   \n",
       "217770               NaN              NaN          NaN                NaN   \n",
       "217771               NaN              NaN          NaN                NaN   \n",
       "217772               NaN              NaN          NaN                NaN   \n",
       "217773               NaN              NaN          NaN                NaN   \n",
       "\n",
       "        funding_rounds  funding_total  milestones  \n",
       "0                  3.0     39750000.0         5.0  \n",
       "1                  3.0     39750000.0         5.0  \n",
       "2                  3.0     39750000.0         5.0  \n",
       "21                 5.0     68069200.0         0.0  \n",
       "22                 5.0     68069200.0         0.0  \n",
       "...                ...            ...         ...  \n",
       "217769             NaN            NaN         NaN  \n",
       "217770             NaN            NaN         NaN  \n",
       "217771             NaN            NaN         NaN  \n",
       "217772             NaN            NaN         NaN  \n",
       "217773             NaN            NaN         NaN  \n",
       "\n",
       "[32394 rows x 13 columns]"
      ]
     },
     "execution_count": 91,
     "metadata": {},
     "output_type": "execute_result"
    }
   ],
   "source": [
    "companies[companies.duplicated(subset='company_id', keep=False)]"
   ]
  },
  {
   "cell_type": "code",
   "execution_count": 92,
   "metadata": {},
   "outputs": [],
   "source": [
    "companies = companies.drop_duplicates()"
   ]
  },
  {
   "cell_type": "code",
   "execution_count": 93,
   "metadata": {},
   "outputs": [
    {
     "data": {
      "text/plain": [
       "196554"
      ]
     },
     "execution_count": 93,
     "metadata": {},
     "output_type": "execute_result"
    }
   ],
   "source": [
    "companies.shape[0]"
   ]
  },
  {
   "cell_type": "code",
   "execution_count": 94,
   "metadata": {},
   "outputs": [
    {
     "data": {
      "text/plain": [
       "164845"
      ]
     },
     "execution_count": 94,
     "metadata": {},
     "output_type": "execute_result"
    }
   ],
   "source": [
    "funding_rounds.duplicated().sum()"
   ]
  },
  {
   "cell_type": "code",
   "execution_count": 95,
   "metadata": {},
   "outputs": [
    {
     "data": {
      "text/plain": [
       "217774"
      ]
     },
     "execution_count": 95,
     "metadata": {},
     "output_type": "execute_result"
    }
   ],
   "source": [
    "funding_rounds.shape[0]"
   ]
  },
  {
   "cell_type": "code",
   "execution_count": 96,
   "metadata": {},
   "outputs": [
    {
     "data": {
      "text/html": [
       "<div>\n",
       "<style scoped>\n",
       "    .dataframe tbody tr th:only-of-type {\n",
       "        vertical-align: middle;\n",
       "    }\n",
       "\n",
       "    .dataframe tbody tr th {\n",
       "        vertical-align: top;\n",
       "    }\n",
       "\n",
       "    .dataframe thead th {\n",
       "        text-align: right;\n",
       "    }\n",
       "</style>\n",
       "<table border=\"1\" class=\"dataframe\">\n",
       "  <thead>\n",
       "    <tr style=\"text-align: right;\">\n",
       "      <th></th>\n",
       "      <th>funding_round_id</th>\n",
       "      <th>company_id</th>\n",
       "      <th>funded_at</th>\n",
       "      <th>funding_round_type</th>\n",
       "      <th>raised_amount</th>\n",
       "      <th>pre_money_valuation</th>\n",
       "      <th>participants</th>\n",
       "      <th>is_first_round</th>\n",
       "      <th>is_last_round</th>\n",
       "    </tr>\n",
       "  </thead>\n",
       "  <tbody>\n",
       "    <tr>\n",
       "      <th>3</th>\n",
       "      <td>NaN</td>\n",
       "      <td>NaN</td>\n",
       "      <td>NaT</td>\n",
       "      <td>NaN</td>\n",
       "      <td>NaN</td>\n",
       "      <td>NaN</td>\n",
       "      <td>NaN</td>\n",
       "      <td>NaN</td>\n",
       "      <td>NaN</td>\n",
       "    </tr>\n",
       "    <tr>\n",
       "      <th>4</th>\n",
       "      <td>NaN</td>\n",
       "      <td>NaN</td>\n",
       "      <td>NaT</td>\n",
       "      <td>NaN</td>\n",
       "      <td>NaN</td>\n",
       "      <td>NaN</td>\n",
       "      <td>NaN</td>\n",
       "      <td>NaN</td>\n",
       "      <td>NaN</td>\n",
       "    </tr>\n",
       "    <tr>\n",
       "      <th>5</th>\n",
       "      <td>NaN</td>\n",
       "      <td>NaN</td>\n",
       "      <td>NaT</td>\n",
       "      <td>NaN</td>\n",
       "      <td>NaN</td>\n",
       "      <td>NaN</td>\n",
       "      <td>NaN</td>\n",
       "      <td>NaN</td>\n",
       "      <td>NaN</td>\n",
       "    </tr>\n",
       "    <tr>\n",
       "      <th>6</th>\n",
       "      <td>NaN</td>\n",
       "      <td>NaN</td>\n",
       "      <td>NaT</td>\n",
       "      <td>NaN</td>\n",
       "      <td>NaN</td>\n",
       "      <td>NaN</td>\n",
       "      <td>NaN</td>\n",
       "      <td>NaN</td>\n",
       "      <td>NaN</td>\n",
       "    </tr>\n",
       "    <tr>\n",
       "      <th>7</th>\n",
       "      <td>NaN</td>\n",
       "      <td>NaN</td>\n",
       "      <td>NaT</td>\n",
       "      <td>NaN</td>\n",
       "      <td>NaN</td>\n",
       "      <td>NaN</td>\n",
       "      <td>NaN</td>\n",
       "      <td>NaN</td>\n",
       "      <td>NaN</td>\n",
       "    </tr>\n",
       "    <tr>\n",
       "      <th>...</th>\n",
       "      <td>...</td>\n",
       "      <td>...</td>\n",
       "      <td>...</td>\n",
       "      <td>...</td>\n",
       "      <td>...</td>\n",
       "      <td>...</td>\n",
       "      <td>...</td>\n",
       "      <td>...</td>\n",
       "      <td>...</td>\n",
       "    </tr>\n",
       "    <tr>\n",
       "      <th>217457</th>\n",
       "      <td>NaN</td>\n",
       "      <td>NaN</td>\n",
       "      <td>NaT</td>\n",
       "      <td>NaN</td>\n",
       "      <td>NaN</td>\n",
       "      <td>NaN</td>\n",
       "      <td>NaN</td>\n",
       "      <td>NaN</td>\n",
       "      <td>NaN</td>\n",
       "    </tr>\n",
       "    <tr>\n",
       "      <th>217460</th>\n",
       "      <td>NaN</td>\n",
       "      <td>NaN</td>\n",
       "      <td>NaT</td>\n",
       "      <td>NaN</td>\n",
       "      <td>NaN</td>\n",
       "      <td>NaN</td>\n",
       "      <td>NaN</td>\n",
       "      <td>NaN</td>\n",
       "      <td>NaN</td>\n",
       "    </tr>\n",
       "    <tr>\n",
       "      <th>217461</th>\n",
       "      <td>NaN</td>\n",
       "      <td>NaN</td>\n",
       "      <td>NaT</td>\n",
       "      <td>NaN</td>\n",
       "      <td>NaN</td>\n",
       "      <td>NaN</td>\n",
       "      <td>NaN</td>\n",
       "      <td>NaN</td>\n",
       "      <td>NaN</td>\n",
       "    </tr>\n",
       "    <tr>\n",
       "      <th>217462</th>\n",
       "      <td>NaN</td>\n",
       "      <td>NaN</td>\n",
       "      <td>NaT</td>\n",
       "      <td>NaN</td>\n",
       "      <td>NaN</td>\n",
       "      <td>NaN</td>\n",
       "      <td>NaN</td>\n",
       "      <td>NaN</td>\n",
       "      <td>NaN</td>\n",
       "    </tr>\n",
       "    <tr>\n",
       "      <th>217468</th>\n",
       "      <td>NaN</td>\n",
       "      <td>NaN</td>\n",
       "      <td>NaT</td>\n",
       "      <td>NaN</td>\n",
       "      <td>NaN</td>\n",
       "      <td>NaN</td>\n",
       "      <td>NaN</td>\n",
       "      <td>NaN</td>\n",
       "      <td>NaN</td>\n",
       "    </tr>\n",
       "  </tbody>\n",
       "</table>\n",
       "<p>164846 rows × 9 columns</p>\n",
       "</div>"
      ],
      "text/plain": [
       "        funding_round_id  company_id funded_at funding_round_type  \\\n",
       "3                    NaN         NaN       NaT                NaN   \n",
       "4                    NaN         NaN       NaT                NaN   \n",
       "5                    NaN         NaN       NaT                NaN   \n",
       "6                    NaN         NaN       NaT                NaN   \n",
       "7                    NaN         NaN       NaT                NaN   \n",
       "...                  ...         ...       ...                ...   \n",
       "217457               NaN         NaN       NaT                NaN   \n",
       "217460               NaN         NaN       NaT                NaN   \n",
       "217461               NaN         NaN       NaT                NaN   \n",
       "217462               NaN         NaN       NaT                NaN   \n",
       "217468               NaN         NaN       NaT                NaN   \n",
       "\n",
       "        raised_amount  pre_money_valuation  participants  is_first_round  \\\n",
       "3                 NaN                  NaN           NaN             NaN   \n",
       "4                 NaN                  NaN           NaN             NaN   \n",
       "5                 NaN                  NaN           NaN             NaN   \n",
       "6                 NaN                  NaN           NaN             NaN   \n",
       "7                 NaN                  NaN           NaN             NaN   \n",
       "...               ...                  ...           ...             ...   \n",
       "217457            NaN                  NaN           NaN             NaN   \n",
       "217460            NaN                  NaN           NaN             NaN   \n",
       "217461            NaN                  NaN           NaN             NaN   \n",
       "217462            NaN                  NaN           NaN             NaN   \n",
       "217468            NaN                  NaN           NaN             NaN   \n",
       "\n",
       "        is_last_round  \n",
       "3                 NaN  \n",
       "4                 NaN  \n",
       "5                 NaN  \n",
       "6                 NaN  \n",
       "7                 NaN  \n",
       "...               ...  \n",
       "217457            NaN  \n",
       "217460            NaN  \n",
       "217461            NaN  \n",
       "217462            NaN  \n",
       "217468            NaN  \n",
       "\n",
       "[164846 rows x 9 columns]"
      ]
     },
     "execution_count": 96,
     "metadata": {},
     "output_type": "execute_result"
    }
   ],
   "source": [
    "funding_rounds[funding_rounds.duplicated(subset=['funding_round_id'], keep=False)]"
   ]
  },
  {
   "cell_type": "code",
   "execution_count": 97,
   "metadata": {},
   "outputs": [],
   "source": [
    "funding_rounds = funding_rounds.drop_duplicates()"
   ]
  },
  {
   "cell_type": "code",
   "execution_count": 98,
   "metadata": {},
   "outputs": [
    {
     "data": {
      "text/plain": [
       "52929"
      ]
     },
     "execution_count": 98,
     "metadata": {},
     "output_type": "execute_result"
    }
   ],
   "source": [
    "funding_rounds.shape[0]"
   ]
  },
  {
   "cell_type": "markdown",
   "metadata": {},
   "source": [
    "Таким образом, мы разделили данные на два датасета, для удобства анализа каждой компании по отдельности.  \n",
    "При необходимости мы можем присоединить датасеты снова по столбцу **company_id**.  \n",
    "Также мы удалили пропуски, которые возникли при прошлом объединении таблиц."
   ]
  },
  {
   "cell_type": "markdown",
   "metadata": {
    "id": "bmVYhphNrJg2"
   },
   "source": [
    "\n",
    "## Шаг 3. Исследовательский анализ объединённых таблиц"
   ]
  },
  {
   "cell_type": "markdown",
   "metadata": {
    "id": "3Di6tCT3rJg2"
   },
   "source": [
    "\n",
    "### 3.1. Объединение данных"
   ]
  },
  {
   "cell_type": "code",
   "execution_count": 99,
   "metadata": {
    "id": "mGYqoHS7rJg2"
   },
   "outputs": [],
   "source": [
    "companies_filtered = companies[(companies['funding_rounds'] > 0) | \n",
    "                                (companies['investment_rounds'] > 0) | \n",
    "                                (companies['status'] == 'acquired')]"
   ]
  },
  {
   "cell_type": "code",
   "execution_count": 100,
   "metadata": {},
   "outputs": [],
   "source": [
    "df = companies_filtered.merge(funding_rounds, on='company_id', how='left')\n",
    "df = df.merge(acquisition, left_on='company_id', right_on='acquired_company_id', how='left')"
   ]
  },
  {
   "cell_type": "code",
   "execution_count": 101,
   "metadata": {},
   "outputs": [
    {
     "name": "stdout",
     "output_type": "stream",
     "text": [
      "<class 'pandas.core.frame.DataFrame'>\n",
      "RangeIndex: 61855 entries, 0 to 61854\n",
      "Data columns (total 27 columns):\n",
      " #   Column                Non-Null Count  Dtype         \n",
      "---  ------                --------------  -----         \n",
      " 0   company_id            61855 non-null  float32       \n",
      " 1   name                  61855 non-null  object        \n",
      " 2   category_code         56181 non-null  object        \n",
      " 3   status                61855 non-null  object        \n",
      " 4   founded_at            46679 non-null  datetime64[ns]\n",
      " 5   closed_at             2957 non-null   datetime64[ns]\n",
      " 6   domain                56543 non-null  object        \n",
      " 7   network_username      35914 non-null  object        \n",
      " 8   country_code          55520 non-null  object        \n",
      " 9   investment_rounds     61855 non-null  float32       \n",
      " 10  funding_rounds        61855 non-null  float32       \n",
      " 11  funding_total         61855 non-null  float32       \n",
      " 12  milestones            61855 non-null  float32       \n",
      " 13  funding_round_id      52720 non-null  float32       \n",
      " 14  funded_at             52475 non-null  datetime64[ns]\n",
      " 15  funding_round_type    52720 non-null  object        \n",
      " 16  raised_amount         52720 non-null  float32       \n",
      " 17  pre_money_valuation   52720 non-null  float32       \n",
      " 18  participants          52720 non-null  float32       \n",
      " 19  is_first_round        52720 non-null  float32       \n",
      " 20  is_last_round         52720 non-null  float32       \n",
      " 21  id                    11736 non-null  float64       \n",
      " 22  acquiring_company_id  11736 non-null  float64       \n",
      " 23  acquired_company_id   11736 non-null  float64       \n",
      " 24  term_code             2349 non-null   object        \n",
      " 25  price_amount          11736 non-null  float64       \n",
      " 26  acquired_at           11707 non-null  datetime64[ns]\n",
      "dtypes: datetime64[ns](4), float32(11), float64(4), object(8)\n",
      "memory usage: 10.1+ MB\n"
     ]
    }
   ],
   "source": [
    "df.info()"
   ]
  },
  {
   "cell_type": "markdown",
   "metadata": {},
   "source": [
    "Мы объединили данные в один датафрейм, чтобы в будущем работать только с ним."
   ]
  },
  {
   "cell_type": "markdown",
   "metadata": {
    "id": "DFHINkV3rJg2"
   },
   "source": [
    "\n",
    "### 3.2. Анализ выбросов\n",
    "\n",
    "Хочется понять, какие значения общего объёма финансирования — по столбцу funding_total — можно считать типичными для компаний в этом наборе данных, а какие — аномальными или выбивающимися из общей картины.\n",
    "Также стоит проверить, насколько данные асимметричны, чтобы понять, применимы ли стандартные методы оценки или лучше использовать устойчивые к выбросам подходы."
   ]
  },
  {
   "cell_type": "code",
   "execution_count": 102,
   "metadata": {
    "id": "8jm75fKXrJg2"
   },
   "outputs": [],
   "source": [
    "pd.options.display.float_format = '{:.2f}'.format"
   ]
  },
  {
   "cell_type": "code",
   "execution_count": 103,
   "metadata": {},
   "outputs": [
    {
     "data": {
      "text/html": [
       "<style type=\"text/css\">\n",
       "#T_8f04d_row0_col0, #T_8f04d_row1_col0, #T_8f04d_row3_col0, #T_8f04d_row4_col0, #T_8f04d_row5_col0, #T_8f04d_row6_col0 {\n",
       "  background-color: #3b4cc0;\n",
       "  color: #f1f1f1;\n",
       "}\n",
       "#T_8f04d_row2_col0 {\n",
       "  background-color: #3f53c6;\n",
       "  color: #f1f1f1;\n",
       "}\n",
       "#T_8f04d_row7_col0 {\n",
       "  background-color: #b40426;\n",
       "  color: #f1f1f1;\n",
       "}\n",
       "</style>\n",
       "<table id=\"T_8f04d\">\n",
       "  <thead>\n",
       "    <tr>\n",
       "      <th class=\"blank level0\" >&nbsp;</th>\n",
       "      <th id=\"T_8f04d_level0_col0\" class=\"col_heading level0 col0\" >funding_total</th>\n",
       "    </tr>\n",
       "  </thead>\n",
       "  <tbody>\n",
       "    <tr>\n",
       "      <th id=\"T_8f04d_level0_row0\" class=\"row_heading level0 row0\" >count</th>\n",
       "      <td id=\"T_8f04d_row0_col0\" class=\"data row0 col0\" >61855.00</td>\n",
       "    </tr>\n",
       "    <tr>\n",
       "      <th id=\"T_8f04d_level0_row1\" class=\"row_heading level0 row1\" >mean</th>\n",
       "      <td id=\"T_8f04d_row1_col0\" class=\"data row1 col0\" >21134482.00</td>\n",
       "    </tr>\n",
       "    <tr>\n",
       "      <th id=\"T_8f04d_level0_row2\" class=\"row_heading level0 row2\" >std</th>\n",
       "      <td id=\"T_8f04d_row2_col0\" class=\"data row2 col0\" >90028936.00</td>\n",
       "    </tr>\n",
       "    <tr>\n",
       "      <th id=\"T_8f04d_level0_row3\" class=\"row_heading level0 row3\" >min</th>\n",
       "      <td id=\"T_8f04d_row3_col0\" class=\"data row3 col0\" >0.00</td>\n",
       "    </tr>\n",
       "    <tr>\n",
       "      <th id=\"T_8f04d_level0_row4\" class=\"row_heading level0 row4\" >25%</th>\n",
       "      <td id=\"T_8f04d_row4_col0\" class=\"data row4 col0\" >59700.00</td>\n",
       "    </tr>\n",
       "    <tr>\n",
       "      <th id=\"T_8f04d_level0_row5\" class=\"row_heading level0 row5\" >50%</th>\n",
       "      <td id=\"T_8f04d_row5_col0\" class=\"data row5 col0\" >2477000.00</td>\n",
       "    </tr>\n",
       "    <tr>\n",
       "      <th id=\"T_8f04d_level0_row6\" class=\"row_heading level0 row6\" >75%</th>\n",
       "      <td id=\"T_8f04d_row6_col0\" class=\"data row6 col0\" >15950000.00</td>\n",
       "    </tr>\n",
       "    <tr>\n",
       "      <th id=\"T_8f04d_level0_row7\" class=\"row_heading level0 row7\" >max</th>\n",
       "      <td id=\"T_8f04d_row7_col0\" class=\"data row7 col0\" >5699999744.00</td>\n",
       "    </tr>\n",
       "  </tbody>\n",
       "</table>\n"
      ],
      "text/plain": [
       "<pandas.io.formats.style.Styler at 0x1efa4fd1650>"
      ]
     },
     "execution_count": 103,
     "metadata": {},
     "output_type": "execute_result"
    }
   ],
   "source": [
    "df['funding_total'].describe().to_frame().style.background_gradient(cmap='coolwarm').format(\"{:.2f}\")"
   ]
  },
  {
   "cell_type": "code",
   "execution_count": 104,
   "metadata": {
    "id": "dIWqyEomn2MU"
   },
   "outputs": [
    {
     "data": {
      "image/png": "[encoded data removed]",
      "text/plain": [
       "<Figure size 800x400 with 1 Axes>"
      ]
     },
     "metadata": {},
     "output_type": "display_data"
    }
   ],
   "source": [
    "plt.figure(figsize=(8,4))\n",
    "sns.boxplot(x=df['funding_total'])\n",
    "plt.xscale('log')\n",
    "plt.xlabel('Общий объем финансирования')\n",
    "plt.title('Суммы финансирования компаний')\n",
    "plt.show()"
   ]
  },
  {
   "cell_type": "code",
   "execution_count": 105,
   "metadata": {},
   "outputs": [
    {
     "data": {
      "image/png": "[encoded data removed]",
      "text/plain": [
       "<Figure size 1400x600 with 1 Axes>"
      ]
     },
     "metadata": {},
     "output_type": "display_data"
    }
   ],
   "source": [
    "log_funding = np.log10(df[df['funding_total'] > 0]['funding_total'] + 1)\n",
    "plt.figure(figsize=(14,6))\n",
    "sns.histplot(log_funding, bins=50, kde=True)\n",
    "\n",
    "plt.xlabel('Логарифм (log10) общего объема финансирования компаний')\n",
    "plt.ylabel('Количество компаний')\n",
    "plt.title('Распределение логарифма сумм финансирования')\n",
    "\n",
    "percentiles = np.percentile(log_funding, [90, 85, 75, 50])\n",
    "percentile_labels = ['90%', '85%', '75%', '50%']\n",
    "percentile_colors = ['green', 'purple', 'brown', 'red']  # разные цвет для каждой линии\n",
    "for percentile, label, color in zip(percentiles, percentile_labels, percentile_colors):\n",
    "    plt.axvline(percentile, color=color, linestyle='--', label=f'{label}: {percentile:.2f}')\n",
    "    \n",
    "plt.legend(title='Перцентили')\n",
    "\n",
    "plt.show()"
   ]
  },
  {
   "cell_type": "markdown",
   "metadata": {},
   "source": [
    "Основная часть значений сосредоточена в интервале 7 по log10, что соответствует 10 млн долларов."
   ]
  },
  {
   "cell_type": "code",
   "execution_count": 106,
   "metadata": {},
   "outputs": [
    {
     "data": {
      "text/html": [
       "<style type=\"text/css\">\n",
       "#T_a8d85_row0_col0, #T_a8d85_row1_col0, #T_a8d85_row3_col0, #T_a8d85_row4_col0, #T_a8d85_row5_col0, #T_a8d85_row6_col0 {\n",
       "  background-color: #3b4cc0;\n",
       "  color: #f1f1f1;\n",
       "}\n",
       "#T_a8d85_row2_col0 {\n",
       "  background-color: #3f53c6;\n",
       "  color: #f1f1f1;\n",
       "}\n",
       "#T_a8d85_row7_col0 {\n",
       "  background-color: #3d50c3;\n",
       "  color: #f1f1f1;\n",
       "}\n",
       "#T_a8d85_row8_col0 {\n",
       "  background-color: #3e51c5;\n",
       "  color: #f1f1f1;\n",
       "}\n",
       "#T_a8d85_row9_col0 {\n",
       "  background-color: #b40426;\n",
       "  color: #f1f1f1;\n",
       "}\n",
       "</style>\n",
       "<table id=\"T_a8d85\">\n",
       "  <thead>\n",
       "    <tr>\n",
       "      <th class=\"blank level0\" >&nbsp;</th>\n",
       "      <th id=\"T_a8d85_level0_col0\" class=\"col_heading level0 col0\" >funding_total</th>\n",
       "    </tr>\n",
       "  </thead>\n",
       "  <tbody>\n",
       "    <tr>\n",
       "      <th id=\"T_a8d85_level0_row0\" class=\"row_heading level0 row0\" >count</th>\n",
       "      <td id=\"T_a8d85_row0_col0\" class=\"data row0 col0\" >61855.00</td>\n",
       "    </tr>\n",
       "    <tr>\n",
       "      <th id=\"T_a8d85_level0_row1\" class=\"row_heading level0 row1\" >mean</th>\n",
       "      <td id=\"T_a8d85_row1_col0\" class=\"data row1 col0\" >21134482.00</td>\n",
       "    </tr>\n",
       "    <tr>\n",
       "      <th id=\"T_a8d85_level0_row2\" class=\"row_heading level0 row2\" >std</th>\n",
       "      <td id=\"T_a8d85_row2_col0\" class=\"data row2 col0\" >90028936.00</td>\n",
       "    </tr>\n",
       "    <tr>\n",
       "      <th id=\"T_a8d85_level0_row3\" class=\"row_heading level0 row3\" >min</th>\n",
       "      <td id=\"T_a8d85_row3_col0\" class=\"data row3 col0\" >0.00</td>\n",
       "    </tr>\n",
       "    <tr>\n",
       "      <th id=\"T_a8d85_level0_row4\" class=\"row_heading level0 row4\" >25%</th>\n",
       "      <td id=\"T_a8d85_row4_col0\" class=\"data row4 col0\" >59700.00</td>\n",
       "    </tr>\n",
       "    <tr>\n",
       "      <th id=\"T_a8d85_level0_row5\" class=\"row_heading level0 row5\" >50%</th>\n",
       "      <td id=\"T_a8d85_row5_col0\" class=\"data row5 col0\" >2477000.00</td>\n",
       "    </tr>\n",
       "    <tr>\n",
       "      <th id=\"T_a8d85_level0_row6\" class=\"row_heading level0 row6\" >75%</th>\n",
       "      <td id=\"T_a8d85_row6_col0\" class=\"data row6 col0\" >15950000.00</td>\n",
       "    </tr>\n",
       "    <tr>\n",
       "      <th id=\"T_a8d85_level0_row7\" class=\"row_heading level0 row7\" >90%</th>\n",
       "      <td id=\"T_a8d85_row7_col0\" class=\"data row7 col0\" >49860000.00</td>\n",
       "    </tr>\n",
       "    <tr>\n",
       "      <th id=\"T_a8d85_level0_row8\" class=\"row_heading level0 row8\" >95%</th>\n",
       "      <td id=\"T_a8d85_row8_col0\" class=\"data row8 col0\" >85500000.00</td>\n",
       "    </tr>\n",
       "    <tr>\n",
       "      <th id=\"T_a8d85_level0_row9\" class=\"row_heading level0 row9\" >max</th>\n",
       "      <td id=\"T_a8d85_row9_col0\" class=\"data row9 col0\" >5699999744.00</td>\n",
       "    </tr>\n",
       "  </tbody>\n",
       "</table>\n"
      ],
      "text/plain": [
       "<pandas.io.formats.style.Styler at 0x1efaef4d950>"
      ]
     },
     "execution_count": 106,
     "metadata": {},
     "output_type": "execute_result"
    }
   ],
   "source": [
    "df['funding_total'].describe(percentiles=[0.25, 0.5, 0.75, 0.9, 0.95]).to_frame().style.background_gradient(cmap='coolwarm').format(\"{:.2f}\")"
   ]
  },
  {
   "cell_type": "code",
   "execution_count": 107,
   "metadata": {},
   "outputs": [
    {
     "name": "stdout",
     "output_type": "stream",
     "text": [
      "Нижний ус: -23775750.0\n",
      "Верхний ус: 39785450.0\n"
     ]
    }
   ],
   "source": [
    "Q1 = np.percentile(df['funding_total'], 25)\n",
    "Q2 = np.percentile(df['funding_total'], 50)\n",
    "Q3 = np.percentile(df['funding_total'], 75)\n",
    "IQR = Q3 - Q1\n",
    "lower = Q1 - 1.5 * IQR\n",
    "upper = Q3 + 1.5 * IQR\n",
    "\n",
    "print(f\"Нижний ус: {lower}\")\n",
    "print(f\"Верхний ус: {upper}\")"
   ]
  },
  {
   "cell_type": "code",
   "execution_count": 108,
   "metadata": {},
   "outputs": [
    {
     "data": {
      "text/plain": [
       "count   48503.00\n",
       "mean        6.65\n",
       "std         0.96\n",
       "min         2.47\n",
       "25%         6.03\n",
       "50%         6.77\n",
       "75%         7.37\n",
       "max         9.76\n",
       "Name: funding_total, dtype: float64"
      ]
     },
     "execution_count": 108,
     "metadata": {},
     "output_type": "execute_result"
    }
   ],
   "source": [
    "log_funding.describe()"
   ]
  },
  {
   "cell_type": "markdown",
   "metadata": {},
   "source": [
    "Из полученных данных видим, что типичный размер финансирования - это медиана, равная примерно 5.9 млн долларов (10 в степени 6.77). \n",
    "\n",
    "В исходных данных среднее значение сильно сдвинуто и составляет 21 миллион.  \n",
    "Это происходит из-за большого количества выбросов в значениях. Эти выбросы, скорее всего, не являются ошибкой, так как речь идёт о финансировании компаний.  \n",
    "Выбивающимися значениями будут те значения, которые превышают границу в 40 миллионов. \n",
    "Также стоит отметить, что из-за слишком большой разницы между 25 и 75 процентилями, нижний ус ящика уходит в отрицательные значения. Сумма финансирования не может быть отрицательной, поэтому реальных значений в этой области нет.  \n",
    "Всё это указывает на наличие крупных сумм в финансировании некоторых компаний."
   ]
  },
  {
   "cell_type": "markdown",
   "metadata": {
    "id": "JqkRAQrIrJg2"
   },
   "source": [
    "\n",
    "### 3.3. Куплены забесплатно?\n",
    "\n",
    "Возникает интересная аномалия: в таблице встречаются компании, которые были проданы либо за ноль, либо за один доллар, при этом у них есть данные о ненулевом объёме привлечённого финансирования. Это может быть признаком либо ошибок в данных, либо нестандартных кейсов (например, фиктивных продаж, банкротств или выкупов внутри группы компаний)."
   ]
  },
  {
   "cell_type": "markdown",
   "metadata": {},
   "source": [
    "Для начала отфильтруем данные согласно условиям."
   ]
  },
  {
   "cell_type": "code",
   "execution_count": 109,
   "metadata": {
    "id": "wJHXCBwwrJg2"
   },
   "outputs": [],
   "source": [
    "zero_sales = df[(df['funding_total'] > 0) & (df['price_amount'] <= 1)]\n",
    "zero_sales = zero_sales.copy()"
   ]
  },
  {
   "cell_type": "code",
   "execution_count": 110,
   "metadata": {
    "id": "-kA4CO27n2ql"
   },
   "outputs": [
    {
     "data": {
      "text/plain": [
       "3059"
      ]
     },
     "execution_count": 110,
     "metadata": {},
     "output_type": "execute_result"
    }
   ],
   "source": [
    "zero_sales.shape[0]"
   ]
  },
  {
   "cell_type": "code",
   "execution_count": 111,
   "metadata": {},
   "outputs": [
    {
     "data": {
      "text/html": [
       "<div>\n",
       "<style scoped>\n",
       "    .dataframe tbody tr th:only-of-type {\n",
       "        vertical-align: middle;\n",
       "    }\n",
       "\n",
       "    .dataframe tbody tr th {\n",
       "        vertical-align: top;\n",
       "    }\n",
       "\n",
       "    .dataframe thead th {\n",
       "        text-align: right;\n",
       "    }\n",
       "</style>\n",
       "<table border=\"1\" class=\"dataframe\">\n",
       "  <thead>\n",
       "    <tr style=\"text-align: right;\">\n",
       "      <th></th>\n",
       "      <th>company_id</th>\n",
       "      <th>name</th>\n",
       "      <th>category_code</th>\n",
       "      <th>status</th>\n",
       "      <th>founded_at</th>\n",
       "      <th>closed_at</th>\n",
       "      <th>domain</th>\n",
       "      <th>network_username</th>\n",
       "      <th>country_code</th>\n",
       "      <th>investment_rounds</th>\n",
       "      <th>...</th>\n",
       "      <th>pre_money_valuation</th>\n",
       "      <th>participants</th>\n",
       "      <th>is_first_round</th>\n",
       "      <th>is_last_round</th>\n",
       "      <th>id</th>\n",
       "      <th>acquiring_company_id</th>\n",
       "      <th>acquired_company_id</th>\n",
       "      <th>term_code</th>\n",
       "      <th>price_amount</th>\n",
       "      <th>acquired_at</th>\n",
       "    </tr>\n",
       "  </thead>\n",
       "  <tbody>\n",
       "    <tr>\n",
       "      <th>38</th>\n",
       "      <td>10054.00</td>\n",
       "      <td>Jumptap</td>\n",
       "      <td>mobile</td>\n",
       "      <td>acquired</td>\n",
       "      <td>2005-01-01</td>\n",
       "      <td>NaT</td>\n",
       "      <td>jumptap.com</td>\n",
       "      <td>jumptap</td>\n",
       "      <td>USA</td>\n",
       "      <td>0.00</td>\n",
       "      <td>...</td>\n",
       "      <td>0.00</td>\n",
       "      <td>6.00</td>\n",
       "      <td>0.00</td>\n",
       "      <td>0.00</td>\n",
       "      <td>9288.00</td>\n",
       "      <td>23283.00</td>\n",
       "      <td>10054.00</td>\n",
       "      <td>cash_and_stock</td>\n",
       "      <td>0.00</td>\n",
       "      <td>2013-08-13</td>\n",
       "    </tr>\n",
       "    <tr>\n",
       "      <th>39</th>\n",
       "      <td>10054.00</td>\n",
       "      <td>Jumptap</td>\n",
       "      <td>mobile</td>\n",
       "      <td>acquired</td>\n",
       "      <td>2005-01-01</td>\n",
       "      <td>NaT</td>\n",
       "      <td>jumptap.com</td>\n",
       "      <td>jumptap</td>\n",
       "      <td>USA</td>\n",
       "      <td>0.00</td>\n",
       "      <td>...</td>\n",
       "      <td>0.00</td>\n",
       "      <td>2.00</td>\n",
       "      <td>0.00</td>\n",
       "      <td>1.00</td>\n",
       "      <td>9288.00</td>\n",
       "      <td>23283.00</td>\n",
       "      <td>10054.00</td>\n",
       "      <td>cash_and_stock</td>\n",
       "      <td>0.00</td>\n",
       "      <td>2013-08-13</td>\n",
       "    </tr>\n",
       "    <tr>\n",
       "      <th>40</th>\n",
       "      <td>10054.00</td>\n",
       "      <td>Jumptap</td>\n",
       "      <td>mobile</td>\n",
       "      <td>acquired</td>\n",
       "      <td>2005-01-01</td>\n",
       "      <td>NaT</td>\n",
       "      <td>jumptap.com</td>\n",
       "      <td>jumptap</td>\n",
       "      <td>USA</td>\n",
       "      <td>0.00</td>\n",
       "      <td>...</td>\n",
       "      <td>0.00</td>\n",
       "      <td>3.00</td>\n",
       "      <td>0.00</td>\n",
       "      <td>0.00</td>\n",
       "      <td>9288.00</td>\n",
       "      <td>23283.00</td>\n",
       "      <td>10054.00</td>\n",
       "      <td>cash_and_stock</td>\n",
       "      <td>0.00</td>\n",
       "      <td>2013-08-13</td>\n",
       "    </tr>\n",
       "    <tr>\n",
       "      <th>41</th>\n",
       "      <td>10054.00</td>\n",
       "      <td>Jumptap</td>\n",
       "      <td>mobile</td>\n",
       "      <td>acquired</td>\n",
       "      <td>2005-01-01</td>\n",
       "      <td>NaT</td>\n",
       "      <td>jumptap.com</td>\n",
       "      <td>jumptap</td>\n",
       "      <td>USA</td>\n",
       "      <td>0.00</td>\n",
       "      <td>...</td>\n",
       "      <td>0.00</td>\n",
       "      <td>4.00</td>\n",
       "      <td>0.00</td>\n",
       "      <td>0.00</td>\n",
       "      <td>9288.00</td>\n",
       "      <td>23283.00</td>\n",
       "      <td>10054.00</td>\n",
       "      <td>cash_and_stock</td>\n",
       "      <td>0.00</td>\n",
       "      <td>2013-08-13</td>\n",
       "    </tr>\n",
       "    <tr>\n",
       "      <th>42</th>\n",
       "      <td>10054.00</td>\n",
       "      <td>Jumptap</td>\n",
       "      <td>mobile</td>\n",
       "      <td>acquired</td>\n",
       "      <td>2005-01-01</td>\n",
       "      <td>NaT</td>\n",
       "      <td>jumptap.com</td>\n",
       "      <td>jumptap</td>\n",
       "      <td>USA</td>\n",
       "      <td>0.00</td>\n",
       "      <td>...</td>\n",
       "      <td>0.00</td>\n",
       "      <td>6.00</td>\n",
       "      <td>0.00</td>\n",
       "      <td>0.00</td>\n",
       "      <td>9288.00</td>\n",
       "      <td>23283.00</td>\n",
       "      <td>10054.00</td>\n",
       "      <td>cash_and_stock</td>\n",
       "      <td>0.00</td>\n",
       "      <td>2013-08-13</td>\n",
       "    </tr>\n",
       "  </tbody>\n",
       "</table>\n",
       "<p>5 rows × 27 columns</p>\n",
       "</div>"
      ],
      "text/plain": [
       "    company_id     name category_code    status founded_at closed_at  \\\n",
       "38    10054.00  Jumptap        mobile  acquired 2005-01-01       NaT   \n",
       "39    10054.00  Jumptap        mobile  acquired 2005-01-01       NaT   \n",
       "40    10054.00  Jumptap        mobile  acquired 2005-01-01       NaT   \n",
       "41    10054.00  Jumptap        mobile  acquired 2005-01-01       NaT   \n",
       "42    10054.00  Jumptap        mobile  acquired 2005-01-01       NaT   \n",
       "\n",
       "         domain network_username country_code  investment_rounds  ...  \\\n",
       "38  jumptap.com          jumptap          USA               0.00  ...   \n",
       "39  jumptap.com          jumptap          USA               0.00  ...   \n",
       "40  jumptap.com          jumptap          USA               0.00  ...   \n",
       "41  jumptap.com          jumptap          USA               0.00  ...   \n",
       "42  jumptap.com          jumptap          USA               0.00  ...   \n",
       "\n",
       "    pre_money_valuation  participants  is_first_round  is_last_round      id  \\\n",
       "38                 0.00          6.00            0.00           0.00 9288.00   \n",
       "39                 0.00          2.00            0.00           1.00 9288.00   \n",
       "40                 0.00          3.00            0.00           0.00 9288.00   \n",
       "41                 0.00          4.00            0.00           0.00 9288.00   \n",
       "42                 0.00          6.00            0.00           0.00 9288.00   \n",
       "\n",
       "   acquiring_company_id  acquired_company_id       term_code  price_amount  \\\n",
       "38             23283.00             10054.00  cash_and_stock          0.00   \n",
       "39             23283.00             10054.00  cash_and_stock          0.00   \n",
       "40             23283.00             10054.00  cash_and_stock          0.00   \n",
       "41             23283.00             10054.00  cash_and_stock          0.00   \n",
       "42             23283.00             10054.00  cash_and_stock          0.00   \n",
       "\n",
       "    acquired_at  \n",
       "38   2013-08-13  \n",
       "39   2013-08-13  \n",
       "40   2013-08-13  \n",
       "41   2013-08-13  \n",
       "42   2013-08-13  \n",
       "\n",
       "[5 rows x 27 columns]"
      ]
     },
     "execution_count": 111,
     "metadata": {},
     "output_type": "execute_result"
    }
   ],
   "source": [
    "zero_sales.head()"
   ]
  },
  {
   "cell_type": "code",
   "execution_count": 112,
   "metadata": {},
   "outputs": [
    {
     "data": {
      "text/plain": [
       "array(['acquired'], dtype=object)"
      ]
     },
     "execution_count": 112,
     "metadata": {},
     "output_type": "execute_result"
    }
   ],
   "source": [
    "zero_sales['status'].unique()"
   ]
  },
  {
   "cell_type": "markdown",
   "metadata": {},
   "source": [
    "Сразу видим в данных множество дубликатов, которые отличаются в некоторых столбцах, но при этом запись о покупке (id) у них совпадает. Это может значить, что сделка проводилась несколько раз или это обозначение разных этапов одной сделки. Также это может быть ошибкой. В любом случае, для дальнейшего анализа нам эти дубликаты не понадобятся."
   ]
  },
  {
   "cell_type": "code",
   "execution_count": 113,
   "metadata": {},
   "outputs": [],
   "source": [
    "zero_sales = zero_sales.drop_duplicates(subset='id')"
   ]
  },
  {
   "cell_type": "code",
   "execution_count": 114,
   "metadata": {},
   "outputs": [
    {
     "data": {
      "text/plain": [
       "1618"
      ]
     },
     "execution_count": 114,
     "metadata": {},
     "output_type": "execute_result"
    }
   ],
   "source": [
    "zero_sales.shape[0]"
   ]
  },
  {
   "cell_type": "code",
   "execution_count": 115,
   "metadata": {},
   "outputs": [
    {
     "data": {
      "text/html": [
       "<div>\n",
       "<style scoped>\n",
       "    .dataframe tbody tr th:only-of-type {\n",
       "        vertical-align: middle;\n",
       "    }\n",
       "\n",
       "    .dataframe tbody tr th {\n",
       "        vertical-align: top;\n",
       "    }\n",
       "\n",
       "    .dataframe thead th {\n",
       "        text-align: right;\n",
       "    }\n",
       "</style>\n",
       "<table border=\"1\" class=\"dataframe\">\n",
       "  <thead>\n",
       "    <tr style=\"text-align: right;\">\n",
       "      <th></th>\n",
       "      <th>company_id</th>\n",
       "      <th>name</th>\n",
       "      <th>category_code</th>\n",
       "      <th>status</th>\n",
       "      <th>founded_at</th>\n",
       "      <th>closed_at</th>\n",
       "      <th>domain</th>\n",
       "      <th>network_username</th>\n",
       "      <th>country_code</th>\n",
       "      <th>investment_rounds</th>\n",
       "      <th>...</th>\n",
       "      <th>pre_money_valuation</th>\n",
       "      <th>participants</th>\n",
       "      <th>is_first_round</th>\n",
       "      <th>is_last_round</th>\n",
       "      <th>id</th>\n",
       "      <th>acquiring_company_id</th>\n",
       "      <th>acquired_company_id</th>\n",
       "      <th>term_code</th>\n",
       "      <th>price_amount</th>\n",
       "      <th>acquired_at</th>\n",
       "    </tr>\n",
       "  </thead>\n",
       "  <tbody>\n",
       "    <tr>\n",
       "      <th>38</th>\n",
       "      <td>10054.00</td>\n",
       "      <td>Jumptap</td>\n",
       "      <td>mobile</td>\n",
       "      <td>acquired</td>\n",
       "      <td>2005-01-01</td>\n",
       "      <td>NaT</td>\n",
       "      <td>jumptap.com</td>\n",
       "      <td>jumptap</td>\n",
       "      <td>USA</td>\n",
       "      <td>0.00</td>\n",
       "      <td>...</td>\n",
       "      <td>0.00</td>\n",
       "      <td>6.00</td>\n",
       "      <td>0.00</td>\n",
       "      <td>0.00</td>\n",
       "      <td>9288.00</td>\n",
       "      <td>23283.00</td>\n",
       "      <td>10054.00</td>\n",
       "      <td>cash_and_stock</td>\n",
       "      <td>0.00</td>\n",
       "      <td>2013-08-13</td>\n",
       "    </tr>\n",
       "    <tr>\n",
       "      <th>99</th>\n",
       "      <td>101312.00</td>\n",
       "      <td>SideTour</td>\n",
       "      <td>web</td>\n",
       "      <td>acquired</td>\n",
       "      <td>2011-06-01</td>\n",
       "      <td>NaT</td>\n",
       "      <td>sidetour.com</td>\n",
       "      <td>sidetour</td>\n",
       "      <td>USA</td>\n",
       "      <td>0.00</td>\n",
       "      <td>...</td>\n",
       "      <td>0.00</td>\n",
       "      <td>3.00</td>\n",
       "      <td>0.00</td>\n",
       "      <td>0.00</td>\n",
       "      <td>9653.00</td>\n",
       "      <td>11391.00</td>\n",
       "      <td>101312.00</td>\n",
       "      <td>NaN</td>\n",
       "      <td>0.00</td>\n",
       "      <td>2013-09-18</td>\n",
       "    </tr>\n",
       "    <tr>\n",
       "      <th>106</th>\n",
       "      <td>101340.00</td>\n",
       "      <td>ChoicePass</td>\n",
       "      <td>enterprise</td>\n",
       "      <td>acquired</td>\n",
       "      <td>2011-07-01</td>\n",
       "      <td>NaT</td>\n",
       "      <td>choicepass.com</td>\n",
       "      <td>choicepass</td>\n",
       "      <td>USA</td>\n",
       "      <td>0.00</td>\n",
       "      <td>...</td>\n",
       "      <td>0.00</td>\n",
       "      <td>0.00</td>\n",
       "      <td>1.00</td>\n",
       "      <td>1.00</td>\n",
       "      <td>7272.00</td>\n",
       "      <td>1972.00</td>\n",
       "      <td>101340.00</td>\n",
       "      <td>NaN</td>\n",
       "      <td>0.00</td>\n",
       "      <td>2012-06-18</td>\n",
       "    </tr>\n",
       "    <tr>\n",
       "      <th>107</th>\n",
       "      <td>10137.00</td>\n",
       "      <td>Producteev</td>\n",
       "      <td>software</td>\n",
       "      <td>acquired</td>\n",
       "      <td>2008-07-08</td>\n",
       "      <td>NaT</td>\n",
       "      <td>producteev.com</td>\n",
       "      <td>producteev</td>\n",
       "      <td>USA</td>\n",
       "      <td>0.00</td>\n",
       "      <td>...</td>\n",
       "      <td>0.00</td>\n",
       "      <td>9.00</td>\n",
       "      <td>0.00</td>\n",
       "      <td>1.00</td>\n",
       "      <td>8254.00</td>\n",
       "      <td>757.00</td>\n",
       "      <td>10137.00</td>\n",
       "      <td>cash_and_stock</td>\n",
       "      <td>0.00</td>\n",
       "      <td>2012-11-05</td>\n",
       "    </tr>\n",
       "    <tr>\n",
       "      <th>110</th>\n",
       "      <td>10139.00</td>\n",
       "      <td>TradeCard</td>\n",
       "      <td>enterprise</td>\n",
       "      <td>acquired</td>\n",
       "      <td>1999-01-01</td>\n",
       "      <td>NaT</td>\n",
       "      <td>tradecard.com</td>\n",
       "      <td>TradeCard</td>\n",
       "      <td>USA</td>\n",
       "      <td>0.00</td>\n",
       "      <td>...</td>\n",
       "      <td>0.00</td>\n",
       "      <td>1.00</td>\n",
       "      <td>0.00</td>\n",
       "      <td>1.00</td>\n",
       "      <td>9326.00</td>\n",
       "      <td>44008.00</td>\n",
       "      <td>10139.00</td>\n",
       "      <td>NaN</td>\n",
       "      <td>0.00</td>\n",
       "      <td>2013-04-01</td>\n",
       "    </tr>\n",
       "  </tbody>\n",
       "</table>\n",
       "<p>5 rows × 27 columns</p>\n",
       "</div>"
      ],
      "text/plain": [
       "     company_id        name category_code    status founded_at closed_at  \\\n",
       "38     10054.00     Jumptap        mobile  acquired 2005-01-01       NaT   \n",
       "99    101312.00    SideTour           web  acquired 2011-06-01       NaT   \n",
       "106   101340.00  ChoicePass    enterprise  acquired 2011-07-01       NaT   \n",
       "107    10137.00  Producteev      software  acquired 2008-07-08       NaT   \n",
       "110    10139.00   TradeCard    enterprise  acquired 1999-01-01       NaT   \n",
       "\n",
       "             domain network_username country_code  investment_rounds  ...  \\\n",
       "38      jumptap.com          jumptap          USA               0.00  ...   \n",
       "99     sidetour.com         sidetour          USA               0.00  ...   \n",
       "106  choicepass.com       choicepass          USA               0.00  ...   \n",
       "107  producteev.com       producteev          USA               0.00  ...   \n",
       "110   tradecard.com        TradeCard          USA               0.00  ...   \n",
       "\n",
       "     pre_money_valuation  participants  is_first_round  is_last_round      id  \\\n",
       "38                  0.00          6.00            0.00           0.00 9288.00   \n",
       "99                  0.00          3.00            0.00           0.00 9653.00   \n",
       "106                 0.00          0.00            1.00           1.00 7272.00   \n",
       "107                 0.00          9.00            0.00           1.00 8254.00   \n",
       "110                 0.00          1.00            0.00           1.00 9326.00   \n",
       "\n",
       "    acquiring_company_id  acquired_company_id       term_code  price_amount  \\\n",
       "38              23283.00             10054.00  cash_and_stock          0.00   \n",
       "99              11391.00            101312.00             NaN          0.00   \n",
       "106              1972.00            101340.00             NaN          0.00   \n",
       "107               757.00             10137.00  cash_and_stock          0.00   \n",
       "110             44008.00             10139.00             NaN          0.00   \n",
       "\n",
       "     acquired_at  \n",
       "38    2013-08-13  \n",
       "99    2013-09-18  \n",
       "106   2012-06-18  \n",
       "107   2012-11-05  \n",
       "110   2013-04-01  \n",
       "\n",
       "[5 rows x 27 columns]"
      ]
     },
     "execution_count": 115,
     "metadata": {},
     "output_type": "execute_result"
    }
   ],
   "source": [
    "zero_sales.head()"
   ]
  },
  {
   "cell_type": "code",
   "execution_count": 116,
   "metadata": {},
   "outputs": [
    {
     "data": {
      "image/png": "[encoded data removed]",
      "text/plain": [
       "<Figure size 800x400 with 1 Axes>"
      ]
     },
     "metadata": {},
     "output_type": "display_data"
    }
   ],
   "source": [
    "plt.figure(figsize=(8,4))\n",
    "sns.boxplot(x=zero_sales['funding_total'])\n",
    "plt.xlabel('Общий объем финансирования')\n",
    "plt.title('Суммы финансирования компаний')\n",
    "plt.show()"
   ]
  },
  {
   "cell_type": "markdown",
   "metadata": {},
   "source": [
    "Теперь рассмотрим график без выбросов."
   ]
  },
  {
   "cell_type": "code",
   "execution_count": 117,
   "metadata": {},
   "outputs": [
    {
     "data": {
      "image/png": "[encoded data removed]",
      "text/plain": [
       "<Figure size 800x400 with 1 Axes>"
      ]
     },
     "metadata": {},
     "output_type": "display_data"
    }
   ],
   "source": [
    "plt.figure(figsize=(8,4))\n",
    "sns.boxplot(x=zero_sales['funding_total'], showfliers=False)\n",
    "plt.xlabel('Общий объем финансирования')\n",
    "plt.title('Суммы финансирования компаний')\n",
    "plt.show()"
   ]
  },
  {
   "cell_type": "markdown",
   "metadata": {},
   "source": [
    "Судя по графику, верхняя граница \"усов\" находится в значении 35 миллионов."
   ]
  },
  {
   "cell_type": "code",
   "execution_count": 118,
   "metadata": {},
   "outputs": [
    {
     "name": "stdout",
     "output_type": "stream",
     "text": [
      "Нижняя граница или 25 перцентиль: 2000000.0\n",
      "Медиана или 50 перцентиль: 6000000.0\n",
      "Верзняя граница или 75 перцентиль: 15500000.0\n",
      "Нижний ус: -18250000.0\n",
      "Верхний ус: 35750000.0\n"
     ]
    }
   ],
   "source": [
    "Q1 = np.percentile(zero_sales['funding_total'], 25)\n",
    "Q2 = np.percentile(zero_sales['funding_total'], 50)\n",
    "Q3 = np.percentile(zero_sales['funding_total'], 75)\n",
    "IQR = Q3 - Q1\n",
    "lower = Q1 - 1.5 * IQR\n",
    "upper = Q3 + 1.5 * IQR\n",
    "\n",
    "print(f\"Нижняя граница или 25 перцентиль: {Q1}\")\n",
    "print(f\"Медиана или 50 перцентиль: {Q2}\")\n",
    "print(f\"Верзняя граница или 75 перцентиль: {Q3}\")\n",
    "print(f\"Нижний ус: {lower}\")\n",
    "print(f\"Верхний ус: {upper}\")"
   ]
  },
  {
   "cell_type": "code",
   "execution_count": 119,
   "metadata": {},
   "outputs": [
    {
     "data": {
      "text/html": [
       "<style type=\"text/css\">\n",
       "#T_3f871_row0_col0, #T_3f871_row1_col0, #T_3f871_row3_col0, #T_3f871_row4_col0, #T_3f871_row5_col0, #T_3f871_row6_col0, #T_3f871_row7_col0, #T_3f871_row8_col0, #T_3f871_row9_col0, #T_3f871_row10_col0, #T_3f871_row11_col0, #T_3f871_row12_col0 {\n",
       "  background-color: #3b4cc0;\n",
       "  color: #f1f1f1;\n",
       "}\n",
       "#T_3f871_row2_col0 {\n",
       "  background-color: #4257c9;\n",
       "  color: #f1f1f1;\n",
       "}\n",
       "#T_3f871_row13_col0 {\n",
       "  background-color: #3c4ec2;\n",
       "  color: #f1f1f1;\n",
       "}\n",
       "#T_3f871_row14_col0, #T_3f871_row15_col0 {\n",
       "  background-color: #b40426;\n",
       "  color: #f1f1f1;\n",
       "}\n",
       "</style>\n",
       "<table id=\"T_3f871\">\n",
       "  <thead>\n",
       "    <tr>\n",
       "      <th class=\"blank level0\" >&nbsp;</th>\n",
       "      <th id=\"T_3f871_level0_col0\" class=\"col_heading level0 col0\" >funding_total</th>\n",
       "    </tr>\n",
       "  </thead>\n",
       "  <tbody>\n",
       "    <tr>\n",
       "      <th id=\"T_3f871_level0_row0\" class=\"row_heading level0 row0\" >count</th>\n",
       "      <td id=\"T_3f871_row0_col0\" class=\"data row0 col0\" >1618.000000</td>\n",
       "    </tr>\n",
       "    <tr>\n",
       "      <th id=\"T_3f871_level0_row1\" class=\"row_heading level0 row1\" >mean</th>\n",
       "      <td id=\"T_3f871_row1_col0\" class=\"data row1 col0\" >18152964.000000</td>\n",
       "    </tr>\n",
       "    <tr>\n",
       "      <th id=\"T_3f871_level0_row2\" class=\"row_heading level0 row2\" >std</th>\n",
       "      <td id=\"T_3f871_row2_col0\" class=\"data row2 col0\" >144503024.000000</td>\n",
       "    </tr>\n",
       "    <tr>\n",
       "      <th id=\"T_3f871_level0_row3\" class=\"row_heading level0 row3\" >min</th>\n",
       "      <td id=\"T_3f871_row3_col0\" class=\"data row3 col0\" >3750.000000</td>\n",
       "    </tr>\n",
       "    <tr>\n",
       "      <th id=\"T_3f871_level0_row4\" class=\"row_heading level0 row4\" >0%</th>\n",
       "      <td id=\"T_3f871_row4_col0\" class=\"data row4 col0\" >3750.000000</td>\n",
       "    </tr>\n",
       "    <tr>\n",
       "      <th id=\"T_3f871_level0_row5\" class=\"row_heading level0 row5\" >10%</th>\n",
       "      <td id=\"T_3f871_row5_col0\" class=\"data row5 col0\" >513588.500000</td>\n",
       "    </tr>\n",
       "    <tr>\n",
       "      <th id=\"T_3f871_level0_row6\" class=\"row_heading level0 row6\" >20%</th>\n",
       "      <td id=\"T_3f871_row6_col0\" class=\"data row6 col0\" >1400000.000000</td>\n",
       "    </tr>\n",
       "    <tr>\n",
       "      <th id=\"T_3f871_level0_row7\" class=\"row_heading level0 row7\" >30%</th>\n",
       "      <td id=\"T_3f871_row7_col0\" class=\"data row7 col0\" >2600000.000000</td>\n",
       "    </tr>\n",
       "    <tr>\n",
       "      <th id=\"T_3f871_level0_row8\" class=\"row_heading level0 row8\" >40%</th>\n",
       "      <td id=\"T_3f871_row8_col0\" class=\"data row8 col0\" >4000000.000000</td>\n",
       "    </tr>\n",
       "    <tr>\n",
       "      <th id=\"T_3f871_level0_row9\" class=\"row_heading level0 row9\" >50%</th>\n",
       "      <td id=\"T_3f871_row9_col0\" class=\"data row9 col0\" >6000000.000000</td>\n",
       "    </tr>\n",
       "    <tr>\n",
       "      <th id=\"T_3f871_level0_row10\" class=\"row_heading level0 row10\" >60%</th>\n",
       "      <td id=\"T_3f871_row10_col0\" class=\"data row10 col0\" >9400000.000000</td>\n",
       "    </tr>\n",
       "    <tr>\n",
       "      <th id=\"T_3f871_level0_row11\" class=\"row_heading level0 row11\" >70%</th>\n",
       "      <td id=\"T_3f871_row11_col0\" class=\"data row11 col0\" >13000000.000000</td>\n",
       "    </tr>\n",
       "    <tr>\n",
       "      <th id=\"T_3f871_level0_row12\" class=\"row_heading level0 row12\" >80%</th>\n",
       "      <td id=\"T_3f871_row12_col0\" class=\"data row12 col0\" >20000000.000000</td>\n",
       "    </tr>\n",
       "    <tr>\n",
       "      <th id=\"T_3f871_level0_row13\" class=\"row_heading level0 row13\" >90%</th>\n",
       "      <td id=\"T_3f871_row13_col0\" class=\"data row13 col0\" >33015810.000000</td>\n",
       "    </tr>\n",
       "    <tr>\n",
       "      <th id=\"T_3f871_level0_row14\" class=\"row_heading level0 row14\" >100%</th>\n",
       "      <td id=\"T_3f871_row14_col0\" class=\"data row14 col0\" >5699999744.000000</td>\n",
       "    </tr>\n",
       "    <tr>\n",
       "      <th id=\"T_3f871_level0_row15\" class=\"row_heading level0 row15\" >max</th>\n",
       "      <td id=\"T_3f871_row15_col0\" class=\"data row15 col0\" >5699999744.000000</td>\n",
       "    </tr>\n",
       "  </tbody>\n",
       "</table>\n"
      ],
      "text/plain": [
       "<pandas.io.formats.style.Styler at 0x1efaef7fd50>"
      ]
     },
     "execution_count": 119,
     "metadata": {},
     "output_type": "execute_result"
    }
   ],
   "source": [
    "percentiles = [i / 10 for i in range(11)]\n",
    "zero_sales['funding_total'].describe(percentiles=percentiles).to_frame().style.background_gradient(cmap='coolwarm')"
   ]
  },
  {
   "cell_type": "code",
   "execution_count": 120,
   "metadata": {},
   "outputs": [
    {
     "data": {
      "text/html": [
       "<style type=\"text/css\">\n",
       "#T_6dd7f_row0_col0, #T_6dd7f_row1_col0, #T_6dd7f_row3_col0, #T_6dd7f_row4_col0 {\n",
       "  background-color: #3b4cc0;\n",
       "  color: #f1f1f1;\n",
       "}\n",
       "#T_6dd7f_row2_col0 {\n",
       "  background-color: #4257c9;\n",
       "  color: #f1f1f1;\n",
       "}\n",
       "#T_6dd7f_row5_col0 {\n",
       "  background-color: #3c4ec2;\n",
       "  color: #f1f1f1;\n",
       "}\n",
       "#T_6dd7f_row6_col0 {\n",
       "  background-color: #b40426;\n",
       "  color: #f1f1f1;\n",
       "}\n",
       "</style>\n",
       "<table id=\"T_6dd7f\">\n",
       "  <thead>\n",
       "    <tr>\n",
       "      <th class=\"blank level0\" >&nbsp;</th>\n",
       "      <th id=\"T_6dd7f_level0_col0\" class=\"col_heading level0 col0\" >funding_total</th>\n",
       "    </tr>\n",
       "  </thead>\n",
       "  <tbody>\n",
       "    <tr>\n",
       "      <th id=\"T_6dd7f_level0_row0\" class=\"row_heading level0 row0\" >count</th>\n",
       "      <td id=\"T_6dd7f_row0_col0\" class=\"data row0 col0\" >1618.000000</td>\n",
       "    </tr>\n",
       "    <tr>\n",
       "      <th id=\"T_6dd7f_level0_row1\" class=\"row_heading level0 row1\" >mean</th>\n",
       "      <td id=\"T_6dd7f_row1_col0\" class=\"data row1 col0\" >18152964.000000</td>\n",
       "    </tr>\n",
       "    <tr>\n",
       "      <th id=\"T_6dd7f_level0_row2\" class=\"row_heading level0 row2\" >std</th>\n",
       "      <td id=\"T_6dd7f_row2_col0\" class=\"data row2 col0\" >144503024.000000</td>\n",
       "    </tr>\n",
       "    <tr>\n",
       "      <th id=\"T_6dd7f_level0_row3\" class=\"row_heading level0 row3\" >min</th>\n",
       "      <td id=\"T_6dd7f_row3_col0\" class=\"data row3 col0\" >3750.000000</td>\n",
       "    </tr>\n",
       "    <tr>\n",
       "      <th id=\"T_6dd7f_level0_row4\" class=\"row_heading level0 row4\" >50%</th>\n",
       "      <td id=\"T_6dd7f_row4_col0\" class=\"data row4 col0\" >6000000.000000</td>\n",
       "    </tr>\n",
       "    <tr>\n",
       "      <th id=\"T_6dd7f_level0_row5\" class=\"row_heading level0 row5\" >91%</th>\n",
       "      <td id=\"T_6dd7f_row5_col0\" class=\"data row5 col0\" >35894000.000000</td>\n",
       "    </tr>\n",
       "    <tr>\n",
       "      <th id=\"T_6dd7f_level0_row6\" class=\"row_heading level0 row6\" >max</th>\n",
       "      <td id=\"T_6dd7f_row6_col0\" class=\"data row6 col0\" >5699999744.000000</td>\n",
       "    </tr>\n",
       "  </tbody>\n",
       "</table>\n"
      ],
      "text/plain": [
       "<pandas.io.formats.style.Styler at 0x1efb1f2ea50>"
      ]
     },
     "execution_count": 120,
     "metadata": {},
     "output_type": "execute_result"
    }
   ],
   "source": [
    "zero_sales['funding_total'].describe(percentiles=[.91]).to_frame().style.background_gradient(cmap='coolwarm')"
   ]
  },
  {
   "cell_type": "markdown",
   "metadata": {},
   "source": [
    "Расчёты это подтверждают, верхняя граница \"усов\" находится на значении 35.75 млн.  \n",
    "Эта граница соответствует примерно 91 перцентилю.\n",
    "Нижняя граница при расчётах уходит в минус, поэтому вместо неё будет приниматься 0."
   ]
  },
  {
   "cell_type": "code",
   "execution_count": 121,
   "metadata": {},
   "outputs": [
    {
     "data": {
      "text/html": [
       "<style type=\"text/css\">\n",
       "#T_49e05_row0_col0 {\n",
       "  background-color: #b40426;\n",
       "  color: #f1f1f1;\n",
       "}\n",
       "#T_49e05_row1_col0, #T_49e05_row2_col0, #T_49e05_row3_col0, #T_49e05_row4_col0 {\n",
       "  background-color: #3b4cc0;\n",
       "  color: #f1f1f1;\n",
       "}\n",
       "</style>\n",
       "<table id=\"T_49e05\">\n",
       "  <thead>\n",
       "    <tr>\n",
       "      <th class=\"blank level0\" >&nbsp;</th>\n",
       "      <th id=\"T_49e05_level0_col0\" class=\"col_heading level0 col0\" >company_id</th>\n",
       "    </tr>\n",
       "    <tr>\n",
       "      <th class=\"index_name level0\" >name</th>\n",
       "      <th class=\"blank col0\" >&nbsp;</th>\n",
       "    </tr>\n",
       "  </thead>\n",
       "  <tbody>\n",
       "    <tr>\n",
       "      <th id=\"T_49e05_level0_row0\" class=\"row_heading level0 row0\" >Forrst</th>\n",
       "      <td id=\"T_49e05_row0_col0\" class=\"data row0 col0\" >3</td>\n",
       "    </tr>\n",
       "    <tr>\n",
       "      <th id=\"T_49e05_level0_row1\" class=\"row_heading level0 row1\" >Photobucket</th>\n",
       "      <td id=\"T_49e05_row1_col0\" class=\"data row1 col0\" >2</td>\n",
       "    </tr>\n",
       "    <tr>\n",
       "      <th id=\"T_49e05_level0_row2\" class=\"row_heading level0 row2\" >Navman Wireless OEM Solutions</th>\n",
       "      <td id=\"T_49e05_row2_col0\" class=\"data row2 col0\" >2</td>\n",
       "    </tr>\n",
       "    <tr>\n",
       "      <th id=\"T_49e05_level0_row3\" class=\"row_heading level0 row3\" >Kanbox</th>\n",
       "      <td id=\"T_49e05_row3_col0\" class=\"data row3 col0\" >2</td>\n",
       "    </tr>\n",
       "    <tr>\n",
       "      <th id=\"T_49e05_level0_row4\" class=\"row_heading level0 row4\" >GamerDNA</th>\n",
       "      <td id=\"T_49e05_row4_col0\" class=\"data row4 col0\" >2</td>\n",
       "    </tr>\n",
       "  </tbody>\n",
       "</table>\n"
      ],
      "text/plain": [
       "<pandas.io.formats.style.Styler at 0x1efb31e7f90>"
      ]
     },
     "execution_count": 121,
     "metadata": {},
     "output_type": "execute_result"
    }
   ],
   "source": [
    "zero_sales.groupby('name')['company_id'].count().sort_values(ascending=False).head().to_frame().style.background_gradient(cmap='coolwarm')"
   ]
  },
  {
   "cell_type": "code",
   "execution_count": 122,
   "metadata": {},
   "outputs": [
    {
     "data": {
      "text/html": [
       "<style type=\"text/css\">\n",
       "#T_e63cb_row0_col0 {\n",
       "  background-color: #b40426;\n",
       "  color: #f1f1f1;\n",
       "}\n",
       "#T_e63cb_row1_col0 {\n",
       "  background-color: #d9dce1;\n",
       "  color: #000000;\n",
       "}\n",
       "#T_e63cb_row2_col0 {\n",
       "  background-color: #779af7;\n",
       "  color: #f1f1f1;\n",
       "}\n",
       "#T_e63cb_row3_col0 {\n",
       "  background-color: #6788ee;\n",
       "  color: #f1f1f1;\n",
       "}\n",
       "#T_e63cb_row4_col0 {\n",
       "  background-color: #3b4cc0;\n",
       "  color: #f1f1f1;\n",
       "}\n",
       "</style>\n",
       "<table id=\"T_e63cb\">\n",
       "  <thead>\n",
       "    <tr>\n",
       "      <th class=\"blank level0\" >&nbsp;</th>\n",
       "      <th id=\"T_e63cb_level0_col0\" class=\"col_heading level0 col0\" >proportion</th>\n",
       "    </tr>\n",
       "    <tr>\n",
       "      <th class=\"index_name level0\" >category_code</th>\n",
       "      <th class=\"blank col0\" >&nbsp;</th>\n",
       "    </tr>\n",
       "  </thead>\n",
       "  <tbody>\n",
       "    <tr>\n",
       "      <th id=\"T_e63cb_level0_row0\" class=\"row_heading level0 row0\" >software</th>\n",
       "      <td id=\"T_e63cb_row0_col0\" class=\"data row0 col0\" >0.23</td>\n",
       "    </tr>\n",
       "    <tr>\n",
       "      <th id=\"T_e63cb_level0_row1\" class=\"row_heading level0 row1\" >web</th>\n",
       "      <td id=\"T_e63cb_row1_col0\" class=\"data row1 col0\" >0.14</td>\n",
       "    </tr>\n",
       "    <tr>\n",
       "      <th id=\"T_e63cb_level0_row2\" class=\"row_heading level0 row2\" >enterprise</th>\n",
       "      <td id=\"T_e63cb_row2_col0\" class=\"data row2 col0\" >0.08</td>\n",
       "    </tr>\n",
       "    <tr>\n",
       "      <th id=\"T_e63cb_level0_row3\" class=\"row_heading level0 row3\" >mobile</th>\n",
       "      <td id=\"T_e63cb_row3_col0\" class=\"data row3 col0\" >0.08</td>\n",
       "    </tr>\n",
       "    <tr>\n",
       "      <th id=\"T_e63cb_level0_row4\" class=\"row_heading level0 row4\" >advertising</th>\n",
       "      <td id=\"T_e63cb_row4_col0\" class=\"data row4 col0\" >0.05</td>\n",
       "    </tr>\n",
       "  </tbody>\n",
       "</table>\n"
      ],
      "text/plain": [
       "<pandas.io.formats.style.Styler at 0x1efb31ba510>"
      ]
     },
     "execution_count": 122,
     "metadata": {},
     "output_type": "execute_result"
    }
   ],
   "source": [
    "zero_sales['category_code'].value_counts(normalize=True).head().to_frame().style.background_gradient(cmap='coolwarm').format(\"{:.2f}\")"
   ]
  },
  {
   "cell_type": "code",
   "execution_count": 123,
   "metadata": {},
   "outputs": [
    {
     "data": {
      "text/html": [
       "<style type=\"text/css\">\n",
       "#T_57ecf_row0_col0 {\n",
       "  background-color: #b40426;\n",
       "  color: #f1f1f1;\n",
       "}\n",
       "#T_57ecf_row1_col0 {\n",
       "  background-color: #4358cb;\n",
       "  color: #f1f1f1;\n",
       "}\n",
       "#T_57ecf_row2_col0 {\n",
       "  background-color: #3f53c6;\n",
       "  color: #f1f1f1;\n",
       "}\n",
       "#T_57ecf_row3_col0, #T_57ecf_row4_col0 {\n",
       "  background-color: #3b4cc0;\n",
       "  color: #f1f1f1;\n",
       "}\n",
       "</style>\n",
       "<table id=\"T_57ecf\">\n",
       "  <thead>\n",
       "    <tr>\n",
       "      <th class=\"blank level0\" >&nbsp;</th>\n",
       "      <th id=\"T_57ecf_level0_col0\" class=\"col_heading level0 col0\" >proportion</th>\n",
       "    </tr>\n",
       "    <tr>\n",
       "      <th class=\"index_name level0\" >country_code</th>\n",
       "      <th class=\"blank col0\" >&nbsp;</th>\n",
       "    </tr>\n",
       "  </thead>\n",
       "  <tbody>\n",
       "    <tr>\n",
       "      <th id=\"T_57ecf_level0_row0\" class=\"row_heading level0 row0\" >USA</th>\n",
       "      <td id=\"T_57ecf_row0_col0\" class=\"data row0 col0\" >0.80</td>\n",
       "    </tr>\n",
       "    <tr>\n",
       "      <th id=\"T_57ecf_level0_row1\" class=\"row_heading level0 row1\" >GBR</th>\n",
       "      <td id=\"T_57ecf_row1_col0\" class=\"data row1 col0\" >0.04</td>\n",
       "    </tr>\n",
       "    <tr>\n",
       "      <th id=\"T_57ecf_level0_row2\" class=\"row_heading level0 row2\" >CAN</th>\n",
       "      <td id=\"T_57ecf_row2_col0\" class=\"data row2 col0\" >0.03</td>\n",
       "    </tr>\n",
       "    <tr>\n",
       "      <th id=\"T_57ecf_level0_row3\" class=\"row_heading level0 row3\" >DEU</th>\n",
       "      <td id=\"T_57ecf_row3_col0\" class=\"data row3 col0\" >0.02</td>\n",
       "    </tr>\n",
       "    <tr>\n",
       "      <th id=\"T_57ecf_level0_row4\" class=\"row_heading level0 row4\" >ISR</th>\n",
       "      <td id=\"T_57ecf_row4_col0\" class=\"data row4 col0\" >0.02</td>\n",
       "    </tr>\n",
       "  </tbody>\n",
       "</table>\n"
      ],
      "text/plain": [
       "<pandas.io.formats.style.Styler at 0x1efb31be550>"
      ]
     },
     "execution_count": 123,
     "metadata": {},
     "output_type": "execute_result"
    }
   ],
   "source": [
    "zero_sales['country_code'].value_counts(normalize=True).head().to_frame().style.background_gradient(cmap='coolwarm').format(\"{:.2f}\")"
   ]
  },
  {
   "cell_type": "code",
   "execution_count": 124,
   "metadata": {},
   "outputs": [
    {
     "data": {
      "text/html": [
       "<div>\n",
       "<style scoped>\n",
       "    .dataframe tbody tr th:only-of-type {\n",
       "        vertical-align: middle;\n",
       "    }\n",
       "\n",
       "    .dataframe tbody tr th {\n",
       "        vertical-align: top;\n",
       "    }\n",
       "\n",
       "    .dataframe thead th {\n",
       "        text-align: right;\n",
       "    }\n",
       "</style>\n",
       "<table border=\"1\" class=\"dataframe\">\n",
       "  <thead>\n",
       "    <tr style=\"text-align: right;\">\n",
       "      <th></th>\n",
       "      <th>acquired_at</th>\n",
       "      <th>proportion</th>\n",
       "    </tr>\n",
       "  </thead>\n",
       "  <tbody>\n",
       "    <tr>\n",
       "      <th>0</th>\n",
       "      <td>2012</td>\n",
       "      <td>0.21</td>\n",
       "    </tr>\n",
       "    <tr>\n",
       "      <th>1</th>\n",
       "      <td>2011</td>\n",
       "      <td>0.20</td>\n",
       "    </tr>\n",
       "    <tr>\n",
       "      <th>2</th>\n",
       "      <td>2013</td>\n",
       "      <td>0.18</td>\n",
       "    </tr>\n",
       "    <tr>\n",
       "      <th>3</th>\n",
       "      <td>2010</td>\n",
       "      <td>0.17</td>\n",
       "    </tr>\n",
       "    <tr>\n",
       "      <th>4</th>\n",
       "      <td>2009</td>\n",
       "      <td>0.11</td>\n",
       "    </tr>\n",
       "    <tr>\n",
       "      <th>5</th>\n",
       "      <td>2008</td>\n",
       "      <td>0.07</td>\n",
       "    </tr>\n",
       "    <tr>\n",
       "      <th>6</th>\n",
       "      <td>2007</td>\n",
       "      <td>0.04</td>\n",
       "    </tr>\n",
       "    <tr>\n",
       "      <th>7</th>\n",
       "      <td>2006</td>\n",
       "      <td>0.02</td>\n",
       "    </tr>\n",
       "    <tr>\n",
       "      <th>8</th>\n",
       "      <td>2005</td>\n",
       "      <td>0.00</td>\n",
       "    </tr>\n",
       "    <tr>\n",
       "      <th>9</th>\n",
       "      <td>2004</td>\n",
       "      <td>0.00</td>\n",
       "    </tr>\n",
       "    <tr>\n",
       "      <th>10</th>\n",
       "      <td>1998</td>\n",
       "      <td>0.00</td>\n",
       "    </tr>\n",
       "    <tr>\n",
       "      <th>11</th>\n",
       "      <td>2002</td>\n",
       "      <td>0.00</td>\n",
       "    </tr>\n",
       "    <tr>\n",
       "      <th>12</th>\n",
       "      <td>2001</td>\n",
       "      <td>0.00</td>\n",
       "    </tr>\n",
       "    <tr>\n",
       "      <th>13</th>\n",
       "      <td>2000</td>\n",
       "      <td>0.00</td>\n",
       "    </tr>\n",
       "    <tr>\n",
       "      <th>14</th>\n",
       "      <td>1997</td>\n",
       "      <td>0.00</td>\n",
       "    </tr>\n",
       "  </tbody>\n",
       "</table>\n",
       "</div>"
      ],
      "text/plain": [
       "    acquired_at  proportion\n",
       "0          2012        0.21\n",
       "1          2011        0.20\n",
       "2          2013        0.18\n",
       "3          2010        0.17\n",
       "4          2009        0.11\n",
       "5          2008        0.07\n",
       "6          2007        0.04\n",
       "7          2006        0.02\n",
       "8          2005        0.00\n",
       "9          2004        0.00\n",
       "10         1998        0.00\n",
       "11         2002        0.00\n",
       "12         2001        0.00\n",
       "13         2000        0.00\n",
       "14         1997        0.00"
      ]
     },
     "execution_count": 124,
     "metadata": {},
     "output_type": "execute_result"
    }
   ],
   "source": [
    "data = zero_sales['acquired_at'].dt.year.value_counts(normalize=True).reset_index()\n",
    "data.columns = ['acquired_at', 'proportion']\n",
    "data['acquired_at'] = data['acquired_at'].astype('int')\n",
    "data.sort_values(by='acquired_at')\n",
    "data"
   ]
  },
  {
   "cell_type": "code",
   "execution_count": 125,
   "metadata": {},
   "outputs": [
    {
     "data": {
      "image/png": "[encoded data removed]",
      "text/plain": [
       "<Figure size 1400x800 with 1 Axes>"
      ]
     },
     "metadata": {},
     "output_type": "display_data"
    }
   ],
   "source": [
    "plt.figure(figsize=(14,8))\n",
    "sns.lineplot(data=data, x='acquired_at', y='proportion', linewidth=2, color='r')\n",
    "plt.grid(axis='x', alpha=0.2)\n",
    "plt.xticks(data['acquired_at'], rotation=45)\n",
    "plt.title('Доля компаний, купленных бесплатно')\n",
    "plt.xlabel('Год')\n",
    "plt.ylabel('Доля компаний')\n",
    "plt.show()"
   ]
  },
  {
   "cell_type": "markdown",
   "metadata": {},
   "source": [
    "Изучив компании, которые были куплены за ноль или за один доллар, при этом имеющие финансирование, мы увидели следующее:\n",
    "- Основные категории занимает IT сфера, такие как software - 23%, web - 14%, enterprise и mobile - 8%.\n",
    "- 83% всех сделок произошли в США.\n",
    "- Начиная с 2006 года число подобных сделок начало расти.\n",
    "- Пик пришелся на 2011-2012 годы.\n",
    "\n",
    "Возможные причины - это расширение крупных IT гигантов, которые начали поглощать мелкие стартапы, а также кризис 2008 года, когда мелкие компании не способны были выжить и им приходилось идти на слияние компаний вместо банкротства."
   ]
  },
  {
   "cell_type": "code",
   "execution_count": 126,
   "metadata": {},
   "outputs": [
    {
     "data": {
      "text/html": [
       "<style type=\"text/css\">\n",
       "#T_e5b01_row0_col0, #T_e5b01_row1_col0, #T_e5b01_row3_col0, #T_e5b01_row4_col0, #T_e5b01_row5_col0, #T_e5b01_row6_col0 {\n",
       "  background-color: #3b4cc0;\n",
       "  color: #f1f1f1;\n",
       "}\n",
       "#T_e5b01_row2_col0 {\n",
       "  background-color: #3f53c6;\n",
       "  color: #f1f1f1;\n",
       "}\n",
       "#T_e5b01_row7_col0 {\n",
       "  background-color: #b40426;\n",
       "  color: #f1f1f1;\n",
       "}\n",
       "</style>\n",
       "<table id=\"T_e5b01\">\n",
       "  <thead>\n",
       "    <tr>\n",
       "      <th class=\"blank level0\" >&nbsp;</th>\n",
       "      <th id=\"T_e5b01_level0_col0\" class=\"col_heading level0 col0\" >funding_total</th>\n",
       "    </tr>\n",
       "  </thead>\n",
       "  <tbody>\n",
       "    <tr>\n",
       "      <th id=\"T_e5b01_level0_row0\" class=\"row_heading level0 row0\" >count</th>\n",
       "      <td id=\"T_e5b01_row0_col0\" class=\"data row0 col0\" >61855.000000</td>\n",
       "    </tr>\n",
       "    <tr>\n",
       "      <th id=\"T_e5b01_level0_row1\" class=\"row_heading level0 row1\" >mean</th>\n",
       "      <td id=\"T_e5b01_row1_col0\" class=\"data row1 col0\" >21134482.000000</td>\n",
       "    </tr>\n",
       "    <tr>\n",
       "      <th id=\"T_e5b01_level0_row2\" class=\"row_heading level0 row2\" >std</th>\n",
       "      <td id=\"T_e5b01_row2_col0\" class=\"data row2 col0\" >90028936.000000</td>\n",
       "    </tr>\n",
       "    <tr>\n",
       "      <th id=\"T_e5b01_level0_row3\" class=\"row_heading level0 row3\" >min</th>\n",
       "      <td id=\"T_e5b01_row3_col0\" class=\"data row3 col0\" >0.000000</td>\n",
       "    </tr>\n",
       "    <tr>\n",
       "      <th id=\"T_e5b01_level0_row4\" class=\"row_heading level0 row4\" >25%</th>\n",
       "      <td id=\"T_e5b01_row4_col0\" class=\"data row4 col0\" >59700.000000</td>\n",
       "    </tr>\n",
       "    <tr>\n",
       "      <th id=\"T_e5b01_level0_row5\" class=\"row_heading level0 row5\" >50%</th>\n",
       "      <td id=\"T_e5b01_row5_col0\" class=\"data row5 col0\" >2477000.000000</td>\n",
       "    </tr>\n",
       "    <tr>\n",
       "      <th id=\"T_e5b01_level0_row6\" class=\"row_heading level0 row6\" >75%</th>\n",
       "      <td id=\"T_e5b01_row6_col0\" class=\"data row6 col0\" >15950000.000000</td>\n",
       "    </tr>\n",
       "    <tr>\n",
       "      <th id=\"T_e5b01_level0_row7\" class=\"row_heading level0 row7\" >max</th>\n",
       "      <td id=\"T_e5b01_row7_col0\" class=\"data row7 col0\" >5699999744.000000</td>\n",
       "    </tr>\n",
       "  </tbody>\n",
       "</table>\n"
      ],
      "text/plain": [
       "<pandas.io.formats.style.Styler at 0x1efb315d2d0>"
      ]
     },
     "execution_count": 126,
     "metadata": {},
     "output_type": "execute_result"
    }
   ],
   "source": [
    "df['funding_total'].describe().to_frame().style.background_gradient(cmap='coolwarm')"
   ]
  },
  {
   "cell_type": "markdown",
   "metadata": {},
   "source": [
    "Выше мы рассмотрели выбросы, границы и процентили по столбцу **funding_total** и проанализировали покупки за 0 и за 1 доллар.  \n",
    "Учитывая это, можем ответить на вопрос заказчика о замене нижней и верхней границы выбросов на процентили:  \n",
    "- Как мы уже отметили выше, такие высокие значения финансирования **не являются** выбросами, ведь речь идёт о крупных компаниях.  \n",
    "- Стандартный метод IQR получает нижнюю границу, которая будет отрицательной, а значит метод не совсем подходит для этих данных.  \n",
    "- Если заменить выбросы в данных процентилями, мы потеряем большое количество крупных компаний, либо информацию о слиянии мелких компаний с крупными.\n",
    "\n",
    "В связи с этим, замена нижней и верхней границы процентилями **не рекомендуется**, так как это исказит данные и дальнейший анализ будет неточным."
   ]
  },
  {
   "cell_type": "markdown",
   "metadata": {
    "id": "mEiWpROjrJg2"
   },
   "source": [
    "\n",
    "### 3.4. Цены стартапов по категориям\n",
    "\n",
    "Интерес представляют категории стартапов с самыми высокими ценами и наибольшим разбросом — они потенциально привлекательны для инвесторов, готовых к риску ради высокой прибыли."
   ]
  },
  {
   "cell_type": "code",
   "execution_count": 127,
   "metadata": {
    "id": "jQ09dYUWrJg2"
   },
   "outputs": [
    {
     "data": {
      "text/html": [
       "<div>\n",
       "<style scoped>\n",
       "    .dataframe tbody tr th:only-of-type {\n",
       "        vertical-align: middle;\n",
       "    }\n",
       "\n",
       "    .dataframe tbody tr th {\n",
       "        vertical-align: top;\n",
       "    }\n",
       "\n",
       "    .dataframe thead th {\n",
       "        text-align: right;\n",
       "    }\n",
       "</style>\n",
       "<table border=\"1\" class=\"dataframe\">\n",
       "  <thead>\n",
       "    <tr style=\"text-align: right;\">\n",
       "      <th></th>\n",
       "      <th>category_code</th>\n",
       "      <th>price_amount</th>\n",
       "    </tr>\n",
       "  </thead>\n",
       "  <tbody>\n",
       "    <tr>\n",
       "      <th>0</th>\n",
       "      <td>nanotech</td>\n",
       "      <td>584000000.00</td>\n",
       "    </tr>\n",
       "    <tr>\n",
       "      <th>1</th>\n",
       "      <td>real_estate</td>\n",
       "      <td>40000000.00</td>\n",
       "    </tr>\n",
       "    <tr>\n",
       "      <th>2</th>\n",
       "      <td>manufacturing</td>\n",
       "      <td>40000000.00</td>\n",
       "    </tr>\n",
       "    <tr>\n",
       "      <th>3</th>\n",
       "      <td>photo_video</td>\n",
       "      <td>40000000.00</td>\n",
       "    </tr>\n",
       "    <tr>\n",
       "      <th>4</th>\n",
       "      <td>automotive</td>\n",
       "      <td>21500000.00</td>\n",
       "    </tr>\n",
       "    <tr>\n",
       "      <th>5</th>\n",
       "      <td>biotech</td>\n",
       "      <td>17600000.00</td>\n",
       "    </tr>\n",
       "    <tr>\n",
       "      <th>6</th>\n",
       "      <td>hospitality</td>\n",
       "      <td>10000000.00</td>\n",
       "    </tr>\n",
       "    <tr>\n",
       "      <th>7</th>\n",
       "      <td>finance</td>\n",
       "      <td>1200000.00</td>\n",
       "    </tr>\n",
       "    <tr>\n",
       "      <th>8</th>\n",
       "      <td>news</td>\n",
       "      <td>0.00</td>\n",
       "    </tr>\n",
       "    <tr>\n",
       "      <th>9</th>\n",
       "      <td>nonprofit</td>\n",
       "      <td>0.00</td>\n",
       "    </tr>\n",
       "    <tr>\n",
       "      <th>10</th>\n",
       "      <td>other</td>\n",
       "      <td>0.00</td>\n",
       "    </tr>\n",
       "    <tr>\n",
       "      <th>11</th>\n",
       "      <td>public_relations</td>\n",
       "      <td>0.00</td>\n",
       "    </tr>\n",
       "    <tr>\n",
       "      <th>12</th>\n",
       "      <td>advertising</td>\n",
       "      <td>0.00</td>\n",
       "    </tr>\n",
       "    <tr>\n",
       "      <th>13</th>\n",
       "      <td>search</td>\n",
       "      <td>0.00</td>\n",
       "    </tr>\n",
       "    <tr>\n",
       "      <th>14</th>\n",
       "      <td>security</td>\n",
       "      <td>0.00</td>\n",
       "    </tr>\n",
       "    <tr>\n",
       "      <th>15</th>\n",
       "      <td>semiconductor</td>\n",
       "      <td>0.00</td>\n",
       "    </tr>\n",
       "    <tr>\n",
       "      <th>16</th>\n",
       "      <td>social</td>\n",
       "      <td>0.00</td>\n",
       "    </tr>\n",
       "    <tr>\n",
       "      <th>17</th>\n",
       "      <td>software</td>\n",
       "      <td>0.00</td>\n",
       "    </tr>\n",
       "    <tr>\n",
       "      <th>18</th>\n",
       "      <td>sports</td>\n",
       "      <td>0.00</td>\n",
       "    </tr>\n",
       "    <tr>\n",
       "      <th>19</th>\n",
       "      <td>transportation</td>\n",
       "      <td>0.00</td>\n",
       "    </tr>\n",
       "    <tr>\n",
       "      <th>20</th>\n",
       "      <td>travel</td>\n",
       "      <td>0.00</td>\n",
       "    </tr>\n",
       "    <tr>\n",
       "      <th>21</th>\n",
       "      <td>network_hosting</td>\n",
       "      <td>0.00</td>\n",
       "    </tr>\n",
       "    <tr>\n",
       "      <th>22</th>\n",
       "      <td>messaging</td>\n",
       "      <td>0.00</td>\n",
       "    </tr>\n",
       "    <tr>\n",
       "      <th>23</th>\n",
       "      <td>music</td>\n",
       "      <td>0.00</td>\n",
       "    </tr>\n",
       "    <tr>\n",
       "      <th>24</th>\n",
       "      <td>fashion</td>\n",
       "      <td>0.00</td>\n",
       "    </tr>\n",
       "    <tr>\n",
       "      <th>25</th>\n",
       "      <td>cleantech</td>\n",
       "      <td>0.00</td>\n",
       "    </tr>\n",
       "    <tr>\n",
       "      <th>26</th>\n",
       "      <td>consulting</td>\n",
       "      <td>0.00</td>\n",
       "    </tr>\n",
       "    <tr>\n",
       "      <th>27</th>\n",
       "      <td>design</td>\n",
       "      <td>0.00</td>\n",
       "    </tr>\n",
       "    <tr>\n",
       "      <th>28</th>\n",
       "      <td>ecommerce</td>\n",
       "      <td>0.00</td>\n",
       "    </tr>\n",
       "    <tr>\n",
       "      <th>29</th>\n",
       "      <td>education</td>\n",
       "      <td>0.00</td>\n",
       "    </tr>\n",
       "    <tr>\n",
       "      <th>30</th>\n",
       "      <td>enterprise</td>\n",
       "      <td>0.00</td>\n",
       "    </tr>\n",
       "    <tr>\n",
       "      <th>31</th>\n",
       "      <td>games_video</td>\n",
       "      <td>0.00</td>\n",
       "    </tr>\n",
       "    <tr>\n",
       "      <th>32</th>\n",
       "      <td>mobile</td>\n",
       "      <td>0.00</td>\n",
       "    </tr>\n",
       "    <tr>\n",
       "      <th>33</th>\n",
       "      <td>hardware</td>\n",
       "      <td>0.00</td>\n",
       "    </tr>\n",
       "    <tr>\n",
       "      <th>34</th>\n",
       "      <td>health</td>\n",
       "      <td>0.00</td>\n",
       "    </tr>\n",
       "    <tr>\n",
       "      <th>35</th>\n",
       "      <td>legal</td>\n",
       "      <td>0.00</td>\n",
       "    </tr>\n",
       "    <tr>\n",
       "      <th>36</th>\n",
       "      <td>local</td>\n",
       "      <td>0.00</td>\n",
       "    </tr>\n",
       "    <tr>\n",
       "      <th>37</th>\n",
       "      <td>medical</td>\n",
       "      <td>0.00</td>\n",
       "    </tr>\n",
       "    <tr>\n",
       "      <th>38</th>\n",
       "      <td>analytics</td>\n",
       "      <td>0.00</td>\n",
       "    </tr>\n",
       "    <tr>\n",
       "      <th>39</th>\n",
       "      <td>web</td>\n",
       "      <td>0.00</td>\n",
       "    </tr>\n",
       "    <tr>\n",
       "      <th>40</th>\n",
       "      <td>government</td>\n",
       "      <td>NaN</td>\n",
       "    </tr>\n",
       "    <tr>\n",
       "      <th>41</th>\n",
       "      <td>pets</td>\n",
       "      <td>NaN</td>\n",
       "    </tr>\n",
       "  </tbody>\n",
       "</table>\n",
       "</div>"
      ],
      "text/plain": [
       "       category_code  price_amount\n",
       "0           nanotech  584000000.00\n",
       "1        real_estate   40000000.00\n",
       "2      manufacturing   40000000.00\n",
       "3        photo_video   40000000.00\n",
       "4         automotive   21500000.00\n",
       "5            biotech   17600000.00\n",
       "6        hospitality   10000000.00\n",
       "7            finance    1200000.00\n",
       "8               news          0.00\n",
       "9          nonprofit          0.00\n",
       "10             other          0.00\n",
       "11  public_relations          0.00\n",
       "12       advertising          0.00\n",
       "13            search          0.00\n",
       "14          security          0.00\n",
       "15     semiconductor          0.00\n",
       "16            social          0.00\n",
       "17          software          0.00\n",
       "18            sports          0.00\n",
       "19    transportation          0.00\n",
       "20            travel          0.00\n",
       "21   network_hosting          0.00\n",
       "22         messaging          0.00\n",
       "23             music          0.00\n",
       "24           fashion          0.00\n",
       "25         cleantech          0.00\n",
       "26        consulting          0.00\n",
       "27            design          0.00\n",
       "28         ecommerce          0.00\n",
       "29         education          0.00\n",
       "30        enterprise          0.00\n",
       "31       games_video          0.00\n",
       "32            mobile          0.00\n",
       "33          hardware          0.00\n",
       "34            health          0.00\n",
       "35             legal          0.00\n",
       "36             local          0.00\n",
       "37           medical          0.00\n",
       "38         analytics          0.00\n",
       "39               web          0.00\n",
       "40        government           NaN\n",
       "41              pets           NaN"
      ]
     },
     "execution_count": 127,
     "metadata": {},
     "output_type": "execute_result"
    }
   ],
   "source": [
    "category_prices = df.groupby('category_code')['price_amount'].median().sort_values(ascending=False).reset_index()\n",
    "category_prices"
   ]
  },
  {
   "cell_type": "code",
   "execution_count": 128,
   "metadata": {},
   "outputs": [
    {
     "data": {
      "text/html": [
       "<div>\n",
       "<style scoped>\n",
       "    .dataframe tbody tr th:only-of-type {\n",
       "        vertical-align: middle;\n",
       "    }\n",
       "\n",
       "    .dataframe tbody tr th {\n",
       "        vertical-align: top;\n",
       "    }\n",
       "\n",
       "    .dataframe thead th {\n",
       "        text-align: right;\n",
       "    }\n",
       "</style>\n",
       "<table border=\"1\" class=\"dataframe\">\n",
       "  <thead>\n",
       "    <tr style=\"text-align: right;\">\n",
       "      <th></th>\n",
       "      <th>category_code</th>\n",
       "      <th>price_amount</th>\n",
       "      <th>price_amount_mln</th>\n",
       "    </tr>\n",
       "  </thead>\n",
       "  <tbody>\n",
       "    <tr>\n",
       "      <th>0</th>\n",
       "      <td>nanotech</td>\n",
       "      <td>584000000.00</td>\n",
       "      <td>584.00</td>\n",
       "    </tr>\n",
       "    <tr>\n",
       "      <th>1</th>\n",
       "      <td>real_estate</td>\n",
       "      <td>40000000.00</td>\n",
       "      <td>40.00</td>\n",
       "    </tr>\n",
       "    <tr>\n",
       "      <th>2</th>\n",
       "      <td>manufacturing</td>\n",
       "      <td>40000000.00</td>\n",
       "      <td>40.00</td>\n",
       "    </tr>\n",
       "    <tr>\n",
       "      <th>3</th>\n",
       "      <td>photo_video</td>\n",
       "      <td>40000000.00</td>\n",
       "      <td>40.00</td>\n",
       "    </tr>\n",
       "    <tr>\n",
       "      <th>4</th>\n",
       "      <td>automotive</td>\n",
       "      <td>21500000.00</td>\n",
       "      <td>21.50</td>\n",
       "    </tr>\n",
       "    <tr>\n",
       "      <th>5</th>\n",
       "      <td>biotech</td>\n",
       "      <td>17600000.00</td>\n",
       "      <td>17.60</td>\n",
       "    </tr>\n",
       "    <tr>\n",
       "      <th>6</th>\n",
       "      <td>hospitality</td>\n",
       "      <td>10000000.00</td>\n",
       "      <td>10.00</td>\n",
       "    </tr>\n",
       "    <tr>\n",
       "      <th>7</th>\n",
       "      <td>finance</td>\n",
       "      <td>1200000.00</td>\n",
       "      <td>1.20</td>\n",
       "    </tr>\n",
       "  </tbody>\n",
       "</table>\n",
       "</div>"
      ],
      "text/plain": [
       "   category_code  price_amount  price_amount_mln\n",
       "0       nanotech  584000000.00            584.00\n",
       "1    real_estate   40000000.00             40.00\n",
       "2  manufacturing   40000000.00             40.00\n",
       "3    photo_video   40000000.00             40.00\n",
       "4     automotive   21500000.00             21.50\n",
       "5        biotech   17600000.00             17.60\n",
       "6    hospitality   10000000.00             10.00\n",
       "7        finance    1200000.00              1.20"
      ]
     },
     "execution_count": 128,
     "metadata": {},
     "output_type": "execute_result"
    }
   ],
   "source": [
    "category_prices = category_prices[category_prices['price_amount'] > 0].copy()\n",
    "category_prices['price_amount_mln'] = category_prices['price_amount'] / 1000000\n",
    "category_prices"
   ]
  },
  {
   "cell_type": "code",
   "execution_count": 129,
   "metadata": {},
   "outputs": [
    {
     "data": {
      "image/png": "[encoded data removed]",
      "text/plain": [
       "<Figure size 1400x800 with 1 Axes>"
      ]
     },
     "metadata": {},
     "output_type": "display_data"
    }
   ],
   "source": [
    "plt.figure(figsize=(14,8))\n",
    "ax = sns.barplot(data=category_prices, x='price_amount_mln', y='category_code')\n",
    "for p in ax.patches:\n",
    "    ax.annotate(f'{p.get_width():.1f}',\n",
    "                (p.get_x() + p.get_width(), p.get_y() + p.get_height() / 2),\n",
    "                ha='left', va='center',\n",
    "                xytext=(5, 0),\n",
    "                textcoords='offset points',\n",
    "                fontsize=10)\n",
    "plt.title('Категории стартапов с наибольшими ценами')\n",
    "plt.xlabel('Суммы сделок в миллионах')\n",
    "plt.ylabel('Категория')\n",
    "plt.show()"
   ]
  },
  {
   "cell_type": "code",
   "execution_count": 130,
   "metadata": {
    "id": "MFONscXPn29F"
   },
   "outputs": [
    {
     "data": {
      "text/html": [
       "<div>\n",
       "<style scoped>\n",
       "    .dataframe tbody tr th:only-of-type {\n",
       "        vertical-align: middle;\n",
       "    }\n",
       "\n",
       "    .dataframe tbody tr th {\n",
       "        vertical-align: top;\n",
       "    }\n",
       "\n",
       "    .dataframe thead th {\n",
       "        text-align: right;\n",
       "    }\n",
       "</style>\n",
       "<table border=\"1\" class=\"dataframe\">\n",
       "  <thead>\n",
       "    <tr style=\"text-align: right;\">\n",
       "      <th></th>\n",
       "      <th>category_code</th>\n",
       "      <th>price_amount</th>\n",
       "    </tr>\n",
       "  </thead>\n",
       "  <tbody>\n",
       "    <tr>\n",
       "      <th>0</th>\n",
       "      <td>enterprise</td>\n",
       "      <td>104163452703.60</td>\n",
       "    </tr>\n",
       "    <tr>\n",
       "      <th>1</th>\n",
       "      <td>public_relations</td>\n",
       "      <td>3802535900.24</td>\n",
       "    </tr>\n",
       "    <tr>\n",
       "      <th>2</th>\n",
       "      <td>automotive</td>\n",
       "      <td>2147833365.67</td>\n",
       "    </tr>\n",
       "    <tr>\n",
       "      <th>3</th>\n",
       "      <td>real_estate</td>\n",
       "      <td>2129788210.65</td>\n",
       "    </tr>\n",
       "    <tr>\n",
       "      <th>4</th>\n",
       "      <td>biotech</td>\n",
       "      <td>1336462342.85</td>\n",
       "    </tr>\n",
       "    <tr>\n",
       "      <th>5</th>\n",
       "      <td>other</td>\n",
       "      <td>1058850372.21</td>\n",
       "    </tr>\n",
       "    <tr>\n",
       "      <th>6</th>\n",
       "      <td>health</td>\n",
       "      <td>987582038.97</td>\n",
       "    </tr>\n",
       "    <tr>\n",
       "      <th>7</th>\n",
       "      <td>manufacturing</td>\n",
       "      <td>947980006.15</td>\n",
       "    </tr>\n",
       "    <tr>\n",
       "      <th>8</th>\n",
       "      <td>software</td>\n",
       "      <td>729174792.66</td>\n",
       "    </tr>\n",
       "    <tr>\n",
       "      <th>9</th>\n",
       "      <td>finance</td>\n",
       "      <td>700186990.28</td>\n",
       "    </tr>\n",
       "    <tr>\n",
       "      <th>10</th>\n",
       "      <td>security</td>\n",
       "      <td>670164691.32</td>\n",
       "    </tr>\n",
       "    <tr>\n",
       "      <th>11</th>\n",
       "      <td>semiconductor</td>\n",
       "      <td>658336021.76</td>\n",
       "    </tr>\n",
       "    <tr>\n",
       "      <th>12</th>\n",
       "      <td>games_video</td>\n",
       "      <td>653682393.77</td>\n",
       "    </tr>\n",
       "    <tr>\n",
       "      <th>13</th>\n",
       "      <td>mobile</td>\n",
       "      <td>577896477.29</td>\n",
       "    </tr>\n",
       "    <tr>\n",
       "      <th>14</th>\n",
       "      <td>hospitality</td>\n",
       "      <td>565065045.31</td>\n",
       "    </tr>\n",
       "    <tr>\n",
       "      <th>15</th>\n",
       "      <td>consulting</td>\n",
       "      <td>484946271.20</td>\n",
       "    </tr>\n",
       "    <tr>\n",
       "      <th>16</th>\n",
       "      <td>network_hosting</td>\n",
       "      <td>476613357.73</td>\n",
       "    </tr>\n",
       "    <tr>\n",
       "      <th>17</th>\n",
       "      <td>transportation</td>\n",
       "      <td>475559050.23</td>\n",
       "    </tr>\n",
       "    <tr>\n",
       "      <th>18</th>\n",
       "      <td>cleantech</td>\n",
       "      <td>442702307.12</td>\n",
       "    </tr>\n",
       "    <tr>\n",
       "      <th>19</th>\n",
       "      <td>hardware</td>\n",
       "      <td>387918560.77</td>\n",
       "    </tr>\n",
       "    <tr>\n",
       "      <th>20</th>\n",
       "      <td>sports</td>\n",
       "      <td>368870541.23</td>\n",
       "    </tr>\n",
       "    <tr>\n",
       "      <th>21</th>\n",
       "      <td>web</td>\n",
       "      <td>357097416.35</td>\n",
       "    </tr>\n",
       "    <tr>\n",
       "      <th>22</th>\n",
       "      <td>photo_video</td>\n",
       "      <td>339090315.44</td>\n",
       "    </tr>\n",
       "    <tr>\n",
       "      <th>23</th>\n",
       "      <td>advertising</td>\n",
       "      <td>242584653.29</td>\n",
       "    </tr>\n",
       "    <tr>\n",
       "      <th>24</th>\n",
       "      <td>search</td>\n",
       "      <td>170365963.84</td>\n",
       "    </tr>\n",
       "    <tr>\n",
       "      <th>25</th>\n",
       "      <td>ecommerce</td>\n",
       "      <td>152676491.91</td>\n",
       "    </tr>\n",
       "    <tr>\n",
       "      <th>26</th>\n",
       "      <td>education</td>\n",
       "      <td>106290717.53</td>\n",
       "    </tr>\n",
       "    <tr>\n",
       "      <th>27</th>\n",
       "      <td>news</td>\n",
       "      <td>97973302.51</td>\n",
       "    </tr>\n",
       "    <tr>\n",
       "      <th>28</th>\n",
       "      <td>medical</td>\n",
       "      <td>96553030.84</td>\n",
       "    </tr>\n",
       "    <tr>\n",
       "      <th>29</th>\n",
       "      <td>fashion</td>\n",
       "      <td>95433415.35</td>\n",
       "    </tr>\n",
       "    <tr>\n",
       "      <th>30</th>\n",
       "      <td>analytics</td>\n",
       "      <td>75107645.35</td>\n",
       "    </tr>\n",
       "    <tr>\n",
       "      <th>31</th>\n",
       "      <td>messaging</td>\n",
       "      <td>54169870.80</td>\n",
       "    </tr>\n",
       "    <tr>\n",
       "      <th>32</th>\n",
       "      <td>music</td>\n",
       "      <td>49449560.97</td>\n",
       "    </tr>\n",
       "    <tr>\n",
       "      <th>33</th>\n",
       "      <td>social</td>\n",
       "      <td>45093816.47</td>\n",
       "    </tr>\n",
       "    <tr>\n",
       "      <th>34</th>\n",
       "      <td>travel</td>\n",
       "      <td>44166917.47</td>\n",
       "    </tr>\n",
       "    <tr>\n",
       "      <th>35</th>\n",
       "      <td>local</td>\n",
       "      <td>9318548.81</td>\n",
       "    </tr>\n",
       "    <tr>\n",
       "      <th>36</th>\n",
       "      <td>legal</td>\n",
       "      <td>0.00</td>\n",
       "    </tr>\n",
       "    <tr>\n",
       "      <th>37</th>\n",
       "      <td>design</td>\n",
       "      <td>0.00</td>\n",
       "    </tr>\n",
       "    <tr>\n",
       "      <th>38</th>\n",
       "      <td>government</td>\n",
       "      <td>NaN</td>\n",
       "    </tr>\n",
       "    <tr>\n",
       "      <th>39</th>\n",
       "      <td>nanotech</td>\n",
       "      <td>NaN</td>\n",
       "    </tr>\n",
       "    <tr>\n",
       "      <th>40</th>\n",
       "      <td>nonprofit</td>\n",
       "      <td>NaN</td>\n",
       "    </tr>\n",
       "    <tr>\n",
       "      <th>41</th>\n",
       "      <td>pets</td>\n",
       "      <td>NaN</td>\n",
       "    </tr>\n",
       "  </tbody>\n",
       "</table>\n",
       "</div>"
      ],
      "text/plain": [
       "       category_code    price_amount\n",
       "0         enterprise 104163452703.60\n",
       "1   public_relations   3802535900.24\n",
       "2         automotive   2147833365.67\n",
       "3        real_estate   2129788210.65\n",
       "4            biotech   1336462342.85\n",
       "5              other   1058850372.21\n",
       "6             health    987582038.97\n",
       "7      manufacturing    947980006.15\n",
       "8           software    729174792.66\n",
       "9            finance    700186990.28\n",
       "10          security    670164691.32\n",
       "11     semiconductor    658336021.76\n",
       "12       games_video    653682393.77\n",
       "13            mobile    577896477.29\n",
       "14       hospitality    565065045.31\n",
       "15        consulting    484946271.20\n",
       "16   network_hosting    476613357.73\n",
       "17    transportation    475559050.23\n",
       "18         cleantech    442702307.12\n",
       "19          hardware    387918560.77\n",
       "20            sports    368870541.23\n",
       "21               web    357097416.35\n",
       "22       photo_video    339090315.44\n",
       "23       advertising    242584653.29\n",
       "24            search    170365963.84\n",
       "25         ecommerce    152676491.91\n",
       "26         education    106290717.53\n",
       "27              news     97973302.51\n",
       "28           medical     96553030.84\n",
       "29           fashion     95433415.35\n",
       "30         analytics     75107645.35\n",
       "31         messaging     54169870.80\n",
       "32             music     49449560.97\n",
       "33            social     45093816.47\n",
       "34            travel     44166917.47\n",
       "35             local      9318548.81\n",
       "36             legal            0.00\n",
       "37            design            0.00\n",
       "38        government             NaN\n",
       "39          nanotech             NaN\n",
       "40         nonprofit             NaN\n",
       "41              pets             NaN"
      ]
     },
     "execution_count": 130,
     "metadata": {},
     "output_type": "execute_result"
    }
   ],
   "source": [
    "category_std = df.groupby('category_code')['price_amount'].std().sort_values(ascending=False).reset_index()\n",
    "category_std"
   ]
  },
  {
   "cell_type": "code",
   "execution_count": 131,
   "metadata": {},
   "outputs": [
    {
     "data": {
      "text/html": [
       "<div>\n",
       "<style scoped>\n",
       "    .dataframe tbody tr th:only-of-type {\n",
       "        vertical-align: middle;\n",
       "    }\n",
       "\n",
       "    .dataframe tbody tr th {\n",
       "        vertical-align: top;\n",
       "    }\n",
       "\n",
       "    .dataframe thead th {\n",
       "        text-align: right;\n",
       "    }\n",
       "</style>\n",
       "<table border=\"1\" class=\"dataframe\">\n",
       "  <thead>\n",
       "    <tr style=\"text-align: right;\">\n",
       "      <th></th>\n",
       "      <th>category_code</th>\n",
       "      <th>price_amount</th>\n",
       "      <th>price_amount_mln</th>\n",
       "    </tr>\n",
       "  </thead>\n",
       "  <tbody>\n",
       "    <tr>\n",
       "      <th>0</th>\n",
       "      <td>enterprise</td>\n",
       "      <td>104163452703.60</td>\n",
       "      <td>104163.45</td>\n",
       "    </tr>\n",
       "    <tr>\n",
       "      <th>1</th>\n",
       "      <td>public_relations</td>\n",
       "      <td>3802535900.24</td>\n",
       "      <td>3802.54</td>\n",
       "    </tr>\n",
       "    <tr>\n",
       "      <th>2</th>\n",
       "      <td>automotive</td>\n",
       "      <td>2147833365.67</td>\n",
       "      <td>2147.83</td>\n",
       "    </tr>\n",
       "    <tr>\n",
       "      <th>3</th>\n",
       "      <td>real_estate</td>\n",
       "      <td>2129788210.65</td>\n",
       "      <td>2129.79</td>\n",
       "    </tr>\n",
       "    <tr>\n",
       "      <th>4</th>\n",
       "      <td>biotech</td>\n",
       "      <td>1336462342.85</td>\n",
       "      <td>1336.46</td>\n",
       "    </tr>\n",
       "    <tr>\n",
       "      <th>5</th>\n",
       "      <td>other</td>\n",
       "      <td>1058850372.21</td>\n",
       "      <td>1058.85</td>\n",
       "    </tr>\n",
       "    <tr>\n",
       "      <th>6</th>\n",
       "      <td>health</td>\n",
       "      <td>987582038.97</td>\n",
       "      <td>987.58</td>\n",
       "    </tr>\n",
       "  </tbody>\n",
       "</table>\n",
       "</div>"
      ],
      "text/plain": [
       "      category_code    price_amount  price_amount_mln\n",
       "0        enterprise 104163452703.60         104163.45\n",
       "1  public_relations   3802535900.24           3802.54\n",
       "2        automotive   2147833365.67           2147.83\n",
       "3       real_estate   2129788210.65           2129.79\n",
       "4           biotech   1336462342.85           1336.46\n",
       "5             other   1058850372.21           1058.85\n",
       "6            health    987582038.97            987.58"
      ]
     },
     "execution_count": 131,
     "metadata": {},
     "output_type": "execute_result"
    }
   ],
   "source": [
    "category_std = category_std.iloc[:7].copy()\n",
    "category_std['price_amount_mln'] = category_std['price_amount'] / 1000000\n",
    "category_std"
   ]
  },
  {
   "cell_type": "code",
   "execution_count": 132,
   "metadata": {},
   "outputs": [
    {
     "data": {
      "image/png": "[encoded data removed]",
      "text/plain": [
       "<Figure size 1400x800 with 1 Axes>"
      ]
     },
     "metadata": {},
     "output_type": "display_data"
    }
   ],
   "source": [
    "plt.figure(figsize=(14,8))\n",
    "ax = sns.barplot(data=category_std, x='price_amount_mln', y='category_code')\n",
    "ax.xaxis.set_major_formatter(mticker.FuncFormatter(lambda x, _: f'{x:,.0f}'))\n",
    "for p in ax.patches:\n",
    "    ax.annotate(f'{p.get_width():.1f}',\n",
    "                (p.get_x() + p.get_width(), p.get_y() + p.get_height() / 2),\n",
    "                ha='left', va='center',\n",
    "                xytext=(5, 0),\n",
    "                textcoords='offset points',\n",
    "                fontsize=10)\n",
    "plt.title('Категории стартапов с наибольшим разбросом цен')\n",
    "plt.xlabel('Разброс в миллионах')\n",
    "plt.ylabel('Категория')\n",
    "plt.show()"
   ]
  },
  {
   "cell_type": "markdown",
   "metadata": {},
   "source": [
    "Мы видим, что категории стартапов с наибольшими ценами возглавляет **nanotech** с ценами около 584 миллионов.  \n",
    "Этот показатель мы считали с помощью медианы, так как при подсчете среднего мы получим слишком большие значения, среднее гораздо выше медианы, как мы уже изучили выше.  \n",
    "Здесь мы выбрали топ 7, так как ниже по медиане ничего нет.  \n",
    "Наибольший разброс цен имеет категория **enterprise**, где разброс составляет 100 миллиардов долларов.  \n",
    "Здесь мы выбрали топ 7, чтобы не получился огромный график, а разброс цен был выше 1 миллиарда.  "
   ]
  },
  {
   "cell_type": "markdown",
   "metadata": {
    "id": "ADOfyVY_rJg3"
   },
   "source": [
    "\n",
    "### 3.5. Сколько раундов продержится стартап перед покупкой"
   ]
  },
  {
   "cell_type": "code",
   "execution_count": 133,
   "metadata": {
    "id": "hgXMPC4WrJg3"
   },
   "outputs": [
    {
     "data": {
      "text/html": [
       "<div>\n",
       "<style scoped>\n",
       "    .dataframe tbody tr th:only-of-type {\n",
       "        vertical-align: middle;\n",
       "    }\n",
       "\n",
       "    .dataframe tbody tr th {\n",
       "        vertical-align: top;\n",
       "    }\n",
       "\n",
       "    .dataframe thead th {\n",
       "        text-align: right;\n",
       "    }\n",
       "</style>\n",
       "<table border=\"1\" class=\"dataframe\">\n",
       "  <thead>\n",
       "    <tr style=\"text-align: right;\">\n",
       "      <th></th>\n",
       "      <th>status</th>\n",
       "      <th>funding_rounds</th>\n",
       "    </tr>\n",
       "  </thead>\n",
       "  <tbody>\n",
       "    <tr>\n",
       "      <th>0</th>\n",
       "      <td>acquired</td>\n",
       "      <td>1.16</td>\n",
       "    </tr>\n",
       "    <tr>\n",
       "      <th>1</th>\n",
       "      <td>closed</td>\n",
       "      <td>1.88</td>\n",
       "    </tr>\n",
       "    <tr>\n",
       "      <th>2</th>\n",
       "      <td>ipo</td>\n",
       "      <td>3.99</td>\n",
       "    </tr>\n",
       "    <tr>\n",
       "      <th>3</th>\n",
       "      <td>operating</td>\n",
       "      <td>2.38</td>\n",
       "    </tr>\n",
       "  </tbody>\n",
       "</table>\n",
       "</div>"
      ],
      "text/plain": [
       "      status  funding_rounds\n",
       "0   acquired            1.16\n",
       "1     closed            1.88\n",
       "2        ipo            3.99\n",
       "3  operating            2.38"
      ]
     },
     "execution_count": 133,
     "metadata": {},
     "output_type": "execute_result"
    }
   ],
   "source": [
    "status_funding = df.groupby('status')['funding_rounds'].mean().reset_index()\n",
    "status_funding"
   ]
  },
  {
   "cell_type": "code",
   "execution_count": 134,
   "metadata": {},
   "outputs": [
    {
     "data": {
      "image/png": "[encoded data removed]",
      "text/plain": [
       "<Figure size 1200x600 with 1 Axes>"
      ]
     },
     "metadata": {},
     "output_type": "display_data"
    }
   ],
   "source": [
    "plt.figure(figsize=(12,6))\n",
    "ax = sns.barplot(data=status_funding, x='status', y='funding_rounds')\n",
    "for p in ax.patches:\n",
    "    height = p.get_height()\n",
    "    ax.annotate(f'{height:.1f}',\n",
    "                (p.get_x() + p.get_width() / 2., height),\n",
    "                ha='center', va='bottom',                   \n",
    "                xytext=(0, 5),                              \n",
    "                textcoords='offset points',                \n",
    "                fontsize=10)\n",
    "plt.title('Среднее количество раундов финансирования по статусу стартапа')\n",
    "plt.xlabel('Статус стартапа')\n",
    "plt.ylabel('Среднее количество раундов')\n",
    "plt.show()"
   ]
  },
  {
   "cell_type": "markdown",
   "metadata": {},
   "source": [
    "Стартапы со статусом **acquired** (куплены) имеют в среднем всего 1.16 раунда.  \n",
    "Закрытые стартапы **closed** проходили в среднем 1.88 раунда финансирования.  \n",
    "Стартапы, вышедшие на **IPO**, имеют самое высокое среднее число раундов — 3.99.  \n",
    "Работающие стартапы (operating) имеют в среднем 2.38 раунда финансирования.  \n",
    "\n",
    "Из этих данных мы видим, что стартапы, которые были куплены другой компанией или закрыты, в среднем имеют меньшее количество раундов финансирования.   \n",
    "А те стартапы, которые остались работать или вышли на IPO, имеют больше раундов финансирования."
   ]
  },
  {
   "cell_type": "markdown",
   "metadata": {
    "id": "VAFEZ2HBrJg3"
   },
   "source": [
    "\n",
    "## Шаг 4. Итоговый вывод и рекомендации\n"
   ]
  },
  {
   "cell_type": "markdown",
   "metadata": {},
   "source": [
    "В ходе проекта были исследованы данные о стартапах, их финансировании, а также их сотрудниках.  \n",
    "\n",
    "**Что было сделано**:  \n",
    "- предобратока данных:  \n",
    "    > Загружены и изучены данные о компаниях, инвестициях, покупках компаний, сотрудниках и их образовании.  \n",
    "    > Проведена проверка и обработка пропущенных значений.  \n",
    "    > Произведена смена типов данных у некоторых столбцов, в основном с датами.  \n",
    "    > Выполнено объединение таблиц для формирования целостного набора данных.  \n",
    "- фильтрация данных:  \n",
    "    > Отобраны компании, которые имели хотя бы один инвестиционный или финансовый раунд или были куплены.  \n",
    "- исследовательский анализ:  \n",
    "    > Анализ выбросов в финансировании.  \n",
    "    > Анализ нулевых покупок.  \n",
    "    > Анализ цен стартапов по категориям, а также их разброс.  \n",
    "    > Анализ раундов стартапов перед покупкой.  \n",
    "\n",
    "**Выводы**:  \n",
    "Типичный размер финансирования компаний имеет очень высокий разброс, это связано с тем, что некоторые стартапы получили крупное финансирование.  \n",
    "При этом, некоторые компании, получившие финансирование, впоследствии были куплены бесплатно (за 0 или за 1 доллар). Эти данные могут указывать на совершение слияний компаний или поглощением мелких стартапов более крупными компаниями.  \n",
    "Изучая цены по категориям, можно выделить нанотехнологии (nanotech), которые имеют самые выоские цены на стартапы, в среднем - 584 миллиона.  \n",
    "Самый высокий разброс цен наблюдается в категории enterprise и превышает 100 миллиардов долларов.  \n",
    "Также, судя по раундам финансирования, чем больше раундов финансирования компания получила - тем вероятнее стартап останется \"на плаву\" или даже проведёт IPO.  \n",
    "\n",
    "Результаты анализа в целом подтверждают друг друга и дают целостную картину инвестиционной активности.  \n",
    "Однако наличие значительных выбросов требует осторожности при интерпретации некоторых метрик.  "
   ]
  }
 ],
 "metadata": {
  "ExecuteTimeLog": [
   {
    "duration": 1460,
    "start_time": "2025-02-09T07:06:28.080Z"
   },
   {
    "duration": 0,
    "start_time": "2025-02-09T07:06:29.543Z"
   },
   {
    "duration": 0,
    "start_time": "2025-02-09T07:06:29.544Z"
   },
   {
    "duration": 0,
    "start_time": "2025-02-09T07:06:29.546Z"
   },
   {
    "duration": 0,
    "start_time": "2025-02-09T07:06:29.546Z"
   },
   {
    "duration": 0,
    "start_time": "2025-02-09T07:06:29.547Z"
   },
   {
    "duration": 0,
    "start_time": "2025-02-09T07:06:29.548Z"
   },
   {
    "duration": 0,
    "start_time": "2025-02-09T07:06:29.549Z"
   },
   {
    "duration": 0,
    "start_time": "2025-02-09T07:06:29.550Z"
   },
   {
    "duration": 0,
    "start_time": "2025-02-09T07:06:29.551Z"
   },
   {
    "duration": 0,
    "start_time": "2025-02-09T07:06:29.552Z"
   },
   {
    "duration": 0,
    "start_time": "2025-02-09T07:06:29.553Z"
   },
   {
    "duration": 0,
    "start_time": "2025-02-09T07:06:29.575Z"
   },
   {
    "duration": 0,
    "start_time": "2025-02-09T07:06:29.576Z"
   },
   {
    "duration": 0,
    "start_time": "2025-02-09T07:06:29.577Z"
   },
   {
    "duration": 0,
    "start_time": "2025-02-09T07:06:29.578Z"
   },
   {
    "duration": 0,
    "start_time": "2025-02-09T07:06:29.579Z"
   },
   {
    "duration": 0,
    "start_time": "2025-02-09T07:06:29.580Z"
   },
   {
    "duration": 0,
    "start_time": "2025-02-09T07:06:29.581Z"
   },
   {
    "duration": 0,
    "start_time": "2025-02-09T07:06:29.582Z"
   },
   {
    "duration": 0,
    "start_time": "2025-02-09T07:06:29.583Z"
   },
   {
    "duration": 0,
    "start_time": "2025-02-09T07:06:29.584Z"
   },
   {
    "duration": 0,
    "start_time": "2025-02-09T07:06:29.585Z"
   },
   {
    "duration": 0,
    "start_time": "2025-02-09T07:06:29.586Z"
   },
   {
    "duration": 0,
    "start_time": "2025-02-09T07:06:29.587Z"
   },
   {
    "duration": 0,
    "start_time": "2025-02-09T07:06:29.588Z"
   },
   {
    "duration": 0,
    "start_time": "2025-02-09T07:06:29.589Z"
   },
   {
    "duration": 0,
    "start_time": "2025-02-09T07:06:29.590Z"
   },
   {
    "duration": 0,
    "start_time": "2025-02-09T07:06:29.591Z"
   },
   {
    "duration": 0,
    "start_time": "2025-02-09T07:06:29.592Z"
   },
   {
    "duration": 0,
    "start_time": "2025-02-09T07:06:29.593Z"
   },
   {
    "duration": 0,
    "start_time": "2025-02-09T07:06:29.594Z"
   },
   {
    "duration": 0,
    "start_time": "2025-02-09T07:06:29.595Z"
   },
   {
    "duration": 0,
    "start_time": "2025-02-09T07:06:29.596Z"
   },
   {
    "duration": 0,
    "start_time": "2025-02-09T07:06:29.597Z"
   },
   {
    "duration": 0,
    "start_time": "2025-02-09T07:06:29.598Z"
   },
   {
    "duration": 0,
    "start_time": "2025-02-09T07:06:29.599Z"
   },
   {
    "duration": 0,
    "start_time": "2025-02-09T07:06:29.600Z"
   },
   {
    "duration": 0,
    "start_time": "2025-02-09T07:06:29.601Z"
   },
   {
    "duration": 0,
    "start_time": "2025-02-09T07:06:29.602Z"
   },
   {
    "duration": 0,
    "start_time": "2025-02-09T07:06:29.603Z"
   },
   {
    "duration": 0,
    "start_time": "2025-02-09T07:06:29.604Z"
   },
   {
    "duration": 0,
    "start_time": "2025-02-09T07:06:29.606Z"
   },
   {
    "duration": 0,
    "start_time": "2025-02-09T07:06:29.607Z"
   },
   {
    "duration": 0,
    "start_time": "2025-02-09T07:06:29.608Z"
   },
   {
    "duration": 0,
    "start_time": "2025-02-09T07:06:29.609Z"
   },
   {
    "duration": 0,
    "start_time": "2025-02-09T07:06:29.611Z"
   },
   {
    "duration": 0,
    "start_time": "2025-02-09T07:06:29.612Z"
   },
   {
    "duration": 0,
    "start_time": "2025-02-09T07:06:29.613Z"
   },
   {
    "duration": 0,
    "start_time": "2025-02-09T07:06:29.675Z"
   },
   {
    "duration": 0,
    "start_time": "2025-02-09T07:06:29.676Z"
   },
   {
    "duration": 0,
    "start_time": "2025-02-09T07:06:29.677Z"
   },
   {
    "duration": 0,
    "start_time": "2025-02-09T07:06:29.678Z"
   },
   {
    "duration": 9,
    "start_time": "2025-02-09T07:06:30.316Z"
   },
   {
    "duration": 3226,
    "start_time": "2025-02-09T07:07:16.422Z"
   },
   {
    "duration": 8,
    "start_time": "2025-02-09T07:07:19.651Z"
   },
   {
    "duration": 2352,
    "start_time": "2025-02-09T07:07:20.205Z"
   },
   {
    "duration": 5,
    "start_time": "2025-02-09T07:07:22.559Z"
   },
   {
    "duration": 17,
    "start_time": "2025-02-09T07:07:22.565Z"
   },
   {
    "duration": 12,
    "start_time": "2025-02-09T07:07:22.584Z"
   },
   {
    "duration": 53,
    "start_time": "2025-02-09T07:07:22.597Z"
   },
   {
    "duration": 94,
    "start_time": "2025-02-09T07:07:22.756Z"
   },
   {
    "duration": 12,
    "start_time": "2025-02-09T07:07:22.908Z"
   },
   {
    "duration": 9,
    "start_time": "2025-02-09T07:07:23.051Z"
   },
   {
    "duration": 34,
    "start_time": "2025-02-09T07:07:23.205Z"
   },
   {
    "duration": 101,
    "start_time": "2025-02-09T07:07:23.683Z"
   },
   {
    "duration": 6,
    "start_time": "2025-02-09T07:07:23.841Z"
   },
   {
    "duration": 6,
    "start_time": "2025-02-09T07:07:23.996Z"
   },
   {
    "duration": 6,
    "start_time": "2025-02-09T07:07:24.164Z"
   },
   {
    "duration": 39,
    "start_time": "2025-02-09T07:07:24.467Z"
   },
   {
    "duration": 9,
    "start_time": "2025-02-09T07:07:24.644Z"
   },
   {
    "duration": 41,
    "start_time": "2025-02-09T07:07:24.803Z"
   },
   {
    "duration": 21,
    "start_time": "2025-02-09T07:07:25.124Z"
   },
   {
    "duration": 8,
    "start_time": "2025-02-09T07:07:25.277Z"
   },
   {
    "duration": 23,
    "start_time": "2025-02-09T07:07:25.432Z"
   },
   {
    "duration": 32,
    "start_time": "2025-02-09T07:07:25.756Z"
   },
   {
    "duration": 9,
    "start_time": "2025-02-09T07:07:26.084Z"
   },
   {
    "duration": 29,
    "start_time": "2025-02-09T07:07:26.253Z"
   },
   {
    "duration": 15,
    "start_time": "2025-02-09T07:07:26.587Z"
   },
   {
    "duration": 10,
    "start_time": "2025-02-09T07:07:26.748Z"
   },
   {
    "duration": 15,
    "start_time": "2025-02-09T07:07:26.933Z"
   },
   {
    "duration": 7,
    "start_time": "2025-02-09T07:07:27.084Z"
   },
   {
    "duration": 10,
    "start_time": "2025-02-09T07:07:27.396Z"
   },
   {
    "duration": 8,
    "start_time": "2025-02-09T07:07:27.555Z"
   },
   {
    "duration": 67,
    "start_time": "2025-02-09T07:07:27.867Z"
   },
   {
    "duration": 8,
    "start_time": "2025-02-09T07:07:36.910Z"
   },
   {
    "duration": 5,
    "start_time": "2025-02-09T07:07:37.181Z"
   },
   {
    "duration": 5,
    "start_time": "2025-02-09T07:07:37.741Z"
   },
   {
    "duration": 5,
    "start_time": "2025-02-09T07:07:38.020Z"
   },
   {
    "duration": 156,
    "start_time": "2025-02-09T07:07:38.501Z"
   },
   {
    "duration": 10,
    "start_time": "2025-02-09T07:07:38.764Z"
   },
   {
    "duration": 19,
    "start_time": "2025-02-09T07:07:38.988Z"
   },
   {
    "duration": 6,
    "start_time": "2025-02-09T07:07:39.228Z"
   },
   {
    "duration": 113,
    "start_time": "2025-02-09T07:07:39.469Z"
   },
   {
    "duration": 172,
    "start_time": "2025-02-09T07:07:40.228Z"
   },
   {
    "duration": 4,
    "start_time": "2025-02-09T07:07:41.461Z"
   },
   {
    "duration": 49,
    "start_time": "2025-02-09T07:07:41.684Z"
   },
   {
    "duration": 56,
    "start_time": "2025-02-09T07:07:41.907Z"
   },
   {
    "duration": 98,
    "start_time": "2025-02-09T07:07:42.116Z"
   },
   {
    "duration": 27,
    "start_time": "2025-02-09T07:07:42.540Z"
   },
   {
    "duration": 76,
    "start_time": "2025-02-09T07:07:42.853Z"
   },
   {
    "duration": 85,
    "start_time": "2025-02-09T07:07:43.373Z"
   },
   {
    "duration": 37,
    "start_time": "2025-02-09T07:07:44.772Z"
   },
   {
    "duration": 406,
    "start_time": "2025-02-09T07:07:45.469Z"
   },
   {
    "duration": 83,
    "start_time": "2025-02-09T07:07:53.454Z"
   },
   {
    "duration": 59,
    "start_time": "2025-02-09T07:07:54.252Z"
   },
   {
    "duration": 13,
    "start_time": "2025-02-09T07:07:54.796Z"
   },
   {
    "duration": 741,
    "start_time": "2025-02-09T07:07:56.381Z"
   },
   {
    "duration": 16,
    "start_time": "2025-02-09T07:07:59.317Z"
   },
   {
    "duration": 33,
    "start_time": "2025-02-09T07:08:10.093Z"
   },
   {
    "duration": 88,
    "start_time": "2025-02-09T07:19:24.102Z"
   },
   {
    "duration": 52,
    "start_time": "2025-02-11T14:36:25.292Z"
   },
   {
    "duration": 3883,
    "start_time": "2025-02-11T14:36:38.339Z"
   },
   {
    "duration": 1420,
    "start_time": "2025-02-11T14:36:42.224Z"
   },
   {
    "duration": 3435,
    "start_time": "2025-02-11T14:36:43.645Z"
   },
   {
    "duration": 6,
    "start_time": "2025-02-11T14:36:47.084Z"
   },
   {
    "duration": 26,
    "start_time": "2025-02-11T14:36:47.092Z"
   },
   {
    "duration": 18,
    "start_time": "2025-02-11T14:36:47.121Z"
   },
   {
    "duration": 91,
    "start_time": "2025-02-11T14:36:47.141Z"
   },
   {
    "duration": 38,
    "start_time": "2025-02-11T14:36:47.234Z"
   },
   {
    "duration": 110,
    "start_time": "2025-02-11T14:36:47.274Z"
   },
   {
    "duration": 12,
    "start_time": "2025-02-11T14:36:47.388Z"
   },
   {
    "duration": 10,
    "start_time": "2025-02-11T14:36:47.402Z"
   },
   {
    "duration": 62,
    "start_time": "2025-02-11T14:36:47.414Z"
   },
   {
    "duration": 107,
    "start_time": "2025-02-11T14:36:47.479Z"
   },
   {
    "duration": 6,
    "start_time": "2025-02-11T14:36:47.588Z"
   },
   {
    "duration": 21,
    "start_time": "2025-02-11T14:36:47.596Z"
   },
   {
    "duration": 8,
    "start_time": "2025-02-11T14:36:47.620Z"
   },
   {
    "duration": 450,
    "start_time": "2025-02-11T14:36:47.630Z"
   },
   {
    "duration": 52,
    "start_time": "2025-02-11T14:36:48.083Z"
   },
   {
    "duration": 17,
    "start_time": "2025-02-11T14:36:48.138Z"
   },
   {
    "duration": 61,
    "start_time": "2025-02-11T14:36:48.157Z"
   },
   {
    "duration": 178,
    "start_time": "2025-02-11T14:36:48.220Z"
   },
   {
    "duration": 21,
    "start_time": "2025-02-11T14:36:48.399Z"
   },
   {
    "duration": 9,
    "start_time": "2025-02-11T14:36:48.422Z"
   },
   {
    "duration": 20,
    "start_time": "2025-02-11T14:36:48.433Z"
   },
   {
    "duration": 50,
    "start_time": "2025-02-11T14:36:48.476Z"
   },
   {
    "duration": 24,
    "start_time": "2025-02-11T14:36:48.528Z"
   },
   {
    "duration": 13,
    "start_time": "2025-02-11T14:36:48.574Z"
   },
   {
    "duration": 33,
    "start_time": "2025-02-11T14:36:48.593Z"
   },
   {
    "duration": 69,
    "start_time": "2025-02-11T14:36:48.628Z"
   },
   {
    "duration": 14,
    "start_time": "2025-02-11T14:36:48.700Z"
   },
   {
    "duration": 11,
    "start_time": "2025-02-11T14:36:48.717Z"
   },
   {
    "duration": 88,
    "start_time": "2025-02-11T14:36:48.730Z"
   },
   {
    "duration": 7,
    "start_time": "2025-02-11T14:36:48.820Z"
   },
   {
    "duration": 16,
    "start_time": "2025-02-11T14:36:48.829Z"
   },
   {
    "duration": 11,
    "start_time": "2025-02-11T14:36:48.847Z"
   },
   {
    "duration": 67,
    "start_time": "2025-02-11T14:36:48.860Z"
   },
   {
    "duration": 36,
    "start_time": "2025-02-11T14:36:48.929Z"
   },
   {
    "duration": 9,
    "start_time": "2025-02-11T14:36:48.966Z"
   },
   {
    "duration": 38,
    "start_time": "2025-02-11T14:36:48.976Z"
   },
   {
    "duration": 6,
    "start_time": "2025-02-11T14:36:49.016Z"
   },
   {
    "duration": 8,
    "start_time": "2025-02-11T14:36:49.024Z"
   },
   {
    "duration": 159,
    "start_time": "2025-02-11T14:36:49.034Z"
   },
   {
    "duration": 10,
    "start_time": "2025-02-11T14:36:49.195Z"
   },
   {
    "duration": 86,
    "start_time": "2025-02-11T14:36:49.207Z"
   },
   {
    "duration": 6,
    "start_time": "2025-02-11T14:36:49.295Z"
   },
   {
    "duration": 136,
    "start_time": "2025-02-11T14:36:49.303Z"
   },
   {
    "duration": 198,
    "start_time": "2025-02-11T14:36:49.441Z"
   },
   {
    "duration": 4,
    "start_time": "2025-02-11T14:36:49.641Z"
   },
   {
    "duration": 172,
    "start_time": "2025-02-11T14:36:49.647Z"
   },
   {
    "duration": 68,
    "start_time": "2025-02-11T14:36:49.821Z"
   },
   {
    "duration": 117,
    "start_time": "2025-02-11T14:36:49.890Z"
   },
   {
    "duration": 36,
    "start_time": "2025-02-11T14:36:50.009Z"
   },
   {
    "duration": 110,
    "start_time": "2025-02-11T14:36:50.047Z"
   },
   {
    "duration": 95,
    "start_time": "2025-02-11T14:36:50.159Z"
   },
   {
    "duration": 93,
    "start_time": "2025-02-11T14:36:50.256Z"
   },
   {
    "duration": 437,
    "start_time": "2025-02-11T14:36:50.351Z"
   },
   {
    "duration": 97,
    "start_time": "2025-02-11T14:36:50.789Z"
   },
   {
    "duration": 65,
    "start_time": "2025-02-11T14:36:50.888Z"
   },
   {
    "duration": 26,
    "start_time": "2025-02-11T14:36:50.955Z"
   },
   {
    "duration": 864,
    "start_time": "2025-02-11T14:36:50.983Z"
   },
   {
    "duration": 48,
    "start_time": "2025-02-11T14:36:51.849Z"
   },
   {
    "duration": 47,
    "start_time": "2025-02-11T14:36:51.899Z"
   },
   {
    "duration": 155,
    "start_time": "2025-02-11T14:36:51.948Z"
   },
   {
    "duration": 77,
    "start_time": "2025-02-11T14:36:52.104Z"
   },
   {
    "duration": 8,
    "start_time": "2025-02-11T14:36:52.183Z"
   },
   {
    "duration": 27,
    "start_time": "2025-02-11T14:36:52.193Z"
   },
   {
    "duration": 20,
    "start_time": "2025-02-11T14:36:52.222Z"
   },
   {
    "duration": 7,
    "start_time": "2025-02-11T14:36:52.243Z"
   },
   {
    "duration": 35,
    "start_time": "2025-02-11T14:36:52.252Z"
   },
   {
    "duration": 80,
    "start_time": "2025-02-11T14:36:52.288Z"
   },
   {
    "duration": 11,
    "start_time": "2025-02-11T14:36:52.369Z"
   },
   {
    "duration": 45,
    "start_time": "2025-02-11T14:36:52.382Z"
   },
   {
    "duration": 9,
    "start_time": "2025-02-11T14:36:52.429Z"
   },
   {
    "duration": 87,
    "start_time": "2025-02-11T14:36:52.439Z"
   },
   {
    "duration": 8,
    "start_time": "2025-02-11T14:36:52.528Z"
   },
   {
    "duration": 71,
    "start_time": "2025-02-11T14:36:52.538Z"
   },
   {
    "duration": 13,
    "start_time": "2025-02-11T14:36:52.611Z"
   },
   {
    "duration": 160,
    "start_time": "2025-02-11T14:36:52.626Z"
   },
   {
    "duration": 17,
    "start_time": "2025-02-11T14:36:52.788Z"
   },
   {
    "duration": 42,
    "start_time": "2025-02-11T14:36:52.807Z"
   },
   {
    "duration": 124,
    "start_time": "2025-02-11T14:36:52.851Z"
   },
   {
    "duration": 34,
    "start_time": "2025-02-11T14:36:52.981Z"
   },
   {
    "duration": 74,
    "start_time": "2025-02-11T14:36:53.017Z"
   },
   {
    "duration": 45,
    "start_time": "2025-02-11T14:36:53.093Z"
   },
   {
    "duration": 4,
    "start_time": "2025-02-11T14:36:53.140Z"
   },
   {
    "duration": 147,
    "start_time": "2025-02-11T14:36:53.146Z"
   },
   {
    "duration": 40,
    "start_time": "2025-02-11T14:36:53.295Z"
   },
   {
    "duration": 251,
    "start_time": "2025-02-11T14:36:53.337Z"
   },
   {
    "duration": 3,
    "start_time": "2025-02-11T14:36:53.590Z"
   },
   {
    "duration": 49,
    "start_time": "2025-02-11T14:36:53.595Z"
   },
   {
    "duration": 256,
    "start_time": "2025-02-11T14:36:53.645Z"
   },
   {
    "duration": 5,
    "start_time": "2025-02-11T14:36:53.902Z"
   },
   {
    "duration": 68,
    "start_time": "2025-02-11T14:36:53.908Z"
   },
   {
    "duration": 4,
    "start_time": "2025-02-11T14:36:53.977Z"
   },
   {
    "duration": 29,
    "start_time": "2025-02-11T14:36:53.983Z"
   },
   {
    "duration": 68,
    "start_time": "2025-02-11T14:36:54.014Z"
   },
   {
    "duration": 5,
    "start_time": "2025-02-11T14:36:54.084Z"
   },
   {
    "duration": 32,
    "start_time": "2025-02-11T14:36:54.091Z"
   },
   {
    "duration": 97,
    "start_time": "2025-02-11T14:36:54.125Z"
   },
   {
    "duration": 51,
    "start_time": "2025-02-11T14:36:54.224Z"
   },
   {
    "duration": 3,
    "start_time": "2025-02-11T14:36:54.277Z"
   },
   {
    "duration": 21,
    "start_time": "2025-02-11T14:36:54.282Z"
   },
   {
    "duration": 607,
    "start_time": "2025-02-11T14:36:54.305Z"
   },
   {
    "duration": 619,
    "start_time": "2025-02-11T14:36:54.914Z"
   },
   {
    "duration": 19,
    "start_time": "2025-02-11T14:36:55.535Z"
   },
   {
    "duration": 26,
    "start_time": "2025-02-11T14:36:55.556Z"
   },
   {
    "duration": 12,
    "start_time": "2025-02-11T14:36:55.584Z"
   },
   {
    "duration": 8,
    "start_time": "2025-02-11T14:36:55.598Z"
   },
   {
    "duration": 4,
    "start_time": "2025-02-11T14:36:55.608Z"
   },
   {
    "duration": 36,
    "start_time": "2025-02-11T14:36:55.614Z"
   },
   {
    "duration": 28,
    "start_time": "2025-02-11T14:36:55.652Z"
   },
   {
    "duration": 79,
    "start_time": "2025-02-11T14:36:55.682Z"
   },
   {
    "duration": 28,
    "start_time": "2025-02-11T14:36:55.763Z"
   },
   {
    "duration": 134,
    "start_time": "2025-02-11T14:36:55.794Z"
   },
   {
    "duration": 16,
    "start_time": "2025-02-11T14:36:55.930Z"
   },
   {
    "duration": 33,
    "start_time": "2025-02-11T14:36:55.948Z"
   },
   {
    "duration": 14,
    "start_time": "2025-02-11T14:36:55.982Z"
   },
   {
    "duration": 25,
    "start_time": "2025-02-11T14:36:55.998Z"
   },
   {
    "duration": 164,
    "start_time": "2025-02-11T14:36:56.026Z"
   },
   {
    "duration": 0,
    "start_time": "2025-02-11T14:36:56.192Z"
   },
   {
    "duration": 0,
    "start_time": "2025-02-11T14:36:56.194Z"
   },
   {
    "duration": 0,
    "start_time": "2025-02-11T14:36:56.195Z"
   },
   {
    "duration": 0,
    "start_time": "2025-02-11T14:36:56.197Z"
   },
   {
    "duration": 0,
    "start_time": "2025-02-11T14:36:56.199Z"
   },
   {
    "duration": 0,
    "start_time": "2025-02-11T14:36:56.200Z"
   },
   {
    "duration": 0,
    "start_time": "2025-02-11T14:36:56.201Z"
   },
   {
    "duration": 0,
    "start_time": "2025-02-11T14:36:56.202Z"
   },
   {
    "duration": 0,
    "start_time": "2025-02-11T14:36:56.203Z"
   },
   {
    "duration": 435,
    "start_time": "2025-02-11T14:38:09.652Z"
   },
   {
    "duration": 118,
    "start_time": "2025-02-11T14:39:09.359Z"
   },
   {
    "duration": 116,
    "start_time": "2025-02-11T14:39:34.120Z"
   },
   {
    "duration": 132,
    "start_time": "2025-02-11T14:42:06.268Z"
   },
   {
    "duration": 5,
    "start_time": "2025-02-11T14:47:16.281Z"
   },
   {
    "duration": 493,
    "start_time": "2025-02-11T14:47:51.009Z"
   },
   {
    "duration": 114,
    "start_time": "2025-02-11T14:48:02.760Z"
   },
   {
    "duration": 120,
    "start_time": "2025-02-11T14:48:04.938Z"
   },
   {
    "duration": 19,
    "start_time": "2025-02-11T14:54:35.288Z"
   },
   {
    "duration": 13,
    "start_time": "2025-02-11T14:54:44.733Z"
   },
   {
    "duration": 14,
    "start_time": "2025-02-11T14:54:51.335Z"
   },
   {
    "duration": 11,
    "start_time": "2025-02-11T14:56:00.508Z"
   },
   {
    "duration": 11,
    "start_time": "2025-02-11T14:56:14.031Z"
   },
   {
    "duration": 13,
    "start_time": "2025-02-11T14:56:32.053Z"
   },
   {
    "duration": 6,
    "start_time": "2025-02-11T14:56:39.202Z"
   },
   {
    "duration": 10,
    "start_time": "2025-02-11T14:56:47.226Z"
   },
   {
    "duration": 11,
    "start_time": "2025-02-11T14:57:07.200Z"
   },
   {
    "duration": 12,
    "start_time": "2025-02-11T14:57:43.920Z"
   },
   {
    "duration": 18,
    "start_time": "2025-02-11T14:57:48.347Z"
   },
   {
    "duration": 11,
    "start_time": "2025-02-11T14:58:46.916Z"
   },
   {
    "duration": 18,
    "start_time": "2025-02-11T14:58:50.926Z"
   },
   {
    "duration": 24,
    "start_time": "2025-02-11T14:59:01.344Z"
   },
   {
    "duration": 20,
    "start_time": "2025-02-11T14:59:22.010Z"
   },
   {
    "duration": 5,
    "start_time": "2025-02-11T15:00:05.102Z"
   },
   {
    "duration": 7,
    "start_time": "2025-02-11T15:00:09.962Z"
   },
   {
    "duration": 11,
    "start_time": "2025-02-11T15:00:24.825Z"
   },
   {
    "duration": 12,
    "start_time": "2025-02-11T15:01:02.637Z"
   },
   {
    "duration": 11,
    "start_time": "2025-02-11T15:01:06.064Z"
   },
   {
    "duration": 20,
    "start_time": "2025-02-11T15:01:11.433Z"
   },
   {
    "duration": 17,
    "start_time": "2025-02-11T15:02:01.124Z"
   },
   {
    "duration": 14,
    "start_time": "2025-02-11T15:02:45.991Z"
   },
   {
    "duration": 17,
    "start_time": "2025-02-11T15:02:54.343Z"
   },
   {
    "duration": 188,
    "start_time": "2025-02-11T15:03:06.509Z"
   },
   {
    "duration": 195,
    "start_time": "2025-02-11T15:03:19.044Z"
   },
   {
    "duration": 201,
    "start_time": "2025-02-11T15:03:23.248Z"
   },
   {
    "duration": 12,
    "start_time": "2025-02-11T15:03:32.293Z"
   },
   {
    "duration": 7,
    "start_time": "2025-02-11T15:07:33.354Z"
   },
   {
    "duration": 21,
    "start_time": "2025-02-11T15:11:04.561Z"
   },
   {
    "duration": 44,
    "start_time": "2025-02-11T15:12:01.552Z"
   },
   {
    "duration": 8,
    "start_time": "2025-02-11T15:12:09.711Z"
   },
   {
    "duration": 8,
    "start_time": "2025-02-11T15:13:10.404Z"
   },
   {
    "duration": 9,
    "start_time": "2025-02-11T15:14:16.736Z"
   },
   {
    "duration": 12,
    "start_time": "2025-02-11T15:14:32.560Z"
   },
   {
    "duration": 11,
    "start_time": "2025-02-11T15:14:37.942Z"
   },
   {
    "duration": 8,
    "start_time": "2025-02-11T15:15:48.740Z"
   },
   {
    "duration": 8,
    "start_time": "2025-02-11T15:16:57.487Z"
   },
   {
    "duration": 22,
    "start_time": "2025-02-11T15:17:19.258Z"
   },
   {
    "duration": 15,
    "start_time": "2025-02-11T15:17:35.423Z"
   },
   {
    "duration": 15,
    "start_time": "2025-02-11T15:17:49.329Z"
   },
   {
    "duration": 20,
    "start_time": "2025-02-11T15:18:01.681Z"
   },
   {
    "duration": 8,
    "start_time": "2025-02-11T15:18:47.342Z"
   },
   {
    "duration": 8,
    "start_time": "2025-02-11T15:18:50.852Z"
   },
   {
    "duration": 8,
    "start_time": "2025-02-11T15:18:52.944Z"
   },
   {
    "duration": 6,
    "start_time": "2025-02-11T15:21:46.247Z"
   },
   {
    "duration": 6,
    "start_time": "2025-02-11T15:21:50.412Z"
   },
   {
    "duration": 6,
    "start_time": "2025-02-11T15:23:16.101Z"
   },
   {
    "duration": 7,
    "start_time": "2025-02-11T15:24:22.119Z"
   },
   {
    "duration": 15,
    "start_time": "2025-02-11T15:25:02.195Z"
   },
   {
    "duration": 69,
    "start_time": "2025-02-11T15:28:37.168Z"
   },
   {
    "duration": 612,
    "start_time": "2025-02-11T15:29:58.406Z"
   },
   {
    "duration": 734,
    "start_time": "2025-02-11T15:31:27.635Z"
   },
   {
    "duration": 690,
    "start_time": "2025-02-11T15:31:39.055Z"
   },
   {
    "duration": 772,
    "start_time": "2025-02-11T15:31:47.569Z"
   },
   {
    "duration": 715,
    "start_time": "2025-02-11T15:33:10.552Z"
   },
   {
    "duration": 772,
    "start_time": "2025-02-11T15:33:25.402Z"
   },
   {
    "duration": 764,
    "start_time": "2025-02-11T15:33:35.013Z"
   },
   {
    "duration": 694,
    "start_time": "2025-02-11T15:33:41.983Z"
   },
   {
    "duration": 765,
    "start_time": "2025-02-11T15:33:48.173Z"
   },
   {
    "duration": 85,
    "start_time": "2025-02-11T15:35:07.063Z"
   },
   {
    "duration": 2654,
    "start_time": "2025-02-11T15:35:20.848Z"
   },
   {
    "duration": 1200,
    "start_time": "2025-02-11T15:35:23.504Z"
   },
   {
    "duration": 3159,
    "start_time": "2025-02-11T15:35:24.706Z"
   },
   {
    "duration": 6,
    "start_time": "2025-02-11T15:35:27.867Z"
   },
   {
    "duration": 12,
    "start_time": "2025-02-11T15:35:27.875Z"
   },
   {
    "duration": 15,
    "start_time": "2025-02-11T15:35:27.889Z"
   },
   {
    "duration": 77,
    "start_time": "2025-02-11T15:35:27.907Z"
   },
   {
    "duration": 11,
    "start_time": "2025-02-11T15:35:27.987Z"
   },
   {
    "duration": 130,
    "start_time": "2025-02-11T15:35:28.000Z"
   },
   {
    "duration": 12,
    "start_time": "2025-02-11T15:35:28.133Z"
   },
   {
    "duration": 9,
    "start_time": "2025-02-11T15:35:28.146Z"
   },
   {
    "duration": 49,
    "start_time": "2025-02-11T15:35:28.156Z"
   },
   {
    "duration": 124,
    "start_time": "2025-02-11T15:35:28.207Z"
   },
   {
    "duration": 5,
    "start_time": "2025-02-11T15:35:28.333Z"
   },
   {
    "duration": 15,
    "start_time": "2025-02-11T15:35:28.340Z"
   },
   {
    "duration": 20,
    "start_time": "2025-02-11T15:35:28.356Z"
   },
   {
    "duration": 405,
    "start_time": "2025-02-11T15:35:28.378Z"
   },
   {
    "duration": 39,
    "start_time": "2025-02-11T15:35:28.785Z"
   },
   {
    "duration": 12,
    "start_time": "2025-02-11T15:35:28.826Z"
   },
   {
    "duration": 70,
    "start_time": "2025-02-11T15:35:28.840Z"
   },
   {
    "duration": 153,
    "start_time": "2025-02-11T15:35:28.911Z"
   },
   {
    "duration": 26,
    "start_time": "2025-02-11T15:35:29.066Z"
   },
   {
    "duration": 26,
    "start_time": "2025-02-11T15:35:29.093Z"
   },
   {
    "duration": 27,
    "start_time": "2025-02-11T15:35:29.121Z"
   },
   {
    "duration": 37,
    "start_time": "2025-02-11T15:35:29.150Z"
   },
   {
    "duration": 23,
    "start_time": "2025-02-11T15:35:29.190Z"
   },
   {
    "duration": 8,
    "start_time": "2025-02-11T15:35:29.214Z"
   },
   {
    "duration": 26,
    "start_time": "2025-02-11T15:35:29.226Z"
   },
   {
    "duration": 60,
    "start_time": "2025-02-11T15:35:29.274Z"
   },
   {
    "duration": 13,
    "start_time": "2025-02-11T15:35:29.335Z"
   },
   {
    "duration": 30,
    "start_time": "2025-02-11T15:35:29.349Z"
   },
   {
    "duration": 16,
    "start_time": "2025-02-11T15:35:29.381Z"
   },
   {
    "duration": 5,
    "start_time": "2025-02-11T15:35:29.399Z"
   },
   {
    "duration": 12,
    "start_time": "2025-02-11T15:35:29.406Z"
   },
   {
    "duration": 9,
    "start_time": "2025-02-11T15:35:29.420Z"
   },
   {
    "duration": 7,
    "start_time": "2025-02-11T15:35:29.430Z"
   },
   {
    "duration": 53,
    "start_time": "2025-02-11T15:35:29.438Z"
   },
   {
    "duration": 6,
    "start_time": "2025-02-11T15:35:29.493Z"
   },
   {
    "duration": 10,
    "start_time": "2025-02-11T15:35:29.500Z"
   },
   {
    "duration": 19,
    "start_time": "2025-02-11T15:35:29.511Z"
   },
   {
    "duration": 7,
    "start_time": "2025-02-11T15:35:29.531Z"
   },
   {
    "duration": 141,
    "start_time": "2025-02-11T15:35:29.539Z"
   },
   {
    "duration": 9,
    "start_time": "2025-02-11T15:35:29.682Z"
   },
   {
    "duration": 19,
    "start_time": "2025-02-11T15:35:29.692Z"
   },
   {
    "duration": 8,
    "start_time": "2025-02-11T15:35:29.713Z"
   },
   {
    "duration": 135,
    "start_time": "2025-02-11T15:35:29.723Z"
   },
   {
    "duration": 186,
    "start_time": "2025-02-11T15:35:29.860Z"
   },
   {
    "duration": 5,
    "start_time": "2025-02-11T15:35:30.048Z"
   },
   {
    "duration": 134,
    "start_time": "2025-02-11T15:35:30.055Z"
   },
   {
    "duration": 60,
    "start_time": "2025-02-11T15:35:30.191Z"
   },
   {
    "duration": 122,
    "start_time": "2025-02-11T15:35:30.253Z"
   },
   {
    "duration": 33,
    "start_time": "2025-02-11T15:35:30.377Z"
   },
   {
    "duration": 101,
    "start_time": "2025-02-11T15:35:30.412Z"
   },
   {
    "duration": 96,
    "start_time": "2025-02-11T15:35:30.515Z"
   },
   {
    "duration": 43,
    "start_time": "2025-02-11T15:35:30.613Z"
   },
   {
    "duration": 442,
    "start_time": "2025-02-11T15:35:30.658Z"
   },
   {
    "duration": 93,
    "start_time": "2025-02-11T15:35:31.102Z"
   },
   {
    "duration": 64,
    "start_time": "2025-02-11T15:35:31.197Z"
   },
   {
    "duration": 22,
    "start_time": "2025-02-11T15:35:31.275Z"
   },
   {
    "duration": 881,
    "start_time": "2025-02-11T15:35:31.299Z"
   },
   {
    "duration": 44,
    "start_time": "2025-02-11T15:35:32.182Z"
   },
   {
    "duration": 62,
    "start_time": "2025-02-11T15:35:32.228Z"
   },
   {
    "duration": 127,
    "start_time": "2025-02-11T15:35:32.292Z"
   },
   {
    "duration": 62,
    "start_time": "2025-02-11T15:35:32.421Z"
   },
   {
    "duration": 7,
    "start_time": "2025-02-11T15:35:32.485Z"
   },
   {
    "duration": 3,
    "start_time": "2025-02-11T15:35:32.494Z"
   },
   {
    "duration": 12,
    "start_time": "2025-02-11T15:35:32.499Z"
   },
   {
    "duration": 13,
    "start_time": "2025-02-11T15:35:32.512Z"
   },
   {
    "duration": 29,
    "start_time": "2025-02-11T15:35:32.526Z"
   },
   {
    "duration": 78,
    "start_time": "2025-02-11T15:35:32.556Z"
   },
   {
    "duration": 10,
    "start_time": "2025-02-11T15:35:32.635Z"
   },
   {
    "duration": 43,
    "start_time": "2025-02-11T15:35:32.647Z"
   },
   {
    "duration": 19,
    "start_time": "2025-02-11T15:35:32.692Z"
   },
   {
    "duration": 75,
    "start_time": "2025-02-11T15:35:32.713Z"
   },
   {
    "duration": 8,
    "start_time": "2025-02-11T15:35:32.789Z"
   },
   {
    "duration": 75,
    "start_time": "2025-02-11T15:35:32.799Z"
   },
   {
    "duration": 6,
    "start_time": "2025-02-11T15:35:32.876Z"
   },
   {
    "duration": 150,
    "start_time": "2025-02-11T15:35:32.884Z"
   },
   {
    "duration": 18,
    "start_time": "2025-02-11T15:35:33.035Z"
   },
   {
    "duration": 39,
    "start_time": "2025-02-11T15:35:33.054Z"
   },
   {
    "duration": 122,
    "start_time": "2025-02-11T15:35:33.094Z"
   },
   {
    "duration": 21,
    "start_time": "2025-02-11T15:35:33.224Z"
   },
   {
    "duration": 83,
    "start_time": "2025-02-11T15:35:33.247Z"
   },
   {
    "duration": 30,
    "start_time": "2025-02-11T15:35:33.332Z"
   },
   {
    "duration": 50,
    "start_time": "2025-02-11T15:35:33.363Z"
   },
   {
    "duration": 10,
    "start_time": "2025-02-11T15:35:33.415Z"
   },
   {
    "duration": 44,
    "start_time": "2025-02-11T15:35:33.427Z"
   },
   {
    "duration": 251,
    "start_time": "2025-02-11T15:35:33.473Z"
   },
   {
    "duration": 4,
    "start_time": "2025-02-11T15:35:33.726Z"
   },
   {
    "duration": 63,
    "start_time": "2025-02-11T15:35:33.731Z"
   },
   {
    "duration": 283,
    "start_time": "2025-02-11T15:35:33.795Z"
   },
   {
    "duration": 4,
    "start_time": "2025-02-11T15:35:34.079Z"
   },
   {
    "duration": 110,
    "start_time": "2025-02-11T15:35:34.084Z"
   },
   {
    "duration": 3,
    "start_time": "2025-02-11T15:35:34.196Z"
   },
   {
    "duration": 29,
    "start_time": "2025-02-11T15:35:34.201Z"
   },
   {
    "duration": 66,
    "start_time": "2025-02-11T15:35:34.232Z"
   },
   {
    "duration": 4,
    "start_time": "2025-02-11T15:35:34.299Z"
   },
   {
    "duration": 36,
    "start_time": "2025-02-11T15:35:34.304Z"
   },
   {
    "duration": 81,
    "start_time": "2025-02-11T15:35:34.342Z"
   },
   {
    "duration": 38,
    "start_time": "2025-02-11T15:35:34.424Z"
   },
   {
    "duration": 12,
    "start_time": "2025-02-11T15:35:34.463Z"
   },
   {
    "duration": 22,
    "start_time": "2025-02-11T15:35:34.476Z"
   },
   {
    "duration": 533,
    "start_time": "2025-02-11T15:35:34.500Z"
   },
   {
    "duration": 747,
    "start_time": "2025-02-11T15:35:35.034Z"
   },
   {
    "duration": 15,
    "start_time": "2025-02-11T15:35:35.783Z"
   },
   {
    "duration": 7,
    "start_time": "2025-02-11T15:35:35.800Z"
   },
   {
    "duration": 16,
    "start_time": "2025-02-11T15:35:35.808Z"
   },
   {
    "duration": 20,
    "start_time": "2025-02-11T15:35:35.826Z"
   },
   {
    "duration": 47,
    "start_time": "2025-02-11T15:35:35.847Z"
   },
   {
    "duration": 37,
    "start_time": "2025-02-11T15:35:35.896Z"
   },
   {
    "duration": 7,
    "start_time": "2025-02-11T15:35:35.935Z"
   },
   {
    "duration": 15,
    "start_time": "2025-02-11T15:35:35.944Z"
   },
   {
    "duration": 18,
    "start_time": "2025-02-11T15:35:35.961Z"
   },
   {
    "duration": 34,
    "start_time": "2025-02-11T15:35:35.981Z"
   },
   {
    "duration": 97,
    "start_time": "2025-02-11T15:35:36.017Z"
   },
   {
    "duration": 170,
    "start_time": "2025-02-11T15:35:36.115Z"
   },
   {
    "duration": 6,
    "start_time": "2025-02-11T15:35:36.286Z"
   },
   {
    "duration": 42,
    "start_time": "2025-02-11T15:35:36.293Z"
   },
   {
    "duration": 11,
    "start_time": "2025-02-11T15:35:36.337Z"
   },
   {
    "duration": 48,
    "start_time": "2025-02-11T15:35:36.350Z"
   },
   {
    "duration": 11,
    "start_time": "2025-02-11T15:35:36.399Z"
   },
   {
    "duration": 11,
    "start_time": "2025-02-11T15:35:36.412Z"
   },
   {
    "duration": 10,
    "start_time": "2025-02-11T15:35:36.425Z"
   },
   {
    "duration": 219,
    "start_time": "2025-02-11T15:35:36.437Z"
   },
   {
    "duration": 22,
    "start_time": "2025-02-11T15:35:36.658Z"
   },
   {
    "duration": 14,
    "start_time": "2025-02-11T15:35:36.682Z"
   },
   {
    "duration": 8,
    "start_time": "2025-02-11T15:35:36.698Z"
   },
   {
    "duration": 123,
    "start_time": "2025-02-11T15:35:36.707Z"
   },
   {
    "duration": 0,
    "start_time": "2025-02-11T15:35:36.831Z"
   },
   {
    "duration": 0,
    "start_time": "2025-02-11T15:35:36.832Z"
   },
   {
    "duration": 0,
    "start_time": "2025-02-11T15:35:36.833Z"
   },
   {
    "duration": 0,
    "start_time": "2025-02-11T15:35:36.834Z"
   },
   {
    "duration": 0,
    "start_time": "2025-02-11T15:35:36.835Z"
   },
   {
    "duration": 207,
    "start_time": "2025-02-11T15:36:08.177Z"
   },
   {
    "duration": 176,
    "start_time": "2025-02-11T15:37:05.214Z"
   },
   {
    "duration": 177,
    "start_time": "2025-02-11T15:37:10.092Z"
   },
   {
    "duration": 202,
    "start_time": "2025-02-11T15:37:55.791Z"
   },
   {
    "duration": 13,
    "start_time": "2025-02-11T15:38:12.227Z"
   },
   {
    "duration": 15,
    "start_time": "2025-02-11T15:38:14.152Z"
   },
   {
    "duration": 8,
    "start_time": "2025-02-11T15:38:18.436Z"
   },
   {
    "duration": 17,
    "start_time": "2025-02-11T15:38:20.238Z"
   },
   {
    "duration": 291,
    "start_time": "2025-02-11T15:38:26.998Z"
   },
   {
    "duration": 2388,
    "start_time": "2025-02-11T15:38:41.255Z"
   },
   {
    "duration": 1149,
    "start_time": "2025-02-11T15:38:43.645Z"
   },
   {
    "duration": 2425,
    "start_time": "2025-02-11T15:38:44.796Z"
   },
   {
    "duration": 6,
    "start_time": "2025-02-11T15:38:47.223Z"
   },
   {
    "duration": 13,
    "start_time": "2025-02-11T15:38:47.232Z"
   },
   {
    "duration": 33,
    "start_time": "2025-02-11T15:38:47.246Z"
   },
   {
    "duration": 50,
    "start_time": "2025-02-11T15:38:47.281Z"
   },
   {
    "duration": 9,
    "start_time": "2025-02-11T15:38:47.333Z"
   },
   {
    "duration": 119,
    "start_time": "2025-02-11T15:38:47.343Z"
   },
   {
    "duration": 19,
    "start_time": "2025-02-11T15:38:47.464Z"
   },
   {
    "duration": 10,
    "start_time": "2025-02-11T15:38:47.485Z"
   },
   {
    "duration": 31,
    "start_time": "2025-02-11T15:38:47.497Z"
   },
   {
    "duration": 123,
    "start_time": "2025-02-11T15:38:47.530Z"
   },
   {
    "duration": 6,
    "start_time": "2025-02-11T15:38:47.657Z"
   },
   {
    "duration": 7,
    "start_time": "2025-02-11T15:38:47.675Z"
   },
   {
    "duration": 6,
    "start_time": "2025-02-11T15:38:47.684Z"
   },
   {
    "duration": 410,
    "start_time": "2025-02-11T15:38:47.692Z"
   },
   {
    "duration": 41,
    "start_time": "2025-02-11T15:38:48.104Z"
   },
   {
    "duration": 28,
    "start_time": "2025-02-11T15:38:48.147Z"
   },
   {
    "duration": 42,
    "start_time": "2025-02-11T15:38:48.177Z"
   },
   {
    "duration": 162,
    "start_time": "2025-02-11T15:38:48.221Z"
   },
   {
    "duration": 19,
    "start_time": "2025-02-11T15:38:48.385Z"
   },
   {
    "duration": 17,
    "start_time": "2025-02-11T15:38:48.406Z"
   },
   {
    "duration": 22,
    "start_time": "2025-02-11T15:38:48.424Z"
   },
   {
    "duration": 52,
    "start_time": "2025-02-11T15:38:48.448Z"
   },
   {
    "duration": 23,
    "start_time": "2025-02-11T15:38:48.501Z"
   },
   {
    "duration": 8,
    "start_time": "2025-02-11T15:38:48.526Z"
   },
   {
    "duration": 45,
    "start_time": "2025-02-11T15:38:48.535Z"
   },
   {
    "duration": 45,
    "start_time": "2025-02-11T15:38:48.581Z"
   },
   {
    "duration": 13,
    "start_time": "2025-02-11T15:38:48.627Z"
   },
   {
    "duration": 11,
    "start_time": "2025-02-11T15:38:48.641Z"
   },
   {
    "duration": 30,
    "start_time": "2025-02-11T15:38:48.653Z"
   },
   {
    "duration": 6,
    "start_time": "2025-02-11T15:38:48.685Z"
   },
   {
    "duration": 19,
    "start_time": "2025-02-11T15:38:48.692Z"
   },
   {
    "duration": 10,
    "start_time": "2025-02-11T15:38:48.712Z"
   },
   {
    "duration": 14,
    "start_time": "2025-02-11T15:38:48.723Z"
   },
   {
    "duration": 37,
    "start_time": "2025-02-11T15:38:48.738Z"
   },
   {
    "duration": 8,
    "start_time": "2025-02-11T15:38:48.776Z"
   },
   {
    "duration": 6,
    "start_time": "2025-02-11T15:38:48.785Z"
   },
   {
    "duration": 5,
    "start_time": "2025-02-11T15:38:48.793Z"
   },
   {
    "duration": 5,
    "start_time": "2025-02-11T15:38:48.804Z"
   },
   {
    "duration": 147,
    "start_time": "2025-02-11T15:38:48.811Z"
   },
   {
    "duration": 17,
    "start_time": "2025-02-11T15:38:48.960Z"
   },
   {
    "duration": 43,
    "start_time": "2025-02-11T15:38:48.979Z"
   },
   {
    "duration": 10,
    "start_time": "2025-02-11T15:38:49.023Z"
   },
   {
    "duration": 108,
    "start_time": "2025-02-11T15:38:49.034Z"
   },
   {
    "duration": 181,
    "start_time": "2025-02-11T15:38:49.144Z"
   },
   {
    "duration": 4,
    "start_time": "2025-02-11T15:38:49.327Z"
   },
   {
    "duration": 61,
    "start_time": "2025-02-11T15:38:49.332Z"
   },
   {
    "duration": 55,
    "start_time": "2025-02-11T15:38:49.394Z"
   },
   {
    "duration": 103,
    "start_time": "2025-02-11T15:38:49.450Z"
   },
   {
    "duration": 34,
    "start_time": "2025-02-11T15:38:49.554Z"
   },
   {
    "duration": 74,
    "start_time": "2025-02-11T15:38:49.590Z"
   },
   {
    "duration": 77,
    "start_time": "2025-02-11T15:38:49.674Z"
   },
   {
    "duration": 51,
    "start_time": "2025-02-11T15:38:49.752Z"
   },
   {
    "duration": 379,
    "start_time": "2025-02-11T15:38:49.804Z"
   },
   {
    "duration": 80,
    "start_time": "2025-02-11T15:38:50.185Z"
   },
   {
    "duration": 57,
    "start_time": "2025-02-11T15:38:50.267Z"
   },
   {
    "duration": 11,
    "start_time": "2025-02-11T15:38:50.326Z"
   },
   {
    "duration": 728,
    "start_time": "2025-02-11T15:38:50.338Z"
   },
   {
    "duration": 38,
    "start_time": "2025-02-11T15:38:51.068Z"
   },
   {
    "duration": 40,
    "start_time": "2025-02-11T15:38:51.107Z"
   },
   {
    "duration": 159,
    "start_time": "2025-02-11T15:38:51.149Z"
   },
   {
    "duration": 78,
    "start_time": "2025-02-11T15:38:51.311Z"
   },
   {
    "duration": 34,
    "start_time": "2025-02-11T15:38:51.391Z"
   },
   {
    "duration": 4,
    "start_time": "2025-02-11T15:38:51.426Z"
   },
   {
    "duration": 10,
    "start_time": "2025-02-11T15:38:51.432Z"
   },
   {
    "duration": 9,
    "start_time": "2025-02-11T15:38:51.443Z"
   },
   {
    "duration": 16,
    "start_time": "2025-02-11T15:38:51.454Z"
   },
   {
    "duration": 65,
    "start_time": "2025-02-11T15:38:51.472Z"
   },
   {
    "duration": 9,
    "start_time": "2025-02-11T15:38:51.539Z"
   },
   {
    "duration": 27,
    "start_time": "2025-02-11T15:38:51.550Z"
   },
   {
    "duration": 7,
    "start_time": "2025-02-11T15:38:51.578Z"
   },
   {
    "duration": 176,
    "start_time": "2025-02-11T15:38:51.587Z"
   },
   {
    "duration": 7,
    "start_time": "2025-02-11T15:38:51.765Z"
   },
   {
    "duration": 69,
    "start_time": "2025-02-11T15:38:51.774Z"
   },
   {
    "duration": 4,
    "start_time": "2025-02-11T15:38:51.845Z"
   },
   {
    "duration": 138,
    "start_time": "2025-02-11T15:38:51.850Z"
   },
   {
    "duration": 16,
    "start_time": "2025-02-11T15:38:51.990Z"
   },
   {
    "duration": 27,
    "start_time": "2025-02-11T15:38:52.007Z"
   },
   {
    "duration": 42,
    "start_time": "2025-02-11T15:38:52.036Z"
   },
   {
    "duration": 69,
    "start_time": "2025-02-11T15:38:52.080Z"
   },
   {
    "duration": 78,
    "start_time": "2025-02-11T15:38:52.151Z"
   },
   {
    "duration": 31,
    "start_time": "2025-02-11T15:38:52.231Z"
   },
   {
    "duration": 13,
    "start_time": "2025-02-11T15:38:52.263Z"
   },
   {
    "duration": 8,
    "start_time": "2025-02-11T15:38:52.277Z"
   },
   {
    "duration": 31,
    "start_time": "2025-02-11T15:38:52.287Z"
   },
   {
    "duration": 242,
    "start_time": "2025-02-11T15:38:52.320Z"
   },
   {
    "duration": 12,
    "start_time": "2025-02-11T15:38:52.563Z"
   },
   {
    "duration": 58,
    "start_time": "2025-02-11T15:38:52.577Z"
   },
   {
    "duration": 261,
    "start_time": "2025-02-11T15:38:52.637Z"
   },
   {
    "duration": 4,
    "start_time": "2025-02-11T15:38:52.899Z"
   },
   {
    "duration": 71,
    "start_time": "2025-02-11T15:38:52.904Z"
   },
   {
    "duration": 4,
    "start_time": "2025-02-11T15:38:52.976Z"
   },
   {
    "duration": 61,
    "start_time": "2025-02-11T15:38:52.981Z"
   },
   {
    "duration": 52,
    "start_time": "2025-02-11T15:38:53.044Z"
   },
   {
    "duration": 3,
    "start_time": "2025-02-11T15:38:53.098Z"
   },
   {
    "duration": 92,
    "start_time": "2025-02-11T15:38:53.103Z"
   },
   {
    "duration": 90,
    "start_time": "2025-02-11T15:38:53.197Z"
   },
   {
    "duration": 40,
    "start_time": "2025-02-11T15:38:53.288Z"
   },
   {
    "duration": 80,
    "start_time": "2025-02-11T15:38:53.330Z"
   },
   {
    "duration": 22,
    "start_time": "2025-02-11T15:38:53.412Z"
   },
   {
    "duration": 550,
    "start_time": "2025-02-11T15:38:53.436Z"
   },
   {
    "duration": 779,
    "start_time": "2025-02-11T15:38:53.987Z"
   },
   {
    "duration": 19,
    "start_time": "2025-02-11T15:38:54.768Z"
   },
   {
    "duration": 8,
    "start_time": "2025-02-11T15:38:54.788Z"
   },
   {
    "duration": 26,
    "start_time": "2025-02-11T15:38:54.797Z"
   },
   {
    "duration": 9,
    "start_time": "2025-02-11T15:38:54.825Z"
   },
   {
    "duration": 10,
    "start_time": "2025-02-11T15:38:54.835Z"
   },
   {
    "duration": 38,
    "start_time": "2025-02-11T15:38:54.847Z"
   },
   {
    "duration": 16,
    "start_time": "2025-02-11T15:38:54.887Z"
   },
   {
    "duration": 12,
    "start_time": "2025-02-11T15:38:54.904Z"
   },
   {
    "duration": 14,
    "start_time": "2025-02-11T15:38:54.918Z"
   },
   {
    "duration": 99,
    "start_time": "2025-02-11T15:38:54.933Z"
   },
   {
    "duration": 105,
    "start_time": "2025-02-11T15:38:55.034Z"
   },
   {
    "duration": 122,
    "start_time": "2025-02-11T15:38:55.141Z"
   },
   {
    "duration": 10,
    "start_time": "2025-02-11T15:38:55.264Z"
   },
   {
    "duration": 31,
    "start_time": "2025-02-11T15:38:55.275Z"
   },
   {
    "duration": 96,
    "start_time": "2025-02-11T15:38:55.308Z"
   },
   {
    "duration": 22,
    "start_time": "2025-02-11T15:38:55.406Z"
   },
   {
    "duration": 10,
    "start_time": "2025-02-11T15:38:55.430Z"
   },
   {
    "duration": 9,
    "start_time": "2025-02-11T15:38:55.447Z"
   },
   {
    "duration": 10,
    "start_time": "2025-02-11T15:38:55.458Z"
   },
   {
    "duration": 198,
    "start_time": "2025-02-11T15:38:55.469Z"
   },
   {
    "duration": 17,
    "start_time": "2025-02-11T15:38:55.669Z"
   },
   {
    "duration": 23,
    "start_time": "2025-02-11T15:38:55.688Z"
   },
   {
    "duration": 8,
    "start_time": "2025-02-11T15:38:55.712Z"
   },
   {
    "duration": 207,
    "start_time": "2025-02-11T15:38:55.722Z"
   },
   {
    "duration": 16,
    "start_time": "2025-02-11T15:38:55.930Z"
   },
   {
    "duration": 9,
    "start_time": "2025-02-11T15:38:55.947Z"
   },
   {
    "duration": 234,
    "start_time": "2025-02-11T15:38:55.957Z"
   },
   {
    "duration": 12,
    "start_time": "2025-02-11T15:38:56.192Z"
   },
   {
    "duration": 246,
    "start_time": "2025-02-11T15:38:56.206Z"
   },
   {
    "duration": 165,
    "start_time": "2025-02-11T15:39:03.871Z"
   },
   {
    "duration": 151,
    "start_time": "2025-02-11T15:39:10.383Z"
   },
   {
    "duration": 245,
    "start_time": "2025-02-11T15:39:14.332Z"
   },
   {
    "duration": 157,
    "start_time": "2025-02-11T15:39:58.792Z"
   },
   {
    "duration": 159,
    "start_time": "2025-02-11T15:40:05.571Z"
   },
   {
    "duration": 166,
    "start_time": "2025-02-11T15:40:15.782Z"
   },
   {
    "duration": 2516,
    "start_time": "2025-02-11T15:40:38.342Z"
   },
   {
    "duration": 1129,
    "start_time": "2025-02-11T15:40:40.861Z"
   },
   {
    "duration": 1840,
    "start_time": "2025-02-11T15:40:41.992Z"
   },
   {
    "duration": 6,
    "start_time": "2025-02-11T15:40:43.833Z"
   },
   {
    "duration": 16,
    "start_time": "2025-02-11T15:40:43.841Z"
   },
   {
    "duration": 19,
    "start_time": "2025-02-11T15:40:43.858Z"
   },
   {
    "duration": 47,
    "start_time": "2025-02-11T15:40:43.878Z"
   },
   {
    "duration": 7,
    "start_time": "2025-02-11T15:40:43.927Z"
   },
   {
    "duration": 120,
    "start_time": "2025-02-11T15:40:43.936Z"
   },
   {
    "duration": 19,
    "start_time": "2025-02-11T15:40:44.058Z"
   },
   {
    "duration": 76,
    "start_time": "2025-02-11T15:40:44.078Z"
   },
   {
    "duration": 35,
    "start_time": "2025-02-11T15:40:44.155Z"
   },
   {
    "duration": 99,
    "start_time": "2025-02-11T15:40:44.192Z"
   },
   {
    "duration": 5,
    "start_time": "2025-02-11T15:40:44.294Z"
   },
   {
    "duration": 5,
    "start_time": "2025-02-11T15:40:44.300Z"
   },
   {
    "duration": 8,
    "start_time": "2025-02-11T15:40:44.306Z"
   },
   {
    "duration": 382,
    "start_time": "2025-02-11T15:40:44.315Z"
   },
   {
    "duration": 39,
    "start_time": "2025-02-11T15:40:44.699Z"
   },
   {
    "duration": 15,
    "start_time": "2025-02-11T15:40:44.739Z"
   },
   {
    "duration": 57,
    "start_time": "2025-02-11T15:40:44.756Z"
   },
   {
    "duration": 145,
    "start_time": "2025-02-11T15:40:44.814Z"
   },
   {
    "duration": 23,
    "start_time": "2025-02-11T15:40:44.961Z"
   },
   {
    "duration": 57,
    "start_time": "2025-02-11T15:40:44.985Z"
   },
   {
    "duration": 50,
    "start_time": "2025-02-11T15:40:45.044Z"
   },
   {
    "duration": 113,
    "start_time": "2025-02-11T15:40:45.096Z"
   },
   {
    "duration": 27,
    "start_time": "2025-02-11T15:40:45.211Z"
   },
   {
    "duration": 38,
    "start_time": "2025-02-11T15:40:45.240Z"
   },
   {
    "duration": 56,
    "start_time": "2025-02-11T15:40:45.280Z"
   },
   {
    "duration": 134,
    "start_time": "2025-02-11T15:40:45.337Z"
   },
   {
    "duration": 14,
    "start_time": "2025-02-11T15:40:45.473Z"
   },
   {
    "duration": 25,
    "start_time": "2025-02-11T15:40:45.488Z"
   },
   {
    "duration": 15,
    "start_time": "2025-02-11T15:40:45.515Z"
   },
   {
    "duration": 39,
    "start_time": "2025-02-11T15:40:45.532Z"
   },
   {
    "duration": 17,
    "start_time": "2025-02-11T15:40:45.572Z"
   },
   {
    "duration": 38,
    "start_time": "2025-02-11T15:40:45.591Z"
   },
   {
    "duration": 85,
    "start_time": "2025-02-11T15:40:45.630Z"
   },
   {
    "duration": 33,
    "start_time": "2025-02-11T15:40:45.717Z"
   },
   {
    "duration": 8,
    "start_time": "2025-02-11T15:40:45.751Z"
   },
   {
    "duration": 9,
    "start_time": "2025-02-11T15:40:45.760Z"
   },
   {
    "duration": 11,
    "start_time": "2025-02-11T15:40:45.770Z"
   },
   {
    "duration": 27,
    "start_time": "2025-02-11T15:40:45.787Z"
   },
   {
    "duration": 143,
    "start_time": "2025-02-11T15:40:45.816Z"
   },
   {
    "duration": 15,
    "start_time": "2025-02-11T15:40:45.961Z"
   },
   {
    "duration": 18,
    "start_time": "2025-02-11T15:40:45.977Z"
   },
   {
    "duration": 5,
    "start_time": "2025-02-11T15:40:45.997Z"
   },
   {
    "duration": 133,
    "start_time": "2025-02-11T15:40:46.003Z"
   },
   {
    "duration": 167,
    "start_time": "2025-02-11T15:40:46.137Z"
   },
   {
    "duration": 5,
    "start_time": "2025-02-11T15:40:46.305Z"
   },
   {
    "duration": 67,
    "start_time": "2025-02-11T15:40:46.311Z"
   },
   {
    "duration": 54,
    "start_time": "2025-02-11T15:40:46.380Z"
   },
   {
    "duration": 99,
    "start_time": "2025-02-11T15:40:46.435Z"
   },
   {
    "duration": 26,
    "start_time": "2025-02-11T15:40:46.536Z"
   },
   {
    "duration": 84,
    "start_time": "2025-02-11T15:40:46.563Z"
   },
   {
    "duration": 80,
    "start_time": "2025-02-11T15:40:46.648Z"
   },
   {
    "duration": 47,
    "start_time": "2025-02-11T15:40:46.729Z"
   },
   {
    "duration": 413,
    "start_time": "2025-02-11T15:40:46.778Z"
   },
   {
    "duration": 82,
    "start_time": "2025-02-11T15:40:47.193Z"
   },
   {
    "duration": 59,
    "start_time": "2025-02-11T15:40:47.277Z"
   },
   {
    "duration": 12,
    "start_time": "2025-02-11T15:40:47.338Z"
   },
   {
    "duration": 744,
    "start_time": "2025-02-11T15:40:47.351Z"
   },
   {
    "duration": 34,
    "start_time": "2025-02-11T15:40:48.096Z"
   },
   {
    "duration": 66,
    "start_time": "2025-02-11T15:40:48.132Z"
   },
   {
    "duration": 121,
    "start_time": "2025-02-11T15:40:48.200Z"
   },
   {
    "duration": 67,
    "start_time": "2025-02-11T15:40:48.323Z"
   },
   {
    "duration": 9,
    "start_time": "2025-02-11T15:40:48.392Z"
   },
   {
    "duration": 5,
    "start_time": "2025-02-11T15:40:48.402Z"
   },
   {
    "duration": 5,
    "start_time": "2025-02-11T15:40:48.408Z"
   },
   {
    "duration": 5,
    "start_time": "2025-02-11T15:40:48.415Z"
   },
   {
    "duration": 28,
    "start_time": "2025-02-11T15:40:48.422Z"
   },
   {
    "duration": 83,
    "start_time": "2025-02-11T15:40:48.452Z"
   },
   {
    "duration": 10,
    "start_time": "2025-02-11T15:40:48.536Z"
   },
   {
    "duration": 41,
    "start_time": "2025-02-11T15:40:48.548Z"
   },
   {
    "duration": 8,
    "start_time": "2025-02-11T15:40:48.591Z"
   },
   {
    "duration": 83,
    "start_time": "2025-02-11T15:40:48.601Z"
   },
   {
    "duration": 8,
    "start_time": "2025-02-11T15:40:48.686Z"
   },
   {
    "duration": 56,
    "start_time": "2025-02-11T15:40:48.695Z"
   },
   {
    "duration": 97,
    "start_time": "2025-02-11T15:40:48.753Z"
   },
   {
    "duration": 154,
    "start_time": "2025-02-11T15:40:48.851Z"
   },
   {
    "duration": 17,
    "start_time": "2025-02-11T15:40:49.007Z"
   },
   {
    "duration": 49,
    "start_time": "2025-02-11T15:40:49.026Z"
   },
   {
    "duration": 34,
    "start_time": "2025-02-11T15:40:49.077Z"
   },
   {
    "duration": 96,
    "start_time": "2025-02-11T15:40:49.113Z"
   },
   {
    "duration": 72,
    "start_time": "2025-02-11T15:40:49.210Z"
   },
   {
    "duration": 32,
    "start_time": "2025-02-11T15:40:49.284Z"
   },
   {
    "duration": 5,
    "start_time": "2025-02-11T15:40:49.317Z"
   },
   {
    "duration": 105,
    "start_time": "2025-02-11T15:40:49.324Z"
   },
   {
    "duration": 35,
    "start_time": "2025-02-11T15:40:49.431Z"
   },
   {
    "duration": 228,
    "start_time": "2025-02-11T15:40:49.468Z"
   },
   {
    "duration": 4,
    "start_time": "2025-02-11T15:40:49.698Z"
   },
   {
    "duration": 41,
    "start_time": "2025-02-11T15:40:49.703Z"
   },
   {
    "duration": 239,
    "start_time": "2025-02-11T15:40:49.746Z"
   },
   {
    "duration": 3,
    "start_time": "2025-02-11T15:40:49.987Z"
   },
   {
    "duration": 59,
    "start_time": "2025-02-11T15:40:49.992Z"
   },
   {
    "duration": 4,
    "start_time": "2025-02-11T15:40:50.052Z"
   },
   {
    "duration": 121,
    "start_time": "2025-02-11T15:40:50.058Z"
   },
   {
    "duration": 51,
    "start_time": "2025-02-11T15:40:50.182Z"
   },
   {
    "duration": 4,
    "start_time": "2025-02-11T15:40:50.235Z"
   },
   {
    "duration": 40,
    "start_time": "2025-02-11T15:40:50.240Z"
   },
   {
    "duration": 75,
    "start_time": "2025-02-11T15:40:50.282Z"
   },
   {
    "duration": 46,
    "start_time": "2025-02-11T15:40:50.359Z"
   },
   {
    "duration": 3,
    "start_time": "2025-02-11T15:40:50.406Z"
   },
   {
    "duration": 16,
    "start_time": "2025-02-11T15:40:50.410Z"
   },
   {
    "duration": 596,
    "start_time": "2025-02-11T15:40:50.428Z"
   },
   {
    "duration": 833,
    "start_time": "2025-02-11T15:40:51.026Z"
   },
   {
    "duration": 20,
    "start_time": "2025-02-11T15:40:51.861Z"
   },
   {
    "duration": 7,
    "start_time": "2025-02-11T15:40:51.882Z"
   },
   {
    "duration": 13,
    "start_time": "2025-02-11T15:40:51.891Z"
   },
   {
    "duration": 7,
    "start_time": "2025-02-11T15:40:51.906Z"
   },
   {
    "duration": 14,
    "start_time": "2025-02-11T15:40:51.914Z"
   },
   {
    "duration": 40,
    "start_time": "2025-02-11T15:40:51.930Z"
   },
   {
    "duration": 10,
    "start_time": "2025-02-11T15:40:51.972Z"
   },
   {
    "duration": 14,
    "start_time": "2025-02-11T15:40:51.984Z"
   },
   {
    "duration": 24,
    "start_time": "2025-02-11T15:40:52.000Z"
   },
   {
    "duration": 36,
    "start_time": "2025-02-11T15:40:52.026Z"
   },
   {
    "duration": 249,
    "start_time": "2025-02-11T15:40:52.064Z"
   },
   {
    "duration": 124,
    "start_time": "2025-02-11T15:40:52.315Z"
   },
   {
    "duration": 7,
    "start_time": "2025-02-11T15:40:52.440Z"
   },
   {
    "duration": 34,
    "start_time": "2025-02-11T15:40:52.449Z"
   },
   {
    "duration": 13,
    "start_time": "2025-02-11T15:40:52.485Z"
   },
   {
    "duration": 14,
    "start_time": "2025-02-11T15:40:52.499Z"
   },
   {
    "duration": 12,
    "start_time": "2025-02-11T15:40:52.514Z"
   },
   {
    "duration": 46,
    "start_time": "2025-02-11T15:40:52.533Z"
   },
   {
    "duration": 25,
    "start_time": "2025-02-11T15:40:52.580Z"
   },
   {
    "duration": 220,
    "start_time": "2025-02-11T15:40:52.607Z"
   },
   {
    "duration": 15,
    "start_time": "2025-02-11T15:40:52.829Z"
   },
   {
    "duration": 32,
    "start_time": "2025-02-11T15:40:52.846Z"
   },
   {
    "duration": 13,
    "start_time": "2025-02-11T15:40:52.881Z"
   },
   {
    "duration": 232,
    "start_time": "2025-02-11T15:40:52.895Z"
   },
   {
    "duration": 17,
    "start_time": "2025-02-11T15:40:53.130Z"
   },
   {
    "duration": 49,
    "start_time": "2025-02-11T15:40:53.149Z"
   },
   {
    "duration": 213,
    "start_time": "2025-02-11T15:40:53.200Z"
   },
   {
    "duration": 14,
    "start_time": "2025-02-11T15:40:53.415Z"
   },
   {
    "duration": 191,
    "start_time": "2025-02-11T15:40:53.431Z"
   }
  ],
  "colab": {
   "provenance": []
  },
  "kernelspec": {
   "display_name": "Python 3 (ipykernel)",
   "language": "python",
   "name": "python3"
  },
  "language_info": {
   "codemirror_mode": {
    "name": "ipython",
    "version": 3
   },
   "file_extension": ".py",
   "mimetype": "text/x-python",
   "name": "python",
   "nbconvert_exporter": "python",
   "pygments_lexer": "ipython3",
   "version": "3.11.4"
  },
  "toc": {
   "base_numbering": 1,
   "nav_menu": {},
   "number_sections": true,
   "sideBar": true,
   "skip_h1_title": true,
   "title_cell": "Table of Contents",
   "title_sidebar": "Contents",
   "toc_cell": false,
   "toc_position": {},
   "toc_section_display": true,
   "toc_window_display": false
  }
 },
 "nbformat": 4,
 "nbformat_minor": 4
}
